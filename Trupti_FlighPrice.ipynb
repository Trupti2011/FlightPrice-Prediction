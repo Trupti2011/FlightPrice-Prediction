{
 "cells": [
  {
   "cell_type": "code",
   "execution_count": 122,
   "id": "aa3be05e",
   "metadata": {},
   "outputs": [],
   "source": [
    "# Import Library and Dataset"
   ]
  },
  {
   "cell_type": "code",
   "execution_count": 123,
   "id": "78af66fc",
   "metadata": {},
   "outputs": [],
   "source": [
    "import pandas as pd\n",
    "import numpy as np\n",
    "import datetime as dt\n",
    "#Importing library for visualization\n",
    "import matplotlib.pyplot as plt\n",
    "import seaborn as sns\n",
    "%matplotlib inline\n",
    "#Filter the unwanted warning\n",
    "import warnings\n",
    "warnings.simplefilter(\"ignore\")\n",
    "#Importing library for splitting model into train and test and for data transformation\n",
    "from sklearn.model_selection import train_test_split\n",
    "from sklearn.metrics import r2_score,mean_squared_error,accuracy_score,recall_score,precision_score,confusion_matrix,roc_auc_score,classification_report"
   ]
  },
  {
   "cell_type": "code",
   "execution_count": 124,
   "id": "e8c2669c",
   "metadata": {},
   "outputs": [
    {
     "data": {
      "text/html": [
       "<div>\n",
       "<style scoped>\n",
       "    .dataframe tbody tr th:only-of-type {\n",
       "        vertical-align: middle;\n",
       "    }\n",
       "\n",
       "    .dataframe tbody tr th {\n",
       "        vertical-align: top;\n",
       "    }\n",
       "\n",
       "    .dataframe thead th {\n",
       "        text-align: right;\n",
       "    }\n",
       "</style>\n",
       "<table border=\"1\" class=\"dataframe\">\n",
       "  <thead>\n",
       "    <tr style=\"text-align: right;\">\n",
       "      <th></th>\n",
       "      <th>Airline</th>\n",
       "      <th>Date_of_Journey</th>\n",
       "      <th>Source</th>\n",
       "      <th>Destination</th>\n",
       "      <th>Route</th>\n",
       "      <th>Dep_Time</th>\n",
       "      <th>Arrival_Time</th>\n",
       "      <th>Duration</th>\n",
       "      <th>Total_Stops</th>\n",
       "      <th>Additional_Info</th>\n",
       "      <th>Price</th>\n",
       "    </tr>\n",
       "  </thead>\n",
       "  <tbody>\n",
       "    <tr>\n",
       "      <th>0</th>\n",
       "      <td>IndiGo</td>\n",
       "      <td>24/03/2019</td>\n",
       "      <td>Banglore</td>\n",
       "      <td>New Delhi</td>\n",
       "      <td>BLR → DEL</td>\n",
       "      <td>22:20</td>\n",
       "      <td>01:10 22 Mar</td>\n",
       "      <td>2h 50m</td>\n",
       "      <td>non-stop</td>\n",
       "      <td>No info</td>\n",
       "      <td>3897</td>\n",
       "    </tr>\n",
       "    <tr>\n",
       "      <th>1</th>\n",
       "      <td>Air India</td>\n",
       "      <td>1/05/2019</td>\n",
       "      <td>Kolkata</td>\n",
       "      <td>Banglore</td>\n",
       "      <td>CCU → IXR → BBI → BLR</td>\n",
       "      <td>05:50</td>\n",
       "      <td>13:15</td>\n",
       "      <td>7h 25m</td>\n",
       "      <td>2 stops</td>\n",
       "      <td>No info</td>\n",
       "      <td>7662</td>\n",
       "    </tr>\n",
       "    <tr>\n",
       "      <th>2</th>\n",
       "      <td>Jet Airways</td>\n",
       "      <td>9/06/2019</td>\n",
       "      <td>Delhi</td>\n",
       "      <td>Cochin</td>\n",
       "      <td>DEL → LKO → BOM → COK</td>\n",
       "      <td>09:25</td>\n",
       "      <td>04:25 10 Jun</td>\n",
       "      <td>19h</td>\n",
       "      <td>2 stops</td>\n",
       "      <td>No info</td>\n",
       "      <td>13882</td>\n",
       "    </tr>\n",
       "    <tr>\n",
       "      <th>3</th>\n",
       "      <td>IndiGo</td>\n",
       "      <td>12/05/2019</td>\n",
       "      <td>Kolkata</td>\n",
       "      <td>Banglore</td>\n",
       "      <td>CCU → NAG → BLR</td>\n",
       "      <td>18:05</td>\n",
       "      <td>23:30</td>\n",
       "      <td>5h 25m</td>\n",
       "      <td>1 stop</td>\n",
       "      <td>No info</td>\n",
       "      <td>6218</td>\n",
       "    </tr>\n",
       "    <tr>\n",
       "      <th>4</th>\n",
       "      <td>IndiGo</td>\n",
       "      <td>01/03/2019</td>\n",
       "      <td>Banglore</td>\n",
       "      <td>New Delhi</td>\n",
       "      <td>BLR → NAG → DEL</td>\n",
       "      <td>16:50</td>\n",
       "      <td>21:35</td>\n",
       "      <td>4h 45m</td>\n",
       "      <td>1 stop</td>\n",
       "      <td>No info</td>\n",
       "      <td>13302</td>\n",
       "    </tr>\n",
       "  </tbody>\n",
       "</table>\n",
       "</div>"
      ],
      "text/plain": [
       "       Airline Date_of_Journey    Source Destination                  Route  \\\n",
       "0       IndiGo      24/03/2019  Banglore   New Delhi              BLR → DEL   \n",
       "1    Air India       1/05/2019   Kolkata    Banglore  CCU → IXR → BBI → BLR   \n",
       "2  Jet Airways       9/06/2019     Delhi      Cochin  DEL → LKO → BOM → COK   \n",
       "3       IndiGo      12/05/2019   Kolkata    Banglore        CCU → NAG → BLR   \n",
       "4       IndiGo      01/03/2019  Banglore   New Delhi        BLR → NAG → DEL   \n",
       "\n",
       "  Dep_Time  Arrival_Time Duration Total_Stops Additional_Info  Price  \n",
       "0    22:20  01:10 22 Mar   2h 50m    non-stop         No info   3897  \n",
       "1    05:50         13:15   7h 25m     2 stops         No info   7662  \n",
       "2    09:25  04:25 10 Jun      19h     2 stops         No info  13882  \n",
       "3    18:05         23:30   5h 25m      1 stop         No info   6218  \n",
       "4    16:50         21:35   4h 45m      1 stop         No info  13302  "
      ]
     },
     "execution_count": 124,
     "metadata": {},
     "output_type": "execute_result"
    }
   ],
   "source": [
    "data=pd.read_excel(r\"C:\\Users\\TRUPTI\\Desktop\\Trupti_AdvMLExam\\Flight_Price_Train.xlsx\")\n",
    "data.head()"
   ]
  },
  {
   "cell_type": "markdown",
   "id": "fdeba990",
   "metadata": {},
   "source": [
    "# Feature Engineering"
   ]
  },
  {
   "cell_type": "code",
   "execution_count": 125,
   "id": "f0d70712",
   "metadata": {},
   "outputs": [
    {
     "data": {
      "text/html": [
       "<div>\n",
       "<style scoped>\n",
       "    .dataframe tbody tr th:only-of-type {\n",
       "        vertical-align: middle;\n",
       "    }\n",
       "\n",
       "    .dataframe tbody tr th {\n",
       "        vertical-align: top;\n",
       "    }\n",
       "\n",
       "    .dataframe thead th {\n",
       "        text-align: right;\n",
       "    }\n",
       "</style>\n",
       "<table border=\"1\" class=\"dataframe\">\n",
       "  <thead>\n",
       "    <tr style=\"text-align: right;\">\n",
       "      <th></th>\n",
       "      <th>Airline</th>\n",
       "      <th>Date_of_Journey</th>\n",
       "      <th>Source</th>\n",
       "      <th>Destination</th>\n",
       "      <th>Route</th>\n",
       "      <th>Dep_Time</th>\n",
       "      <th>Arrival_Time</th>\n",
       "      <th>Duration</th>\n",
       "      <th>Total_Stops</th>\n",
       "      <th>Additional_Info</th>\n",
       "      <th>Price</th>\n",
       "    </tr>\n",
       "  </thead>\n",
       "  <tbody>\n",
       "    <tr>\n",
       "      <th>0</th>\n",
       "      <td>IndiGo</td>\n",
       "      <td>24/03/2019</td>\n",
       "      <td>Banglore</td>\n",
       "      <td>New Delhi</td>\n",
       "      <td>BLR → DEL</td>\n",
       "      <td>22:20</td>\n",
       "      <td>01:10 22 Mar</td>\n",
       "      <td>2h 50m</td>\n",
       "      <td>non-stop</td>\n",
       "      <td>No info</td>\n",
       "      <td>3897</td>\n",
       "    </tr>\n",
       "    <tr>\n",
       "      <th>1</th>\n",
       "      <td>Air India</td>\n",
       "      <td>1/05/2019</td>\n",
       "      <td>Kolkata</td>\n",
       "      <td>Banglore</td>\n",
       "      <td>CCU → IXR → BBI → BLR</td>\n",
       "      <td>05:50</td>\n",
       "      <td>13:15</td>\n",
       "      <td>7h 25m</td>\n",
       "      <td>2 stops</td>\n",
       "      <td>No info</td>\n",
       "      <td>7662</td>\n",
       "    </tr>\n",
       "    <tr>\n",
       "      <th>2</th>\n",
       "      <td>Jet Airways</td>\n",
       "      <td>9/06/2019</td>\n",
       "      <td>Delhi</td>\n",
       "      <td>Cochin</td>\n",
       "      <td>DEL → LKO → BOM → COK</td>\n",
       "      <td>09:25</td>\n",
       "      <td>04:25 10 Jun</td>\n",
       "      <td>19h</td>\n",
       "      <td>2 stops</td>\n",
       "      <td>No info</td>\n",
       "      <td>13882</td>\n",
       "    </tr>\n",
       "    <tr>\n",
       "      <th>3</th>\n",
       "      <td>IndiGo</td>\n",
       "      <td>12/05/2019</td>\n",
       "      <td>Kolkata</td>\n",
       "      <td>Banglore</td>\n",
       "      <td>CCU → NAG → BLR</td>\n",
       "      <td>18:05</td>\n",
       "      <td>23:30</td>\n",
       "      <td>5h 25m</td>\n",
       "      <td>1 stop</td>\n",
       "      <td>No info</td>\n",
       "      <td>6218</td>\n",
       "    </tr>\n",
       "    <tr>\n",
       "      <th>4</th>\n",
       "      <td>IndiGo</td>\n",
       "      <td>01/03/2019</td>\n",
       "      <td>Banglore</td>\n",
       "      <td>New Delhi</td>\n",
       "      <td>BLR → NAG → DEL</td>\n",
       "      <td>16:50</td>\n",
       "      <td>21:35</td>\n",
       "      <td>4h 45m</td>\n",
       "      <td>1 stop</td>\n",
       "      <td>No info</td>\n",
       "      <td>13302</td>\n",
       "    </tr>\n",
       "  </tbody>\n",
       "</table>\n",
       "</div>"
      ],
      "text/plain": [
       "       Airline Date_of_Journey    Source Destination                  Route  \\\n",
       "0       IndiGo      24/03/2019  Banglore   New Delhi              BLR → DEL   \n",
       "1    Air India       1/05/2019   Kolkata    Banglore  CCU → IXR → BBI → BLR   \n",
       "2  Jet Airways       9/06/2019     Delhi      Cochin  DEL → LKO → BOM → COK   \n",
       "3       IndiGo      12/05/2019   Kolkata    Banglore        CCU → NAG → BLR   \n",
       "4       IndiGo      01/03/2019  Banglore   New Delhi        BLR → NAG → DEL   \n",
       "\n",
       "  Dep_Time  Arrival_Time Duration Total_Stops Additional_Info  Price  \n",
       "0    22:20  01:10 22 Mar   2h 50m    non-stop         No info   3897  \n",
       "1    05:50         13:15   7h 25m     2 stops         No info   7662  \n",
       "2    09:25  04:25 10 Jun      19h     2 stops         No info  13882  \n",
       "3    18:05         23:30   5h 25m      1 stop         No info   6218  \n",
       "4    16:50         21:35   4h 45m      1 stop         No info  13302  "
      ]
     },
     "execution_count": 125,
     "metadata": {},
     "output_type": "execute_result"
    }
   ],
   "source": [
    "# data Recodrs\n",
    "data.head()"
   ]
  },
  {
   "cell_type": "code",
   "execution_count": 126,
   "id": "4f7d89a9",
   "metadata": {},
   "outputs": [
    {
     "name": "stdout",
     "output_type": "stream",
     "text": [
      "Number of rows in Dataset : 10683\n",
      "Number of columns in Dataset : 11\n"
     ]
    }
   ],
   "source": [
    "# Shape of data\n",
    "\n",
    "print(\"Number of rows in Dataset :\",data.shape[0])\n",
    "print(\"Number of columns in Dataset :\",data.shape[1])"
   ]
  },
  {
   "cell_type": "code",
   "execution_count": 127,
   "id": "f0321ace",
   "metadata": {},
   "outputs": [
    {
     "name": "stdout",
     "output_type": "stream",
     "text": [
      "Statistical information for Flight Price :\n",
      "\n"
     ]
    },
    {
     "data": {
      "text/html": [
       "<div>\n",
       "<style scoped>\n",
       "    .dataframe tbody tr th:only-of-type {\n",
       "        vertical-align: middle;\n",
       "    }\n",
       "\n",
       "    .dataframe tbody tr th {\n",
       "        vertical-align: top;\n",
       "    }\n",
       "\n",
       "    .dataframe thead th {\n",
       "        text-align: right;\n",
       "    }\n",
       "</style>\n",
       "<table border=\"1\" class=\"dataframe\">\n",
       "  <thead>\n",
       "    <tr style=\"text-align: right;\">\n",
       "      <th></th>\n",
       "      <th>Price</th>\n",
       "    </tr>\n",
       "  </thead>\n",
       "  <tbody>\n",
       "    <tr>\n",
       "      <th>count</th>\n",
       "      <td>10683.000000</td>\n",
       "    </tr>\n",
       "    <tr>\n",
       "      <th>mean</th>\n",
       "      <td>9087.064121</td>\n",
       "    </tr>\n",
       "    <tr>\n",
       "      <th>std</th>\n",
       "      <td>4611.359167</td>\n",
       "    </tr>\n",
       "    <tr>\n",
       "      <th>min</th>\n",
       "      <td>1759.000000</td>\n",
       "    </tr>\n",
       "    <tr>\n",
       "      <th>25%</th>\n",
       "      <td>5277.000000</td>\n",
       "    </tr>\n",
       "    <tr>\n",
       "      <th>50%</th>\n",
       "      <td>8372.000000</td>\n",
       "    </tr>\n",
       "    <tr>\n",
       "      <th>75%</th>\n",
       "      <td>12373.000000</td>\n",
       "    </tr>\n",
       "    <tr>\n",
       "      <th>max</th>\n",
       "      <td>79512.000000</td>\n",
       "    </tr>\n",
       "  </tbody>\n",
       "</table>\n",
       "</div>"
      ],
      "text/plain": [
       "              Price\n",
       "count  10683.000000\n",
       "mean    9087.064121\n",
       "std     4611.359167\n",
       "min     1759.000000\n",
       "25%     5277.000000\n",
       "50%     8372.000000\n",
       "75%    12373.000000\n",
       "max    79512.000000"
      ]
     },
     "execution_count": 127,
     "metadata": {},
     "output_type": "execute_result"
    }
   ],
   "source": [
    "#statistical info\n",
    "print(\"Statistical information for Flight Price :\\n\") \n",
    "data.describe()"
   ]
  },
  {
   "cell_type": "code",
   "execution_count": 128,
   "id": "66fb4622",
   "metadata": {},
   "outputs": [
    {
     "name": "stdout",
     "output_type": "stream",
     "text": [
      "Statistical information of Categorical Data for Flight Price :\n",
      "\n"
     ]
    },
    {
     "data": {
      "text/html": [
       "<div>\n",
       "<style scoped>\n",
       "    .dataframe tbody tr th:only-of-type {\n",
       "        vertical-align: middle;\n",
       "    }\n",
       "\n",
       "    .dataframe tbody tr th {\n",
       "        vertical-align: top;\n",
       "    }\n",
       "\n",
       "    .dataframe thead th {\n",
       "        text-align: right;\n",
       "    }\n",
       "</style>\n",
       "<table border=\"1\" class=\"dataframe\">\n",
       "  <thead>\n",
       "    <tr style=\"text-align: right;\">\n",
       "      <th></th>\n",
       "      <th>Airline</th>\n",
       "      <th>Date_of_Journey</th>\n",
       "      <th>Source</th>\n",
       "      <th>Destination</th>\n",
       "      <th>Route</th>\n",
       "      <th>Dep_Time</th>\n",
       "      <th>Arrival_Time</th>\n",
       "      <th>Duration</th>\n",
       "      <th>Total_Stops</th>\n",
       "      <th>Additional_Info</th>\n",
       "    </tr>\n",
       "  </thead>\n",
       "  <tbody>\n",
       "    <tr>\n",
       "      <th>count</th>\n",
       "      <td>10683</td>\n",
       "      <td>10683</td>\n",
       "      <td>10683</td>\n",
       "      <td>10683</td>\n",
       "      <td>10682</td>\n",
       "      <td>10683</td>\n",
       "      <td>10683</td>\n",
       "      <td>10683</td>\n",
       "      <td>10682</td>\n",
       "      <td>10683</td>\n",
       "    </tr>\n",
       "    <tr>\n",
       "      <th>unique</th>\n",
       "      <td>12</td>\n",
       "      <td>44</td>\n",
       "      <td>5</td>\n",
       "      <td>6</td>\n",
       "      <td>128</td>\n",
       "      <td>222</td>\n",
       "      <td>1343</td>\n",
       "      <td>368</td>\n",
       "      <td>5</td>\n",
       "      <td>10</td>\n",
       "    </tr>\n",
       "    <tr>\n",
       "      <th>top</th>\n",
       "      <td>Jet Airways</td>\n",
       "      <td>18/05/2019</td>\n",
       "      <td>Delhi</td>\n",
       "      <td>Cochin</td>\n",
       "      <td>DEL → BOM → COK</td>\n",
       "      <td>18:55</td>\n",
       "      <td>19:00</td>\n",
       "      <td>2h 50m</td>\n",
       "      <td>1 stop</td>\n",
       "      <td>No info</td>\n",
       "    </tr>\n",
       "    <tr>\n",
       "      <th>freq</th>\n",
       "      <td>3849</td>\n",
       "      <td>504</td>\n",
       "      <td>4537</td>\n",
       "      <td>4537</td>\n",
       "      <td>2376</td>\n",
       "      <td>233</td>\n",
       "      <td>423</td>\n",
       "      <td>550</td>\n",
       "      <td>5625</td>\n",
       "      <td>8345</td>\n",
       "    </tr>\n",
       "  </tbody>\n",
       "</table>\n",
       "</div>"
      ],
      "text/plain": [
       "            Airline Date_of_Journey Source Destination            Route  \\\n",
       "count         10683           10683  10683       10683            10682   \n",
       "unique           12              44      5           6              128   \n",
       "top     Jet Airways      18/05/2019  Delhi      Cochin  DEL → BOM → COK   \n",
       "freq           3849             504   4537        4537             2376   \n",
       "\n",
       "       Dep_Time Arrival_Time Duration Total_Stops Additional_Info  \n",
       "count     10683        10683    10683       10682           10683  \n",
       "unique      222         1343      368           5              10  \n",
       "top       18:55        19:00   2h 50m      1 stop         No info  \n",
       "freq        233          423      550        5625            8345  "
      ]
     },
     "execution_count": 128,
     "metadata": {},
     "output_type": "execute_result"
    }
   ],
   "source": [
    "print(\"Statistical information of Categorical Data for Flight Price :\\n\")\n",
    "data.select_dtypes(object).describe()"
   ]
  },
  {
   "cell_type": "code",
   "execution_count": 129,
   "id": "9a09a08a",
   "metadata": {},
   "outputs": [
    {
     "name": "stdout",
     "output_type": "stream",
     "text": [
      "<class 'pandas.core.frame.DataFrame'>\n",
      "RangeIndex: 10683 entries, 0 to 10682\n",
      "Data columns (total 11 columns):\n",
      " #   Column           Non-Null Count  Dtype \n",
      "---  ------           --------------  ----- \n",
      " 0   Airline          10683 non-null  object\n",
      " 1   Date_of_Journey  10683 non-null  object\n",
      " 2   Source           10683 non-null  object\n",
      " 3   Destination      10683 non-null  object\n",
      " 4   Route            10682 non-null  object\n",
      " 5   Dep_Time         10683 non-null  object\n",
      " 6   Arrival_Time     10683 non-null  object\n",
      " 7   Duration         10683 non-null  object\n",
      " 8   Total_Stops      10682 non-null  object\n",
      " 9   Additional_Info  10683 non-null  object\n",
      " 10  Price            10683 non-null  int64 \n",
      "dtypes: int64(1), object(10)\n",
      "memory usage: 918.2+ KB\n"
     ]
    }
   ],
   "source": [
    "# Infomation about columns and datatype of dataset\n",
    "data.info()"
   ]
  },
  {
   "cell_type": "code",
   "execution_count": 130,
   "id": "7ac0f30d",
   "metadata": {},
   "outputs": [
    {
     "name": "stdout",
     "output_type": "stream",
     "text": [
      "Number of Null Values in Dataset:\n"
     ]
    },
    {
     "data": {
      "text/plain": [
       "Airline            0\n",
       "Date_of_Journey    0\n",
       "Source             0\n",
       "Destination        0\n",
       "Route              1\n",
       "Dep_Time           0\n",
       "Arrival_Time       0\n",
       "Duration           0\n",
       "Total_Stops        1\n",
       "Additional_Info    0\n",
       "Price              0\n",
       "dtype: int64"
      ]
     },
     "execution_count": 130,
     "metadata": {},
     "output_type": "execute_result"
    }
   ],
   "source": [
    "# Find Null Values\n",
    "print(\"Number of Null Values in Dataset:\")\n",
    "data.isnull().sum()"
   ]
  },
  {
   "cell_type": "code",
   "execution_count": 131,
   "id": "2365a180",
   "metadata": {},
   "outputs": [
    {
     "name": "stdout",
     "output_type": "stream",
     "text": [
      "After Dropping checking for Null Values :\n"
     ]
    },
    {
     "data": {
      "text/plain": [
       "Airline            0\n",
       "Date_of_Journey    0\n",
       "Source             0\n",
       "Destination        0\n",
       "Route              0\n",
       "Dep_Time           0\n",
       "Arrival_Time       0\n",
       "Duration           0\n",
       "Total_Stops        0\n",
       "Additional_Info    0\n",
       "Price              0\n",
       "dtype: int64"
      ]
     },
     "execution_count": 131,
     "metadata": {},
     "output_type": "execute_result"
    }
   ],
   "source": [
    "# Dropping null values\n",
    "data=data.dropna()\n",
    "print(\"After Dropping checking for Null Values :\")\n",
    "data.isnull().sum()"
   ]
  },
  {
   "cell_type": "code",
   "execution_count": 132,
   "id": "cf10c2f4",
   "metadata": {},
   "outputs": [
    {
     "name": "stdout",
     "output_type": "stream",
     "text": [
      "Number of Duplicates values : 220\n"
     ]
    }
   ],
   "source": [
    "# Duplicate Values\n",
    "print(\"Number of Duplicates values :\",data.duplicated().sum())"
   ]
  },
  {
   "cell_type": "code",
   "execution_count": 133,
   "id": "dd1d8e71",
   "metadata": {},
   "outputs": [
    {
     "name": "stdout",
     "output_type": "stream",
     "text": [
      "Number of Duplicates values after Dropping: 0\n"
     ]
    }
   ],
   "source": [
    "# Drop null Values\n",
    "data=data.drop_duplicates()\n",
    "print(\"Number of Duplicates values after Dropping:\",data.duplicated().sum())"
   ]
  },
  {
   "cell_type": "code",
   "execution_count": 134,
   "id": "c82d2d1e",
   "metadata": {},
   "outputs": [
    {
     "name": "stdout",
     "output_type": "stream",
     "text": [
      "Shape of Data after dropping.......\n",
      "Number of rows in Dataset : 10462\n",
      "Number of columns in Dataset : 11\n"
     ]
    }
   ],
   "source": [
    "print(\"Shape of Data after dropping.......\")\n",
    "print(\"Number of rows in Dataset :\",data.shape[0])\n",
    "print(\"Number of columns in Dataset :\",data.shape[1])"
   ]
  },
  {
   "cell_type": "code",
   "execution_count": 135,
   "id": "370a612e",
   "metadata": {},
   "outputs": [
    {
     "data": {
      "text/html": [
       "<div>\n",
       "<style scoped>\n",
       "    .dataframe tbody tr th:only-of-type {\n",
       "        vertical-align: middle;\n",
       "    }\n",
       "\n",
       "    .dataframe tbody tr th {\n",
       "        vertical-align: top;\n",
       "    }\n",
       "\n",
       "    .dataframe thead th {\n",
       "        text-align: right;\n",
       "    }\n",
       "</style>\n",
       "<table border=\"1\" class=\"dataframe\">\n",
       "  <thead>\n",
       "    <tr style=\"text-align: right;\">\n",
       "      <th></th>\n",
       "      <th>Airline</th>\n",
       "      <th>Date_of_Journey</th>\n",
       "      <th>Source</th>\n",
       "      <th>Destination</th>\n",
       "      <th>Route</th>\n",
       "      <th>Dep_Time</th>\n",
       "      <th>Arrival_Time</th>\n",
       "      <th>Duration</th>\n",
       "      <th>Total_Stops</th>\n",
       "      <th>Additional_Info</th>\n",
       "      <th>Price</th>\n",
       "    </tr>\n",
       "  </thead>\n",
       "  <tbody>\n",
       "    <tr>\n",
       "      <th>0</th>\n",
       "      <td>IndiGo</td>\n",
       "      <td>24/03/2019</td>\n",
       "      <td>Banglore</td>\n",
       "      <td>New Delhi</td>\n",
       "      <td>BLR → DEL</td>\n",
       "      <td>22:20</td>\n",
       "      <td>01:10 22 Mar</td>\n",
       "      <td>2h 50m</td>\n",
       "      <td>non-stop</td>\n",
       "      <td>No info</td>\n",
       "      <td>3897</td>\n",
       "    </tr>\n",
       "    <tr>\n",
       "      <th>1</th>\n",
       "      <td>Air India</td>\n",
       "      <td>1/05/2019</td>\n",
       "      <td>Kolkata</td>\n",
       "      <td>Banglore</td>\n",
       "      <td>CCU → IXR → BBI → BLR</td>\n",
       "      <td>05:50</td>\n",
       "      <td>13:15</td>\n",
       "      <td>7h 25m</td>\n",
       "      <td>2 stops</td>\n",
       "      <td>No info</td>\n",
       "      <td>7662</td>\n",
       "    </tr>\n",
       "  </tbody>\n",
       "</table>\n",
       "</div>"
      ],
      "text/plain": [
       "     Airline Date_of_Journey    Source Destination                  Route  \\\n",
       "0     IndiGo      24/03/2019  Banglore   New Delhi              BLR → DEL   \n",
       "1  Air India       1/05/2019   Kolkata    Banglore  CCU → IXR → BBI → BLR   \n",
       "\n",
       "  Dep_Time  Arrival_Time Duration Total_Stops Additional_Info  Price  \n",
       "0    22:20  01:10 22 Mar   2h 50m    non-stop         No info   3897  \n",
       "1    05:50         13:15   7h 25m     2 stops         No info   7662  "
      ]
     },
     "execution_count": 135,
     "metadata": {},
     "output_type": "execute_result"
    }
   ],
   "source": [
    "data.head(2)"
   ]
  },
  {
   "cell_type": "code",
   "execution_count": 136,
   "id": "c6ddbf45",
   "metadata": {},
   "outputs": [
    {
     "data": {
      "text/plain": [
       "<Axes: >"
      ]
     },
     "execution_count": 136,
     "metadata": {},
     "output_type": "execute_result"
    },
    {
     "data": {
      "image/png": "[encoded data removed]",
      "text/plain": [
       "<Figure size 640x480 with 1 Axes>"
      ]
     },
     "metadata": {},
     "output_type": "display_data"
    }
   ],
   "source": [
    "# Checking for ouliers\n",
    "sns.barplot(data)"
   ]
  },
  {
   "cell_type": "markdown",
   "id": "2ba5d9f7",
   "metadata": {},
   "source": [
    "# Extract Date,Month,Year from Date_of_journey"
   ]
  },
  {
   "cell_type": "code",
   "execution_count": 137,
   "id": "780e5c8e",
   "metadata": {},
   "outputs": [
    {
     "data": {
      "text/plain": [
       "dtype('O')"
      ]
     },
     "execution_count": 137,
     "metadata": {},
     "output_type": "execute_result"
    }
   ],
   "source": [
    "# finds the Data type of date column\n",
    "data['Date_of_Journey'].dtypes"
   ]
  },
  {
   "cell_type": "code",
   "execution_count": 138,
   "id": "2d5836f6",
   "metadata": {},
   "outputs": [],
   "source": [
    "# Convert Data type to date and time\n",
    "data['Date_of_Journey']=pd.to_datetime(data['Date_of_Journey'])"
   ]
  },
  {
   "cell_type": "code",
   "execution_count": 139,
   "id": "f229746b",
   "metadata": {},
   "outputs": [
    {
     "data": {
      "text/plain": [
       "Airline                    object\n",
       "Date_of_Journey    datetime64[ns]\n",
       "Source                     object\n",
       "Destination                object\n",
       "Route                      object\n",
       "Dep_Time                   object\n",
       "Arrival_Time               object\n",
       "Duration                   object\n",
       "Total_Stops                object\n",
       "Additional_Info            object\n",
       "Price                       int64\n",
       "dtype: object"
      ]
     },
     "execution_count": 139,
     "metadata": {},
     "output_type": "execute_result"
    }
   ],
   "source": [
    "data.dtypes"
   ]
  },
  {
   "cell_type": "code",
   "execution_count": 140,
   "id": "efcea526",
   "metadata": {},
   "outputs": [],
   "source": [
    "# Extract Date,Month,Year from Date_of_journey\n",
    "data['Date']=data['Date_of_Journey'].dt.day\n",
    "data['Month']=data['Date_of_Journey'].dt.month\n",
    "data['Year']=data['Date_of_Journey'].dt.year"
   ]
  },
  {
   "cell_type": "code",
   "execution_count": 141,
   "id": "464ad01e",
   "metadata": {},
   "outputs": [
    {
     "data": {
      "text/html": [
       "<div>\n",
       "<style scoped>\n",
       "    .dataframe tbody tr th:only-of-type {\n",
       "        vertical-align: middle;\n",
       "    }\n",
       "\n",
       "    .dataframe tbody tr th {\n",
       "        vertical-align: top;\n",
       "    }\n",
       "\n",
       "    .dataframe thead th {\n",
       "        text-align: right;\n",
       "    }\n",
       "</style>\n",
       "<table border=\"1\" class=\"dataframe\">\n",
       "  <thead>\n",
       "    <tr style=\"text-align: right;\">\n",
       "      <th></th>\n",
       "      <th>Airline</th>\n",
       "      <th>Date_of_Journey</th>\n",
       "      <th>Source</th>\n",
       "      <th>Destination</th>\n",
       "      <th>Route</th>\n",
       "      <th>Dep_Time</th>\n",
       "      <th>Arrival_Time</th>\n",
       "      <th>Duration</th>\n",
       "      <th>Total_Stops</th>\n",
       "      <th>Additional_Info</th>\n",
       "      <th>Price</th>\n",
       "      <th>Date</th>\n",
       "      <th>Month</th>\n",
       "      <th>Year</th>\n",
       "    </tr>\n",
       "  </thead>\n",
       "  <tbody>\n",
       "    <tr>\n",
       "      <th>0</th>\n",
       "      <td>IndiGo</td>\n",
       "      <td>2019-03-24</td>\n",
       "      <td>Banglore</td>\n",
       "      <td>New Delhi</td>\n",
       "      <td>BLR → DEL</td>\n",
       "      <td>22:20</td>\n",
       "      <td>01:10 22 Mar</td>\n",
       "      <td>2h 50m</td>\n",
       "      <td>non-stop</td>\n",
       "      <td>No info</td>\n",
       "      <td>3897</td>\n",
       "      <td>24</td>\n",
       "      <td>3</td>\n",
       "      <td>2019</td>\n",
       "    </tr>\n",
       "    <tr>\n",
       "      <th>1</th>\n",
       "      <td>Air India</td>\n",
       "      <td>2019-05-01</td>\n",
       "      <td>Kolkata</td>\n",
       "      <td>Banglore</td>\n",
       "      <td>CCU → IXR → BBI → BLR</td>\n",
       "      <td>05:50</td>\n",
       "      <td>13:15</td>\n",
       "      <td>7h 25m</td>\n",
       "      <td>2 stops</td>\n",
       "      <td>No info</td>\n",
       "      <td>7662</td>\n",
       "      <td>1</td>\n",
       "      <td>5</td>\n",
       "      <td>2019</td>\n",
       "    </tr>\n",
       "    <tr>\n",
       "      <th>2</th>\n",
       "      <td>Jet Airways</td>\n",
       "      <td>2019-06-09</td>\n",
       "      <td>Delhi</td>\n",
       "      <td>Cochin</td>\n",
       "      <td>DEL → LKO → BOM → COK</td>\n",
       "      <td>09:25</td>\n",
       "      <td>04:25 10 Jun</td>\n",
       "      <td>19h</td>\n",
       "      <td>2 stops</td>\n",
       "      <td>No info</td>\n",
       "      <td>13882</td>\n",
       "      <td>9</td>\n",
       "      <td>6</td>\n",
       "      <td>2019</td>\n",
       "    </tr>\n",
       "    <tr>\n",
       "      <th>3</th>\n",
       "      <td>IndiGo</td>\n",
       "      <td>2019-05-12</td>\n",
       "      <td>Kolkata</td>\n",
       "      <td>Banglore</td>\n",
       "      <td>CCU → NAG → BLR</td>\n",
       "      <td>18:05</td>\n",
       "      <td>23:30</td>\n",
       "      <td>5h 25m</td>\n",
       "      <td>1 stop</td>\n",
       "      <td>No info</td>\n",
       "      <td>6218</td>\n",
       "      <td>12</td>\n",
       "      <td>5</td>\n",
       "      <td>2019</td>\n",
       "    </tr>\n",
       "    <tr>\n",
       "      <th>4</th>\n",
       "      <td>IndiGo</td>\n",
       "      <td>2019-03-01</td>\n",
       "      <td>Banglore</td>\n",
       "      <td>New Delhi</td>\n",
       "      <td>BLR → NAG → DEL</td>\n",
       "      <td>16:50</td>\n",
       "      <td>21:35</td>\n",
       "      <td>4h 45m</td>\n",
       "      <td>1 stop</td>\n",
       "      <td>No info</td>\n",
       "      <td>13302</td>\n",
       "      <td>1</td>\n",
       "      <td>3</td>\n",
       "      <td>2019</td>\n",
       "    </tr>\n",
       "  </tbody>\n",
       "</table>\n",
       "</div>"
      ],
      "text/plain": [
       "       Airline Date_of_Journey    Source Destination                  Route  \\\n",
       "0       IndiGo      2019-03-24  Banglore   New Delhi              BLR → DEL   \n",
       "1    Air India      2019-05-01   Kolkata    Banglore  CCU → IXR → BBI → BLR   \n",
       "2  Jet Airways      2019-06-09     Delhi      Cochin  DEL → LKO → BOM → COK   \n",
       "3       IndiGo      2019-05-12   Kolkata    Banglore        CCU → NAG → BLR   \n",
       "4       IndiGo      2019-03-01  Banglore   New Delhi        BLR → NAG → DEL   \n",
       "\n",
       "  Dep_Time  Arrival_Time Duration Total_Stops Additional_Info  Price  Date  \\\n",
       "0    22:20  01:10 22 Mar   2h 50m    non-stop         No info   3897    24   \n",
       "1    05:50         13:15   7h 25m     2 stops         No info   7662     1   \n",
       "2    09:25  04:25 10 Jun      19h     2 stops         No info  13882     9   \n",
       "3    18:05         23:30   5h 25m      1 stop         No info   6218    12   \n",
       "4    16:50         21:35   4h 45m      1 stop         No info  13302     1   \n",
       "\n",
       "   Month  Year  \n",
       "0      3  2019  \n",
       "1      5  2019  \n",
       "2      6  2019  \n",
       "3      5  2019  \n",
       "4      3  2019  "
      ]
     },
     "execution_count": 141,
     "metadata": {},
     "output_type": "execute_result"
    }
   ],
   "source": [
    "# After Extracting Date, Month, year\n",
    "data.head()"
   ]
  },
  {
   "cell_type": "code",
   "execution_count": 142,
   "id": "99df26c4",
   "metadata": {},
   "outputs": [],
   "source": [
    "# Data Preprocessing /EDA"
   ]
  },
  {
   "cell_type": "code",
   "execution_count": 143,
   "id": "7deffa82",
   "metadata": {},
   "outputs": [
    {
     "data": {
      "text/plain": [
       "Airline\n",
       "Jet Airways                          3700\n",
       "IndiGo                               2043\n",
       "Air India                            1694\n",
       "Multiple carriers                    1196\n",
       "SpiceJet                              815\n",
       "Vistara                               478\n",
       "Air Asia                              319\n",
       "GoAir                                 194\n",
       "Multiple carriers Premium economy      13\n",
       "Jet Airways Business                    6\n",
       "Vistara Premium economy                 3\n",
       "Trujet                                  1\n",
       "Name: count, dtype: int64"
      ]
     },
     "execution_count": 143,
     "metadata": {},
     "output_type": "execute_result"
    }
   ],
   "source": [
    "# Most Preffered Airline\n",
    "data.Airline.value_counts()"
   ]
  },
  {
   "cell_type": "code",
   "execution_count": 144,
   "id": "9ef39a76",
   "metadata": {},
   "outputs": [
    {
     "data": {
      "text/plain": [
       "<Axes: ylabel='count'>"
      ]
     },
     "execution_count": 144,
     "metadata": {},
     "output_type": "execute_result"
    },
    {
     "data": {
      "image/png": "[encoded data removed]",
      "text/plain": [
       "<Figure size 700x700 with 1 Axes>"
      ]
     },
     "metadata": {},
     "output_type": "display_data"
    }
   ],
   "source": [
    "plt.figure(figsize=(7,7))\n",
    "data.Airline.value_counts().plot.pie(autopct=\"%.1f%%\")"
   ]
  },
  {
   "cell_type": "markdown",
   "id": "13bba983",
   "metadata": {},
   "source": [
    "# Jet Airways is the most preferred Airline which is 35.4 %"
   ]
  },
  {
   "cell_type": "code",
   "execution_count": 145,
   "id": "4333bf7e",
   "metadata": {},
   "outputs": [],
   "source": [
    "#  majority of the flights take off from source"
   ]
  },
  {
   "cell_type": "code",
   "execution_count": 146,
   "id": "cb1245f8",
   "metadata": {},
   "outputs": [
    {
     "data": {
      "text/html": [
       "<div>\n",
       "<style scoped>\n",
       "    .dataframe tbody tr th:only-of-type {\n",
       "        vertical-align: middle;\n",
       "    }\n",
       "\n",
       "    .dataframe tbody tr th {\n",
       "        vertical-align: top;\n",
       "    }\n",
       "\n",
       "    .dataframe thead th {\n",
       "        text-align: right;\n",
       "    }\n",
       "</style>\n",
       "<table border=\"1\" class=\"dataframe\">\n",
       "  <thead>\n",
       "    <tr style=\"text-align: right;\">\n",
       "      <th></th>\n",
       "      <th>Airline</th>\n",
       "      <th>Date_of_Journey</th>\n",
       "      <th>Source</th>\n",
       "      <th>Destination</th>\n",
       "      <th>Route</th>\n",
       "      <th>Dep_Time</th>\n",
       "      <th>Arrival_Time</th>\n",
       "      <th>Duration</th>\n",
       "      <th>Total_Stops</th>\n",
       "      <th>Additional_Info</th>\n",
       "      <th>Price</th>\n",
       "      <th>Date</th>\n",
       "      <th>Month</th>\n",
       "      <th>Year</th>\n",
       "    </tr>\n",
       "  </thead>\n",
       "  <tbody>\n",
       "    <tr>\n",
       "      <th>0</th>\n",
       "      <td>IndiGo</td>\n",
       "      <td>2019-03-24</td>\n",
       "      <td>Banglore</td>\n",
       "      <td>New Delhi</td>\n",
       "      <td>BLR → DEL</td>\n",
       "      <td>22:20</td>\n",
       "      <td>01:10 22 Mar</td>\n",
       "      <td>2h 50m</td>\n",
       "      <td>non-stop</td>\n",
       "      <td>No info</td>\n",
       "      <td>3897</td>\n",
       "      <td>24</td>\n",
       "      <td>3</td>\n",
       "      <td>2019</td>\n",
       "    </tr>\n",
       "    <tr>\n",
       "      <th>1</th>\n",
       "      <td>Air India</td>\n",
       "      <td>2019-05-01</td>\n",
       "      <td>Kolkata</td>\n",
       "      <td>Banglore</td>\n",
       "      <td>CCU → IXR → BBI → BLR</td>\n",
       "      <td>05:50</td>\n",
       "      <td>13:15</td>\n",
       "      <td>7h 25m</td>\n",
       "      <td>2 stops</td>\n",
       "      <td>No info</td>\n",
       "      <td>7662</td>\n",
       "      <td>1</td>\n",
       "      <td>5</td>\n",
       "      <td>2019</td>\n",
       "    </tr>\n",
       "  </tbody>\n",
       "</table>\n",
       "</div>"
      ],
      "text/plain": [
       "     Airline Date_of_Journey    Source Destination                  Route  \\\n",
       "0     IndiGo      2019-03-24  Banglore   New Delhi              BLR → DEL   \n",
       "1  Air India      2019-05-01   Kolkata    Banglore  CCU → IXR → BBI → BLR   \n",
       "\n",
       "  Dep_Time  Arrival_Time Duration Total_Stops Additional_Info  Price  Date  \\\n",
       "0    22:20  01:10 22 Mar   2h 50m    non-stop         No info   3897    24   \n",
       "1    05:50         13:15   7h 25m     2 stops         No info   7662     1   \n",
       "\n",
       "   Month  Year  \n",
       "0      3  2019  \n",
       "1      5  2019  "
      ]
     },
     "execution_count": 146,
     "metadata": {},
     "output_type": "execute_result"
    }
   ],
   "source": [
    "data.head(2)"
   ]
  },
  {
   "cell_type": "code",
   "execution_count": 147,
   "id": "4a23f997",
   "metadata": {},
   "outputs": [
    {
     "data": {
      "text/plain": [
       "Source\n",
       "Delhi       4345\n",
       "Kolkata     2860\n",
       "Banglore    2179\n",
       "Mumbai       697\n",
       "Chennai      381\n",
       "Name: count, dtype: int64"
      ]
     },
     "execution_count": 147,
     "metadata": {},
     "output_type": "execute_result"
    }
   ],
   "source": [
    "data.Source.value_counts()"
   ]
  },
  {
   "cell_type": "code",
   "execution_count": 148,
   "id": "35b93930",
   "metadata": {},
   "outputs": [
    {
     "data": {
      "text/plain": [
       "<Axes: ylabel='count'>"
      ]
     },
     "execution_count": 148,
     "metadata": {},
     "output_type": "execute_result"
    },
    {
     "data": {
      "image/png": "[encoded data removed]",
      "text/plain": [
       "<Figure size 640x480 with 1 Axes>"
      ]
     },
     "metadata": {},
     "output_type": "display_data"
    }
   ],
   "source": [
    "data.Source.value_counts().plot.pie(autopct=\"%.1f%%\")"
   ]
  },
  {
   "cell_type": "markdown",
   "id": "75d0a8d6",
   "metadata": {},
   "source": [
    "# Majority of the flights take off from source is DELHI which is 41.5%"
   ]
  },
  {
   "cell_type": "code",
   "execution_count": 149,
   "id": "4f04f5e9",
   "metadata": {},
   "outputs": [
    {
     "data": {
      "text/plain": [
       "Destination\n",
       "Cochin       4345\n",
       "Banglore     2860\n",
       "Delhi        1265\n",
       "New Delhi     914\n",
       "Hyderabad     697\n",
       "Kolkata       381\n",
       "Name: count, dtype: int64"
      ]
     },
     "execution_count": 149,
     "metadata": {},
     "output_type": "execute_result"
    }
   ],
   "source": [
    "#  maximum flights land in which destination\n",
    "data.Destination.value_counts()"
   ]
  },
  {
   "cell_type": "code",
   "execution_count": 150,
   "id": "4d6970f9",
   "metadata": {},
   "outputs": [
    {
     "data": {
      "text/plain": [
       "<Axes: ylabel='count'>"
      ]
     },
     "execution_count": 150,
     "metadata": {},
     "output_type": "execute_result"
    },
    {
     "data": {
      "image/png": "[encoded data removed]",
      "text/plain": [
       "<Figure size 640x480 with 1 Axes>"
      ]
     },
     "metadata": {},
     "output_type": "display_data"
    }
   ],
   "source": [
    "data.Destination.value_counts().plot.pie(autopct=\"%.1f%%\")"
   ]
  },
  {
   "cell_type": "markdown",
   "id": "89719b49",
   "metadata": {},
   "source": [
    "# Maximum flights land in COCHIN destination which is 41.5%"
   ]
  },
  {
   "cell_type": "code",
   "execution_count": 151,
   "id": "6e792bac",
   "metadata": {},
   "outputs": [],
   "source": [
    "# airline has the highest price"
   ]
  },
  {
   "cell_type": "code",
   "execution_count": 152,
   "id": "8150ce8b",
   "metadata": {},
   "outputs": [
    {
     "data": {
      "text/plain": [
       "<Axes: xlabel='Price', ylabel='Airline'>"
      ]
     },
     "execution_count": 152,
     "metadata": {},
     "output_type": "execute_result"
    },
    {
     "data": {
      "image/png": "[encoded data removed]",
      "text/plain": [
       "<Figure size 640x480 with 1 Axes>"
      ]
     },
     "metadata": {},
     "output_type": "display_data"
    }
   ],
   "source": [
    "sns.barplot(x=data['Price'],y=data['Airline'])"
   ]
  },
  {
   "cell_type": "markdown",
   "id": "f2ad257a",
   "metadata": {},
   "source": [
    "# Jet Airways business has Hightest price among all Airlines"
   ]
  },
  {
   "cell_type": "code",
   "execution_count": 153,
   "id": "ccc0f533",
   "metadata": {},
   "outputs": [],
   "source": [
    "#business class flights are high price or low and find only those flights which price is higher than 50k"
   ]
  },
  {
   "cell_type": "code",
   "execution_count": 154,
   "id": "02124994",
   "metadata": {},
   "outputs": [
    {
     "data": {
      "text/html": [
       "<div>\n",
       "<style scoped>\n",
       "    .dataframe tbody tr th:only-of-type {\n",
       "        vertical-align: middle;\n",
       "    }\n",
       "\n",
       "    .dataframe tbody tr th {\n",
       "        vertical-align: top;\n",
       "    }\n",
       "\n",
       "    .dataframe thead th {\n",
       "        text-align: right;\n",
       "    }\n",
       "</style>\n",
       "<table border=\"1\" class=\"dataframe\">\n",
       "  <thead>\n",
       "    <tr style=\"text-align: right;\">\n",
       "      <th></th>\n",
       "      <th>Airline</th>\n",
       "      <th>Date_of_Journey</th>\n",
       "      <th>Source</th>\n",
       "      <th>Destination</th>\n",
       "      <th>Route</th>\n",
       "      <th>Dep_Time</th>\n",
       "      <th>Arrival_Time</th>\n",
       "      <th>Duration</th>\n",
       "      <th>Total_Stops</th>\n",
       "      <th>Additional_Info</th>\n",
       "      <th>Price</th>\n",
       "      <th>Date</th>\n",
       "      <th>Month</th>\n",
       "      <th>Year</th>\n",
       "    </tr>\n",
       "  </thead>\n",
       "  <tbody>\n",
       "    <tr>\n",
       "      <th>0</th>\n",
       "      <td>IndiGo</td>\n",
       "      <td>2019-03-24</td>\n",
       "      <td>Banglore</td>\n",
       "      <td>New Delhi</td>\n",
       "      <td>BLR → DEL</td>\n",
       "      <td>22:20</td>\n",
       "      <td>01:10 22 Mar</td>\n",
       "      <td>2h 50m</td>\n",
       "      <td>non-stop</td>\n",
       "      <td>No info</td>\n",
       "      <td>3897</td>\n",
       "      <td>24</td>\n",
       "      <td>3</td>\n",
       "      <td>2019</td>\n",
       "    </tr>\n",
       "    <tr>\n",
       "      <th>1</th>\n",
       "      <td>Air India</td>\n",
       "      <td>2019-05-01</td>\n",
       "      <td>Kolkata</td>\n",
       "      <td>Banglore</td>\n",
       "      <td>CCU → IXR → BBI → BLR</td>\n",
       "      <td>05:50</td>\n",
       "      <td>13:15</td>\n",
       "      <td>7h 25m</td>\n",
       "      <td>2 stops</td>\n",
       "      <td>No info</td>\n",
       "      <td>7662</td>\n",
       "      <td>1</td>\n",
       "      <td>5</td>\n",
       "      <td>2019</td>\n",
       "    </tr>\n",
       "  </tbody>\n",
       "</table>\n",
       "</div>"
      ],
      "text/plain": [
       "     Airline Date_of_Journey    Source Destination                  Route  \\\n",
       "0     IndiGo      2019-03-24  Banglore   New Delhi              BLR → DEL   \n",
       "1  Air India      2019-05-01   Kolkata    Banglore  CCU → IXR → BBI → BLR   \n",
       "\n",
       "  Dep_Time  Arrival_Time Duration Total_Stops Additional_Info  Price  Date  \\\n",
       "0    22:20  01:10 22 Mar   2h 50m    non-stop         No info   3897    24   \n",
       "1    05:50         13:15   7h 25m     2 stops         No info   7662     1   \n",
       "\n",
       "   Month  Year  \n",
       "0      3  2019  \n",
       "1      5  2019  "
      ]
     },
     "execution_count": 154,
     "metadata": {},
     "output_type": "execute_result"
    }
   ],
   "source": [
    "data.head(2)"
   ]
  },
  {
   "cell_type": "code",
   "execution_count": 155,
   "id": "5767fc9d",
   "metadata": {},
   "outputs": [
    {
     "data": {
      "text/plain": [
       "Additional_Info\n",
       "No info                         8182\n",
       "In-flight meal not included     1926\n",
       "No check-in baggage included     318\n",
       "1 Long layover                    19\n",
       "Change airports                    7\n",
       "Business class                     4\n",
       "No Info                            3\n",
       "1 Short layover                    1\n",
       "Red-eye flight                     1\n",
       "2 Long layover                     1\n",
       "Name: count, dtype: int64"
      ]
     },
     "execution_count": 155,
     "metadata": {},
     "output_type": "execute_result"
    }
   ],
   "source": [
    "data.Additional_Info.value_counts()"
   ]
  },
  {
   "cell_type": "code",
   "execution_count": 156,
   "id": "33064306",
   "metadata": {},
   "outputs": [],
   "source": [
    "# There only one bussines class Flight which is jet Airwas business"
   ]
  },
  {
   "cell_type": "markdown",
   "id": "6c123b8e",
   "metadata": {},
   "source": [
    "# Business class flights with Low price "
   ]
  },
  {
   "cell_type": "code",
   "execution_count": 157,
   "id": "34ec73b5",
   "metadata": {},
   "outputs": [
    {
     "data": {
      "text/html": [
       "<div>\n",
       "<style scoped>\n",
       "    .dataframe tbody tr th:only-of-type {\n",
       "        vertical-align: middle;\n",
       "    }\n",
       "\n",
       "    .dataframe tbody tr th {\n",
       "        vertical-align: top;\n",
       "    }\n",
       "\n",
       "    .dataframe thead th {\n",
       "        text-align: right;\n",
       "    }\n",
       "</style>\n",
       "<table border=\"1\" class=\"dataframe\">\n",
       "  <thead>\n",
       "    <tr style=\"text-align: right;\">\n",
       "      <th></th>\n",
       "      <th>Airline</th>\n",
       "      <th>Date_of_Journey</th>\n",
       "      <th>Source</th>\n",
       "      <th>Destination</th>\n",
       "      <th>Route</th>\n",
       "      <th>Dep_Time</th>\n",
       "      <th>Arrival_Time</th>\n",
       "      <th>Duration</th>\n",
       "      <th>Total_Stops</th>\n",
       "      <th>Additional_Info</th>\n",
       "      <th>Price</th>\n",
       "      <th>Date</th>\n",
       "      <th>Month</th>\n",
       "      <th>Year</th>\n",
       "    </tr>\n",
       "  </thead>\n",
       "  <tbody>\n",
       "    <tr>\n",
       "      <th>3032</th>\n",
       "      <td>Jet Airways</td>\n",
       "      <td>2019-03-01</td>\n",
       "      <td>Banglore</td>\n",
       "      <td>New Delhi</td>\n",
       "      <td>BLR → BDQ → DEL</td>\n",
       "      <td>05:50</td>\n",
       "      <td>12:20</td>\n",
       "      <td>6h 30m</td>\n",
       "      <td>1 stop</td>\n",
       "      <td>Business class</td>\n",
       "      <td>28097</td>\n",
       "      <td>1</td>\n",
       "      <td>3</td>\n",
       "      <td>2019</td>\n",
       "    </tr>\n",
       "    <tr>\n",
       "      <th>7351</th>\n",
       "      <td>Jet Airways Business</td>\n",
       "      <td>2019-03-03</td>\n",
       "      <td>Delhi</td>\n",
       "      <td>Cochin</td>\n",
       "      <td>DEL → ATQ → BOM → COK</td>\n",
       "      <td>20:05</td>\n",
       "      <td>04:25 04 Mar</td>\n",
       "      <td>8h 20m</td>\n",
       "      <td>2 stops</td>\n",
       "      <td>No info</td>\n",
       "      <td>46490</td>\n",
       "      <td>3</td>\n",
       "      <td>3</td>\n",
       "      <td>2019</td>\n",
       "    </tr>\n",
       "  </tbody>\n",
       "</table>\n",
       "</div>"
      ],
      "text/plain": [
       "                   Airline Date_of_Journey    Source Destination  \\\n",
       "3032           Jet Airways      2019-03-01  Banglore   New Delhi   \n",
       "7351  Jet Airways Business      2019-03-03     Delhi      Cochin   \n",
       "\n",
       "                      Route Dep_Time  Arrival_Time Duration Total_Stops  \\\n",
       "3032        BLR → BDQ → DEL    05:50         12:20   6h 30m      1 stop   \n",
       "7351  DEL → ATQ → BOM → COK    20:05  04:25 04 Mar   8h 20m     2 stops   \n",
       "\n",
       "     Additional_Info  Price  Date  Month  Year  \n",
       "3032  Business class  28097     1      3  2019  \n",
       "7351         No info  46490     3      3  2019  "
      ]
     },
     "execution_count": 157,
     "metadata": {},
     "output_type": "execute_result"
    }
   ],
   "source": [
    "data[((data['Airline']=='Jet Airways Business') | (data['Additional_Info']=='Business class')) & (data['Price'] < 50000)]"
   ]
  },
  {
   "cell_type": "markdown",
   "id": "f6115a6d",
   "metadata": {},
   "source": [
    "# Business class flights with high price which is higher than 50k"
   ]
  },
  {
   "cell_type": "code",
   "execution_count": 158,
   "id": "13a7468d",
   "metadata": {},
   "outputs": [
    {
     "data": {
      "text/html": [
       "<div>\n",
       "<style scoped>\n",
       "    .dataframe tbody tr th:only-of-type {\n",
       "        vertical-align: middle;\n",
       "    }\n",
       "\n",
       "    .dataframe tbody tr th {\n",
       "        vertical-align: top;\n",
       "    }\n",
       "\n",
       "    .dataframe thead th {\n",
       "        text-align: right;\n",
       "    }\n",
       "</style>\n",
       "<table border=\"1\" class=\"dataframe\">\n",
       "  <thead>\n",
       "    <tr style=\"text-align: right;\">\n",
       "      <th></th>\n",
       "      <th>Airline</th>\n",
       "      <th>Date_of_Journey</th>\n",
       "      <th>Source</th>\n",
       "      <th>Destination</th>\n",
       "      <th>Route</th>\n",
       "      <th>Dep_Time</th>\n",
       "      <th>Arrival_Time</th>\n",
       "      <th>Duration</th>\n",
       "      <th>Total_Stops</th>\n",
       "      <th>Additional_Info</th>\n",
       "      <th>Price</th>\n",
       "      <th>Date</th>\n",
       "      <th>Month</th>\n",
       "      <th>Year</th>\n",
       "    </tr>\n",
       "  </thead>\n",
       "  <tbody>\n",
       "    <tr>\n",
       "      <th>657</th>\n",
       "      <td>Jet Airways Business</td>\n",
       "      <td>2019-03-01</td>\n",
       "      <td>Banglore</td>\n",
       "      <td>New Delhi</td>\n",
       "      <td>BLR → BOM → DEL</td>\n",
       "      <td>05:45</td>\n",
       "      <td>10:45</td>\n",
       "      <td>5h</td>\n",
       "      <td>1 stop</td>\n",
       "      <td>No info</td>\n",
       "      <td>52229</td>\n",
       "      <td>1</td>\n",
       "      <td>3</td>\n",
       "      <td>2019</td>\n",
       "    </tr>\n",
       "    <tr>\n",
       "      <th>2924</th>\n",
       "      <td>Jet Airways Business</td>\n",
       "      <td>2019-03-01</td>\n",
       "      <td>Banglore</td>\n",
       "      <td>New Delhi</td>\n",
       "      <td>BLR → BOM → DEL</td>\n",
       "      <td>05:45</td>\n",
       "      <td>11:25</td>\n",
       "      <td>5h 40m</td>\n",
       "      <td>1 stop</td>\n",
       "      <td>Business class</td>\n",
       "      <td>79512</td>\n",
       "      <td>1</td>\n",
       "      <td>3</td>\n",
       "      <td>2019</td>\n",
       "    </tr>\n",
       "    <tr>\n",
       "      <th>5372</th>\n",
       "      <td>Jet Airways Business</td>\n",
       "      <td>2019-03-01</td>\n",
       "      <td>Banglore</td>\n",
       "      <td>New Delhi</td>\n",
       "      <td>BLR → BOM → DEL</td>\n",
       "      <td>05:45</td>\n",
       "      <td>12:25</td>\n",
       "      <td>6h 40m</td>\n",
       "      <td>1 stop</td>\n",
       "      <td>Business class</td>\n",
       "      <td>62427</td>\n",
       "      <td>1</td>\n",
       "      <td>3</td>\n",
       "      <td>2019</td>\n",
       "    </tr>\n",
       "    <tr>\n",
       "      <th>9715</th>\n",
       "      <td>Jet Airways Business</td>\n",
       "      <td>2019-03-06</td>\n",
       "      <td>Delhi</td>\n",
       "      <td>Cochin</td>\n",
       "      <td>DEL → ATQ → BOM → COK</td>\n",
       "      <td>20:05</td>\n",
       "      <td>04:25 07 Mar</td>\n",
       "      <td>8h 20m</td>\n",
       "      <td>2 stops</td>\n",
       "      <td>No info</td>\n",
       "      <td>52285</td>\n",
       "      <td>6</td>\n",
       "      <td>3</td>\n",
       "      <td>2019</td>\n",
       "    </tr>\n",
       "    <tr>\n",
       "      <th>10364</th>\n",
       "      <td>Jet Airways Business</td>\n",
       "      <td>2019-03-01</td>\n",
       "      <td>Banglore</td>\n",
       "      <td>New Delhi</td>\n",
       "      <td>BLR → MAA → DEL</td>\n",
       "      <td>09:45</td>\n",
       "      <td>14:25</td>\n",
       "      <td>4h 40m</td>\n",
       "      <td>1 stop</td>\n",
       "      <td>Business class</td>\n",
       "      <td>57209</td>\n",
       "      <td>1</td>\n",
       "      <td>3</td>\n",
       "      <td>2019</td>\n",
       "    </tr>\n",
       "  </tbody>\n",
       "</table>\n",
       "</div>"
      ],
      "text/plain": [
       "                    Airline Date_of_Journey    Source Destination  \\\n",
       "657    Jet Airways Business      2019-03-01  Banglore   New Delhi   \n",
       "2924   Jet Airways Business      2019-03-01  Banglore   New Delhi   \n",
       "5372   Jet Airways Business      2019-03-01  Banglore   New Delhi   \n",
       "9715   Jet Airways Business      2019-03-06     Delhi      Cochin   \n",
       "10364  Jet Airways Business      2019-03-01  Banglore   New Delhi   \n",
       "\n",
       "                       Route Dep_Time  Arrival_Time Duration Total_Stops  \\\n",
       "657          BLR → BOM → DEL    05:45         10:45       5h      1 stop   \n",
       "2924         BLR → BOM → DEL    05:45         11:25   5h 40m      1 stop   \n",
       "5372         BLR → BOM → DEL    05:45         12:25   6h 40m      1 stop   \n",
       "9715   DEL → ATQ → BOM → COK    20:05  04:25 07 Mar   8h 20m     2 stops   \n",
       "10364        BLR → MAA → DEL    09:45         14:25   4h 40m      1 stop   \n",
       "\n",
       "      Additional_Info  Price  Date  Month  Year  \n",
       "657           No info  52229     1      3  2019  \n",
       "2924   Business class  79512     1      3  2019  \n",
       "5372   Business class  62427     1      3  2019  \n",
       "9715          No info  52285     6      3  2019  \n",
       "10364  Business class  57209     1      3  2019  "
      ]
     },
     "execution_count": 158,
     "metadata": {},
     "output_type": "execute_result"
    }
   ],
   "source": [
    "data[((data['Airline']=='Jet Airways Business') | (data['Additional_Info']=='Business class')) & (data['Price'] > 50000)]"
   ]
  },
  {
   "cell_type": "code",
   "execution_count": 159,
   "id": "9cc23787",
   "metadata": {},
   "outputs": [
    {
     "data": {
      "text/plain": [
       "Airline                    object\n",
       "Date_of_Journey    datetime64[ns]\n",
       "Source                     object\n",
       "Destination                object\n",
       "Route                      object\n",
       "Dep_Time                   object\n",
       "Arrival_Time               object\n",
       "Duration                   object\n",
       "Total_Stops                object\n",
       "Additional_Info            object\n",
       "Price                       int64\n",
       "Date                        int32\n",
       "Month                       int32\n",
       "Year                        int32\n",
       "dtype: object"
      ]
     },
     "execution_count": 159,
     "metadata": {},
     "output_type": "execute_result"
    }
   ],
   "source": [
    "data.dtypes"
   ]
  },
  {
   "cell_type": "code",
   "execution_count": 160,
   "id": "5481171d",
   "metadata": {},
   "outputs": [],
   "source": [
    "#converting time "
   ]
  },
  {
   "cell_type": "code",
   "execution_count": 161,
   "id": "c6ee5450",
   "metadata": {},
   "outputs": [],
   "source": [
    "data['Duration']=pd.to_timedelta(data['Duration'])"
   ]
  },
  {
   "cell_type": "code",
   "execution_count": 162,
   "id": "de526bd4",
   "metadata": {},
   "outputs": [],
   "source": [
    "data['Duration_hour']=data['Duration']/pd.Timedelta(hours=1)"
   ]
  },
  {
   "cell_type": "code",
   "execution_count": 163,
   "id": "4d47579e",
   "metadata": {},
   "outputs": [],
   "source": [
    "data['Arrival_Hour']=pd.to_datetime(data['Arrival_Time']).dt.hour\n",
    "data['Arrival_Minute']=pd.to_datetime(data['Arrival_Time']).dt.minute\n",
    "data['Dep_Hour']=pd.to_datetime(data['Dep_Time']).dt.hour\n",
    "data['Dep_Minute']=pd.to_datetime(data['Dep_Time']).dt.minute\n"
   ]
  },
  {
   "cell_type": "code",
   "execution_count": 164,
   "id": "5f51a451",
   "metadata": {},
   "outputs": [
    {
     "data": {
      "text/plain": [
       "Airline                     object\n",
       "Date_of_Journey     datetime64[ns]\n",
       "Source                      object\n",
       "Destination                 object\n",
       "Route                       object\n",
       "Dep_Time                    object\n",
       "Arrival_Time                object\n",
       "Duration           timedelta64[ns]\n",
       "Total_Stops                 object\n",
       "Additional_Info             object\n",
       "Price                        int64\n",
       "Date                         int32\n",
       "Month                        int32\n",
       "Year                         int32\n",
       "Duration_hour              float64\n",
       "Arrival_Hour                 int32\n",
       "Arrival_Minute               int32\n",
       "Dep_Hour                     int32\n",
       "Dep_Minute                   int32\n",
       "dtype: object"
      ]
     },
     "execution_count": 164,
     "metadata": {},
     "output_type": "execute_result"
    }
   ],
   "source": [
    "data.dtypes"
   ]
  },
  {
   "cell_type": "code",
   "execution_count": 165,
   "id": "270ba30e",
   "metadata": {},
   "outputs": [
    {
     "data": {
      "text/html": [
       "<div>\n",
       "<style scoped>\n",
       "    .dataframe tbody tr th:only-of-type {\n",
       "        vertical-align: middle;\n",
       "    }\n",
       "\n",
       "    .dataframe tbody tr th {\n",
       "        vertical-align: top;\n",
       "    }\n",
       "\n",
       "    .dataframe thead th {\n",
       "        text-align: right;\n",
       "    }\n",
       "</style>\n",
       "<table border=\"1\" class=\"dataframe\">\n",
       "  <thead>\n",
       "    <tr style=\"text-align: right;\">\n",
       "      <th></th>\n",
       "      <th>Airline</th>\n",
       "      <th>Date_of_Journey</th>\n",
       "      <th>Source</th>\n",
       "      <th>Destination</th>\n",
       "      <th>Route</th>\n",
       "      <th>Total_Stops</th>\n",
       "      <th>Additional_Info</th>\n",
       "      <th>Price</th>\n",
       "      <th>Date</th>\n",
       "      <th>Month</th>\n",
       "      <th>Year</th>\n",
       "      <th>Duration_hour</th>\n",
       "      <th>Arrival_Hour</th>\n",
       "      <th>Arrival_Minute</th>\n",
       "      <th>Dep_Hour</th>\n",
       "      <th>Dep_Minute</th>\n",
       "    </tr>\n",
       "  </thead>\n",
       "  <tbody>\n",
       "    <tr>\n",
       "      <th>0</th>\n",
       "      <td>IndiGo</td>\n",
       "      <td>2019-03-24</td>\n",
       "      <td>Banglore</td>\n",
       "      <td>New Delhi</td>\n",
       "      <td>BLR → DEL</td>\n",
       "      <td>non-stop</td>\n",
       "      <td>No info</td>\n",
       "      <td>3897</td>\n",
       "      <td>24</td>\n",
       "      <td>3</td>\n",
       "      <td>2019</td>\n",
       "      <td>2.833333</td>\n",
       "      <td>1</td>\n",
       "      <td>10</td>\n",
       "      <td>22</td>\n",
       "      <td>20</td>\n",
       "    </tr>\n",
       "    <tr>\n",
       "      <th>1</th>\n",
       "      <td>Air India</td>\n",
       "      <td>2019-05-01</td>\n",
       "      <td>Kolkata</td>\n",
       "      <td>Banglore</td>\n",
       "      <td>CCU → IXR → BBI → BLR</td>\n",
       "      <td>2 stops</td>\n",
       "      <td>No info</td>\n",
       "      <td>7662</td>\n",
       "      <td>1</td>\n",
       "      <td>5</td>\n",
       "      <td>2019</td>\n",
       "      <td>7.416667</td>\n",
       "      <td>13</td>\n",
       "      <td>15</td>\n",
       "      <td>5</td>\n",
       "      <td>50</td>\n",
       "    </tr>\n",
       "    <tr>\n",
       "      <th>2</th>\n",
       "      <td>Jet Airways</td>\n",
       "      <td>2019-06-09</td>\n",
       "      <td>Delhi</td>\n",
       "      <td>Cochin</td>\n",
       "      <td>DEL → LKO → BOM → COK</td>\n",
       "      <td>2 stops</td>\n",
       "      <td>No info</td>\n",
       "      <td>13882</td>\n",
       "      <td>9</td>\n",
       "      <td>6</td>\n",
       "      <td>2019</td>\n",
       "      <td>19.000000</td>\n",
       "      <td>4</td>\n",
       "      <td>25</td>\n",
       "      <td>9</td>\n",
       "      <td>25</td>\n",
       "    </tr>\n",
       "  </tbody>\n",
       "</table>\n",
       "</div>"
      ],
      "text/plain": [
       "       Airline Date_of_Journey    Source Destination                  Route  \\\n",
       "0       IndiGo      2019-03-24  Banglore   New Delhi              BLR → DEL   \n",
       "1    Air India      2019-05-01   Kolkata    Banglore  CCU → IXR → BBI → BLR   \n",
       "2  Jet Airways      2019-06-09     Delhi      Cochin  DEL → LKO → BOM → COK   \n",
       "\n",
       "  Total_Stops Additional_Info  Price  Date  Month  Year  Duration_hour  \\\n",
       "0    non-stop         No info   3897    24      3  2019       2.833333   \n",
       "1     2 stops         No info   7662     1      5  2019       7.416667   \n",
       "2     2 stops         No info  13882     9      6  2019      19.000000   \n",
       "\n",
       "   Arrival_Hour  Arrival_Minute  Dep_Hour  Dep_Minute  \n",
       "0             1              10        22          20  \n",
       "1            13              15         5          50  \n",
       "2             4              25         9          25  "
      ]
     },
     "execution_count": 165,
     "metadata": {},
     "output_type": "execute_result"
    }
   ],
   "source": [
    "data=data.drop(['Arrival_Time','Dep_Time','Duration'],axis=1)\n",
    "data.head(3)"
   ]
  },
  {
   "cell_type": "markdown",
   "id": "da29ecae",
   "metadata": {},
   "source": [
    "# Perform Encoding"
   ]
  },
  {
   "cell_type": "code",
   "execution_count": 166,
   "id": "c4304c90",
   "metadata": {},
   "outputs": [
    {
     "data": {
      "text/html": [
       "<div>\n",
       "<style scoped>\n",
       "    .dataframe tbody tr th:only-of-type {\n",
       "        vertical-align: middle;\n",
       "    }\n",
       "\n",
       "    .dataframe tbody tr th {\n",
       "        vertical-align: top;\n",
       "    }\n",
       "\n",
       "    .dataframe thead th {\n",
       "        text-align: right;\n",
       "    }\n",
       "</style>\n",
       "<table border=\"1\" class=\"dataframe\">\n",
       "  <thead>\n",
       "    <tr style=\"text-align: right;\">\n",
       "      <th></th>\n",
       "      <th>Price</th>\n",
       "      <th>Date</th>\n",
       "      <th>Month</th>\n",
       "      <th>Year</th>\n",
       "      <th>Duration_hour</th>\n",
       "      <th>Arrival_Hour</th>\n",
       "      <th>Arrival_Minute</th>\n",
       "      <th>Dep_Hour</th>\n",
       "      <th>Dep_Minute</th>\n",
       "    </tr>\n",
       "  </thead>\n",
       "  <tbody>\n",
       "    <tr>\n",
       "      <th>0</th>\n",
       "      <td>3897</td>\n",
       "      <td>24</td>\n",
       "      <td>3</td>\n",
       "      <td>2019</td>\n",
       "      <td>2.833333</td>\n",
       "      <td>1</td>\n",
       "      <td>10</td>\n",
       "      <td>22</td>\n",
       "      <td>20</td>\n",
       "    </tr>\n",
       "    <tr>\n",
       "      <th>1</th>\n",
       "      <td>7662</td>\n",
       "      <td>1</td>\n",
       "      <td>5</td>\n",
       "      <td>2019</td>\n",
       "      <td>7.416667</td>\n",
       "      <td>13</td>\n",
       "      <td>15</td>\n",
       "      <td>5</td>\n",
       "      <td>50</td>\n",
       "    </tr>\n",
       "    <tr>\n",
       "      <th>2</th>\n",
       "      <td>13882</td>\n",
       "      <td>9</td>\n",
       "      <td>6</td>\n",
       "      <td>2019</td>\n",
       "      <td>19.000000</td>\n",
       "      <td>4</td>\n",
       "      <td>25</td>\n",
       "      <td>9</td>\n",
       "      <td>25</td>\n",
       "    </tr>\n",
       "  </tbody>\n",
       "</table>\n",
       "</div>"
      ],
      "text/plain": [
       "   Price  Date  Month  Year  Duration_hour  Arrival_Hour  Arrival_Minute  \\\n",
       "0   3897    24      3  2019       2.833333             1              10   \n",
       "1   7662     1      5  2019       7.416667            13              15   \n",
       "2  13882     9      6  2019      19.000000             4              25   \n",
       "\n",
       "   Dep_Hour  Dep_Minute  \n",
       "0        22          20  \n",
       "1         5          50  \n",
       "2         9          25  "
      ]
     },
     "execution_count": 166,
     "metadata": {},
     "output_type": "execute_result"
    }
   ],
   "source": [
    "Numeric=data.select_dtypes(include=[np.number])\n",
    "Numeric.head(3)"
   ]
  },
  {
   "cell_type": "code",
   "execution_count": 167,
   "id": "787e62fa",
   "metadata": {},
   "outputs": [
    {
     "data": {
      "text/html": [
       "<div>\n",
       "<style scoped>\n",
       "    .dataframe tbody tr th:only-of-type {\n",
       "        vertical-align: middle;\n",
       "    }\n",
       "\n",
       "    .dataframe tbody tr th {\n",
       "        vertical-align: top;\n",
       "    }\n",
       "\n",
       "    .dataframe thead th {\n",
       "        text-align: right;\n",
       "    }\n",
       "</style>\n",
       "<table border=\"1\" class=\"dataframe\">\n",
       "  <thead>\n",
       "    <tr style=\"text-align: right;\">\n",
       "      <th></th>\n",
       "      <th>Airline</th>\n",
       "      <th>Source</th>\n",
       "      <th>Destination</th>\n",
       "      <th>Route</th>\n",
       "      <th>Total_Stops</th>\n",
       "      <th>Additional_Info</th>\n",
       "    </tr>\n",
       "  </thead>\n",
       "  <tbody>\n",
       "    <tr>\n",
       "      <th>0</th>\n",
       "      <td>IndiGo</td>\n",
       "      <td>Banglore</td>\n",
       "      <td>New Delhi</td>\n",
       "      <td>BLR → DEL</td>\n",
       "      <td>non-stop</td>\n",
       "      <td>No info</td>\n",
       "    </tr>\n",
       "    <tr>\n",
       "      <th>1</th>\n",
       "      <td>Air India</td>\n",
       "      <td>Kolkata</td>\n",
       "      <td>Banglore</td>\n",
       "      <td>CCU → IXR → BBI → BLR</td>\n",
       "      <td>2 stops</td>\n",
       "      <td>No info</td>\n",
       "    </tr>\n",
       "    <tr>\n",
       "      <th>2</th>\n",
       "      <td>Jet Airways</td>\n",
       "      <td>Delhi</td>\n",
       "      <td>Cochin</td>\n",
       "      <td>DEL → LKO → BOM → COK</td>\n",
       "      <td>2 stops</td>\n",
       "      <td>No info</td>\n",
       "    </tr>\n",
       "  </tbody>\n",
       "</table>\n",
       "</div>"
      ],
      "text/plain": [
       "       Airline    Source Destination                  Route Total_Stops  \\\n",
       "0       IndiGo  Banglore   New Delhi              BLR → DEL    non-stop   \n",
       "1    Air India   Kolkata    Banglore  CCU → IXR → BBI → BLR     2 stops   \n",
       "2  Jet Airways     Delhi      Cochin  DEL → LKO → BOM → COK     2 stops   \n",
       "\n",
       "  Additional_Info  \n",
       "0         No info  \n",
       "1         No info  \n",
       "2         No info  "
      ]
     },
     "execution_count": 167,
     "metadata": {},
     "output_type": "execute_result"
    }
   ],
   "source": [
    "Qualitative=data.select_dtypes(include=[object])\n",
    "Qualitative.head(3)"
   ]
  },
  {
   "cell_type": "markdown",
   "id": "363732be",
   "metadata": {},
   "source": [
    "# Apply Label Encoder"
   ]
  },
  {
   "cell_type": "code",
   "execution_count": 168,
   "id": "2021b661",
   "metadata": {},
   "outputs": [
    {
     "data": {
      "text/html": [
       "<div>\n",
       "<style scoped>\n",
       "    .dataframe tbody tr th:only-of-type {\n",
       "        vertical-align: middle;\n",
       "    }\n",
       "\n",
       "    .dataframe tbody tr th {\n",
       "        vertical-align: top;\n",
       "    }\n",
       "\n",
       "    .dataframe thead th {\n",
       "        text-align: right;\n",
       "    }\n",
       "</style>\n",
       "<table border=\"1\" class=\"dataframe\">\n",
       "  <thead>\n",
       "    <tr style=\"text-align: right;\">\n",
       "      <th></th>\n",
       "      <th>Airline</th>\n",
       "      <th>Source</th>\n",
       "      <th>Destination</th>\n",
       "      <th>Route</th>\n",
       "      <th>Total_Stops</th>\n",
       "      <th>Additional_Info</th>\n",
       "    </tr>\n",
       "  </thead>\n",
       "  <tbody>\n",
       "    <tr>\n",
       "      <th>0</th>\n",
       "      <td>3</td>\n",
       "      <td>0</td>\n",
       "      <td>5</td>\n",
       "      <td>18</td>\n",
       "      <td>4</td>\n",
       "      <td>8</td>\n",
       "    </tr>\n",
       "    <tr>\n",
       "      <th>1</th>\n",
       "      <td>1</td>\n",
       "      <td>3</td>\n",
       "      <td>0</td>\n",
       "      <td>84</td>\n",
       "      <td>1</td>\n",
       "      <td>8</td>\n",
       "    </tr>\n",
       "    <tr>\n",
       "      <th>2</th>\n",
       "      <td>4</td>\n",
       "      <td>2</td>\n",
       "      <td>1</td>\n",
       "      <td>118</td>\n",
       "      <td>1</td>\n",
       "      <td>8</td>\n",
       "    </tr>\n",
       "  </tbody>\n",
       "</table>\n",
       "</div>"
      ],
      "text/plain": [
       "   Airline  Source  Destination  Route  Total_Stops  Additional_Info\n",
       "0        3       0            5     18            4                8\n",
       "1        1       3            0     84            1                8\n",
       "2        4       2            1    118            1                8"
      ]
     },
     "execution_count": 168,
     "metadata": {},
     "output_type": "execute_result"
    }
   ],
   "source": [
    "from sklearn.preprocessing import LabelEncoder\n",
    "Qualitative=Qualitative.apply(LabelEncoder().fit_transform)\n",
    "Qualitative.head(3)"
   ]
  },
  {
   "cell_type": "code",
   "execution_count": 169,
   "id": "8fab5756",
   "metadata": {},
   "outputs": [
    {
     "data": {
      "text/html": [
       "<div>\n",
       "<style scoped>\n",
       "    .dataframe tbody tr th:only-of-type {\n",
       "        vertical-align: middle;\n",
       "    }\n",
       "\n",
       "    .dataframe tbody tr th {\n",
       "        vertical-align: top;\n",
       "    }\n",
       "\n",
       "    .dataframe thead th {\n",
       "        text-align: right;\n",
       "    }\n",
       "</style>\n",
       "<table border=\"1\" class=\"dataframe\">\n",
       "  <thead>\n",
       "    <tr style=\"text-align: right;\">\n",
       "      <th></th>\n",
       "      <th>Airline</th>\n",
       "      <th>Source</th>\n",
       "      <th>Destination</th>\n",
       "      <th>Route</th>\n",
       "      <th>Total_Stops</th>\n",
       "      <th>Additional_Info</th>\n",
       "      <th>Price</th>\n",
       "      <th>Date</th>\n",
       "      <th>Month</th>\n",
       "      <th>Year</th>\n",
       "      <th>Duration_hour</th>\n",
       "      <th>Arrival_Hour</th>\n",
       "      <th>Arrival_Minute</th>\n",
       "      <th>Dep_Hour</th>\n",
       "      <th>Dep_Minute</th>\n",
       "    </tr>\n",
       "  </thead>\n",
       "  <tbody>\n",
       "    <tr>\n",
       "      <th>0</th>\n",
       "      <td>3</td>\n",
       "      <td>0</td>\n",
       "      <td>5</td>\n",
       "      <td>18</td>\n",
       "      <td>4</td>\n",
       "      <td>8</td>\n",
       "      <td>3897</td>\n",
       "      <td>24</td>\n",
       "      <td>3</td>\n",
       "      <td>2019</td>\n",
       "      <td>2.833333</td>\n",
       "      <td>1</td>\n",
       "      <td>10</td>\n",
       "      <td>22</td>\n",
       "      <td>20</td>\n",
       "    </tr>\n",
       "    <tr>\n",
       "      <th>1</th>\n",
       "      <td>1</td>\n",
       "      <td>3</td>\n",
       "      <td>0</td>\n",
       "      <td>84</td>\n",
       "      <td>1</td>\n",
       "      <td>8</td>\n",
       "      <td>7662</td>\n",
       "      <td>1</td>\n",
       "      <td>5</td>\n",
       "      <td>2019</td>\n",
       "      <td>7.416667</td>\n",
       "      <td>13</td>\n",
       "      <td>15</td>\n",
       "      <td>5</td>\n",
       "      <td>50</td>\n",
       "    </tr>\n",
       "    <tr>\n",
       "      <th>2</th>\n",
       "      <td>4</td>\n",
       "      <td>2</td>\n",
       "      <td>1</td>\n",
       "      <td>118</td>\n",
       "      <td>1</td>\n",
       "      <td>8</td>\n",
       "      <td>13882</td>\n",
       "      <td>9</td>\n",
       "      <td>6</td>\n",
       "      <td>2019</td>\n",
       "      <td>19.000000</td>\n",
       "      <td>4</td>\n",
       "      <td>25</td>\n",
       "      <td>9</td>\n",
       "      <td>25</td>\n",
       "    </tr>\n",
       "  </tbody>\n",
       "</table>\n",
       "</div>"
      ],
      "text/plain": [
       "   Airline  Source  Destination  Route  Total_Stops  Additional_Info  Price  \\\n",
       "0        3       0            5     18            4                8   3897   \n",
       "1        1       3            0     84            1                8   7662   \n",
       "2        4       2            1    118            1                8  13882   \n",
       "\n",
       "   Date  Month  Year  Duration_hour  Arrival_Hour  Arrival_Minute  Dep_Hour  \\\n",
       "0    24      3  2019       2.833333             1              10        22   \n",
       "1     1      5  2019       7.416667            13              15         5   \n",
       "2     9      6  2019      19.000000             4              25         9   \n",
       "\n",
       "   Dep_Minute  \n",
       "0          20  \n",
       "1          50  \n",
       "2          25  "
      ]
     },
     "execution_count": 169,
     "metadata": {},
     "output_type": "execute_result"
    }
   ],
   "source": [
    "# Merge Numeric and Qualitative data\n",
    "final_data=pd.concat((Qualitative,Numeric),axis=1)\n",
    "final_data.head(3)"
   ]
  },
  {
   "cell_type": "code",
   "execution_count": 170,
   "id": "562e2e78",
   "metadata": {},
   "outputs": [
    {
     "data": {
      "text/plain": [
       "<Axes: xlabel='Price', ylabel='Count'>"
      ]
     },
     "execution_count": 170,
     "metadata": {},
     "output_type": "execute_result"
    },
    {
     "data": {
      "image/png": "[encoded data removed]",
      "text/plain": [
       "<Figure size 640x480 with 1 Axes>"
      ]
     },
     "metadata": {},
     "output_type": "display_data"
    }
   ],
   "source": [
    "sns.histplot(x=final_data['Price'],data=final_data)"
   ]
  },
  {
   "cell_type": "code",
   "execution_count": 171,
   "id": "6aac0451",
   "metadata": {},
   "outputs": [
    {
     "data": {
      "text/plain": [
       "<Axes: xlabel='Price', ylabel='Count'>"
      ]
     },
     "execution_count": 171,
     "metadata": {},
     "output_type": "execute_result"
    },
    {
     "data": {
      "image/png": "[encoded data removed]",
      "text/plain": [
       "<Figure size 640x480 with 1 Axes>"
      ]
     },
     "metadata": {},
     "output_type": "display_data"
    }
   ],
   "source": [
    "final_data['Price']=np.log(final_data['Price'])\n",
    "sns.histplot(x=final_data['Price'],data=final_data)\n"
   ]
  },
  {
   "cell_type": "markdown",
   "id": "36b4cd2e",
   "metadata": {},
   "source": [
    "# Data Partion"
   ]
  },
  {
   "cell_type": "code",
   "execution_count": 172,
   "id": "015f7dfa",
   "metadata": {},
   "outputs": [],
   "source": [
    "from sklearn.model_selection import train_test_split,GridSearchCV\n",
    "\n",
    "x = final_data.drop(['Price'],axis=1)\n",
    "y = final_data[['Price']]\n",
    "\n",
    "X_train, X_test, y_train, y_test = train_test_split(x,y,test_size=0.3,random_state=30)"
   ]
  },
  {
   "cell_type": "markdown",
   "id": "95f7a143",
   "metadata": {},
   "source": [
    "# Independent Dataset"
   ]
  },
  {
   "cell_type": "code",
   "execution_count": 173,
   "id": "4c3150be",
   "metadata": {},
   "outputs": [
    {
     "name": "stdout",
     "output_type": "stream",
     "text": [
      "Number of rows in  Train Dataset : 7323\n",
      "Number of columns in Train Dataset : 14\n"
     ]
    }
   ],
   "source": [
    "print(\"Number of rows in  Train Dataset :\",X_train.shape[0])\n",
    "print(\"Number of columns in Train Dataset :\",X_train.shape[1])"
   ]
  },
  {
   "cell_type": "code",
   "execution_count": 174,
   "id": "de4552bc",
   "metadata": {},
   "outputs": [
    {
     "name": "stdout",
     "output_type": "stream",
     "text": [
      "Number of rows in  Test Dataset : 3139\n",
      "Number of columns in Test Dataset : 14\n"
     ]
    }
   ],
   "source": [
    "print(\"Number of rows in  Test Dataset :\",X_test.shape[0])\n",
    "print(\"Number of columns in Test Dataset :\",X_test.shape[1])"
   ]
  },
  {
   "cell_type": "markdown",
   "id": "2d02b5e8",
   "metadata": {},
   "source": [
    "# Dependent Dataset"
   ]
  },
  {
   "cell_type": "code",
   "execution_count": 175,
   "id": "31bc3970",
   "metadata": {},
   "outputs": [
    {
     "name": "stdout",
     "output_type": "stream",
     "text": [
      "Number of rows in  Train Dataset : 7323\n",
      "Number of columns in Train Dataset : 1\n"
     ]
    }
   ],
   "source": [
    "print(\"Number of rows in  Train Dataset :\",y_train.shape[0])\n",
    "print(\"Number of columns in Train Dataset :\",y_train.shape[1])"
   ]
  },
  {
   "cell_type": "code",
   "execution_count": 176,
   "id": "1b7527f5",
   "metadata": {},
   "outputs": [
    {
     "name": "stdout",
     "output_type": "stream",
     "text": [
      "Number of rows in  Test Dataset : 3139\n",
      "Number of columns in Test Dataset : 1\n"
     ]
    }
   ],
   "source": [
    "print(\"Number of rows in  Test Dataset :\",y_test.shape[0])\n",
    "print(\"Number of columns in Test Dataset :\",y_test.shape[1])"
   ]
  },
  {
   "cell_type": "code",
   "execution_count": 177,
   "id": "172bfd62",
   "metadata": {},
   "outputs": [],
   "source": [
    "# Merge xn y into train and test"
   ]
  },
  {
   "cell_type": "code",
   "execution_count": 178,
   "id": "f4d852e2",
   "metadata": {},
   "outputs": [
    {
     "data": {
      "text/html": [
       "<div>\n",
       "<style scoped>\n",
       "    .dataframe tbody tr th:only-of-type {\n",
       "        vertical-align: middle;\n",
       "    }\n",
       "\n",
       "    .dataframe tbody tr th {\n",
       "        vertical-align: top;\n",
       "    }\n",
       "\n",
       "    .dataframe thead th {\n",
       "        text-align: right;\n",
       "    }\n",
       "</style>\n",
       "<table border=\"1\" class=\"dataframe\">\n",
       "  <thead>\n",
       "    <tr style=\"text-align: right;\">\n",
       "      <th></th>\n",
       "      <th>Airline</th>\n",
       "      <th>Source</th>\n",
       "      <th>Destination</th>\n",
       "      <th>Route</th>\n",
       "      <th>Total_Stops</th>\n",
       "      <th>Additional_Info</th>\n",
       "      <th>Date</th>\n",
       "      <th>Month</th>\n",
       "      <th>Year</th>\n",
       "      <th>Duration_hour</th>\n",
       "      <th>Arrival_Hour</th>\n",
       "      <th>Arrival_Minute</th>\n",
       "      <th>Dep_Hour</th>\n",
       "      <th>Dep_Minute</th>\n",
       "      <th>Price</th>\n",
       "    </tr>\n",
       "  </thead>\n",
       "  <tbody>\n",
       "    <tr>\n",
       "      <th>7420</th>\n",
       "      <td>3</td>\n",
       "      <td>2</td>\n",
       "      <td>1</td>\n",
       "      <td>104</td>\n",
       "      <td>0</td>\n",
       "      <td>8</td>\n",
       "      <td>27</td>\n",
       "      <td>5</td>\n",
       "      <td>2019</td>\n",
       "      <td>13.500000</td>\n",
       "      <td>21</td>\n",
       "      <td>0</td>\n",
       "      <td>7</td>\n",
       "      <td>30</td>\n",
       "      <td>8.783549</td>\n",
       "    </tr>\n",
       "    <tr>\n",
       "      <th>883</th>\n",
       "      <td>4</td>\n",
       "      <td>2</td>\n",
       "      <td>1</td>\n",
       "      <td>104</td>\n",
       "      <td>0</td>\n",
       "      <td>5</td>\n",
       "      <td>27</td>\n",
       "      <td>5</td>\n",
       "      <td>2019</td>\n",
       "      <td>10.166667</td>\n",
       "      <td>4</td>\n",
       "      <td>25</td>\n",
       "      <td>18</td>\n",
       "      <td>15</td>\n",
       "      <td>9.464828</td>\n",
       "    </tr>\n",
       "  </tbody>\n",
       "</table>\n",
       "</div>"
      ],
      "text/plain": [
       "      Airline  Source  Destination  Route  Total_Stops  Additional_Info  Date  \\\n",
       "7420        3       2            1    104            0                8    27   \n",
       "883         4       2            1    104            0                5    27   \n",
       "\n",
       "      Month  Year  Duration_hour  Arrival_Hour  Arrival_Minute  Dep_Hour  \\\n",
       "7420      5  2019      13.500000            21               0         7   \n",
       "883       5  2019      10.166667             4              25        18   \n",
       "\n",
       "      Dep_Minute     Price  \n",
       "7420          30  8.783549  \n",
       "883           15  9.464828  "
      ]
     },
     "execution_count": 178,
     "metadata": {},
     "output_type": "execute_result"
    }
   ],
   "source": [
    "train = pd.concat([X_train, y_train], axis=1)\n",
    "train.head(2)"
   ]
  },
  {
   "cell_type": "code",
   "execution_count": 179,
   "id": "457e3fe2",
   "metadata": {},
   "outputs": [
    {
     "data": {
      "text/html": [
       "<div>\n",
       "<style scoped>\n",
       "    .dataframe tbody tr th:only-of-type {\n",
       "        vertical-align: middle;\n",
       "    }\n",
       "\n",
       "    .dataframe tbody tr th {\n",
       "        vertical-align: top;\n",
       "    }\n",
       "\n",
       "    .dataframe thead th {\n",
       "        text-align: right;\n",
       "    }\n",
       "</style>\n",
       "<table border=\"1\" class=\"dataframe\">\n",
       "  <thead>\n",
       "    <tr style=\"text-align: right;\">\n",
       "      <th></th>\n",
       "      <th>Airline</th>\n",
       "      <th>Source</th>\n",
       "      <th>Destination</th>\n",
       "      <th>Route</th>\n",
       "      <th>Total_Stops</th>\n",
       "      <th>Additional_Info</th>\n",
       "      <th>Date</th>\n",
       "      <th>Month</th>\n",
       "      <th>Year</th>\n",
       "      <th>Duration_hour</th>\n",
       "      <th>Arrival_Hour</th>\n",
       "      <th>Arrival_Minute</th>\n",
       "      <th>Dep_Hour</th>\n",
       "      <th>Dep_Minute</th>\n",
       "      <th>Price</th>\n",
       "    </tr>\n",
       "  </thead>\n",
       "  <tbody>\n",
       "    <tr>\n",
       "      <th>10339</th>\n",
       "      <td>4</td>\n",
       "      <td>3</td>\n",
       "      <td>0</td>\n",
       "      <td>73</td>\n",
       "      <td>0</td>\n",
       "      <td>5</td>\n",
       "      <td>12</td>\n",
       "      <td>6</td>\n",
       "      <td>2019</td>\n",
       "      <td>13.333333</td>\n",
       "      <td>9</td>\n",
       "      <td>45</td>\n",
       "      <td>20</td>\n",
       "      <td>25</td>\n",
       "      <td>9.262838</td>\n",
       "    </tr>\n",
       "    <tr>\n",
       "      <th>6897</th>\n",
       "      <td>6</td>\n",
       "      <td>2</td>\n",
       "      <td>1</td>\n",
       "      <td>104</td>\n",
       "      <td>0</td>\n",
       "      <td>8</td>\n",
       "      <td>6</td>\n",
       "      <td>3</td>\n",
       "      <td>2019</td>\n",
       "      <td>14.833333</td>\n",
       "      <td>18</td>\n",
       "      <td>50</td>\n",
       "      <td>4</td>\n",
       "      <td>0</td>\n",
       "      <td>9.502935</td>\n",
       "    </tr>\n",
       "  </tbody>\n",
       "</table>\n",
       "</div>"
      ],
      "text/plain": [
       "       Airline  Source  Destination  Route  Total_Stops  Additional_Info  \\\n",
       "10339        4       3            0     73            0                5   \n",
       "6897         6       2            1    104            0                8   \n",
       "\n",
       "       Date  Month  Year  Duration_hour  Arrival_Hour  Arrival_Minute  \\\n",
       "10339    12      6  2019      13.333333             9              45   \n",
       "6897      6      3  2019      14.833333            18              50   \n",
       "\n",
       "       Dep_Hour  Dep_Minute     Price  \n",
       "10339        20          25  9.262838  \n",
       "6897          4           0  9.502935  "
      ]
     },
     "execution_count": 179,
     "metadata": {},
     "output_type": "execute_result"
    }
   ],
   "source": [
    "test = pd.concat([X_test, y_test], axis=1)\n",
    "test.head(2)"
   ]
  },
  {
   "cell_type": "markdown",
   "id": "0161bdb5",
   "metadata": {},
   "source": [
    "# Machine Learning Model"
   ]
  },
  {
   "cell_type": "code",
   "execution_count": 180,
   "id": "00245bbb",
   "metadata": {},
   "outputs": [
    {
     "data": {
      "text/html": [
       "<style type=\"text/css\">\n",
       "#T_bdabc_row0_col0, #T_bdabc_row1_col1, #T_bdabc_row2_col2, #T_bdabc_row3_col3, #T_bdabc_row4_col4, #T_bdabc_row5_col5, #T_bdabc_row6_col6, #T_bdabc_row7_col7, #T_bdabc_row9_col9, #T_bdabc_row10_col10, #T_bdabc_row11_col11, #T_bdabc_row12_col12, #T_bdabc_row13_col13, #T_bdabc_row14_col14 {\n",
       "  background-color: yellow;\n",
       "}\n",
       "</style>\n",
       "<table id=\"T_bdabc\">\n",
       "  <thead>\n",
       "    <tr>\n",
       "      <th class=\"blank level0\" >&nbsp;</th>\n",
       "      <th id=\"T_bdabc_level0_col0\" class=\"col_heading level0 col0\" >Airline</th>\n",
       "      <th id=\"T_bdabc_level0_col1\" class=\"col_heading level0 col1\" >Source</th>\n",
       "      <th id=\"T_bdabc_level0_col2\" class=\"col_heading level0 col2\" >Destination</th>\n",
       "      <th id=\"T_bdabc_level0_col3\" class=\"col_heading level0 col3\" >Route</th>\n",
       "      <th id=\"T_bdabc_level0_col4\" class=\"col_heading level0 col4\" >Total_Stops</th>\n",
       "      <th id=\"T_bdabc_level0_col5\" class=\"col_heading level0 col5\" >Additional_Info</th>\n",
       "      <th id=\"T_bdabc_level0_col6\" class=\"col_heading level0 col6\" >Date</th>\n",
       "      <th id=\"T_bdabc_level0_col7\" class=\"col_heading level0 col7\" >Month</th>\n",
       "      <th id=\"T_bdabc_level0_col8\" class=\"col_heading level0 col8\" >Year</th>\n",
       "      <th id=\"T_bdabc_level0_col9\" class=\"col_heading level0 col9\" >Duration_hour</th>\n",
       "      <th id=\"T_bdabc_level0_col10\" class=\"col_heading level0 col10\" >Arrival_Hour</th>\n",
       "      <th id=\"T_bdabc_level0_col11\" class=\"col_heading level0 col11\" >Arrival_Minute</th>\n",
       "      <th id=\"T_bdabc_level0_col12\" class=\"col_heading level0 col12\" >Dep_Hour</th>\n",
       "      <th id=\"T_bdabc_level0_col13\" class=\"col_heading level0 col13\" >Dep_Minute</th>\n",
       "      <th id=\"T_bdabc_level0_col14\" class=\"col_heading level0 col14\" >Price</th>\n",
       "    </tr>\n",
       "  </thead>\n",
       "  <tbody>\n",
       "    <tr>\n",
       "      <th id=\"T_bdabc_level0_row0\" class=\"row_heading level0 row0\" >Airline</th>\n",
       "      <td id=\"T_bdabc_row0_col0\" class=\"data row0 col0\" >1.000000</td>\n",
       "      <td id=\"T_bdabc_row0_col1\" class=\"data row0 col1\" >-0.009784</td>\n",
       "      <td id=\"T_bdabc_row0_col2\" class=\"data row0 col2\" >0.019816</td>\n",
       "      <td id=\"T_bdabc_row0_col3\" class=\"data row0 col3\" >0.026552</td>\n",
       "      <td id=\"T_bdabc_row0_col4\" class=\"data row0 col4\" >0.031168</td>\n",
       "      <td id=\"T_bdabc_row0_col5\" class=\"data row0 col5\" >-0.060477</td>\n",
       "      <td id=\"T_bdabc_row0_col6\" class=\"data row0 col6\" >0.026103</td>\n",
       "      <td id=\"T_bdabc_row0_col7\" class=\"data row0 col7\" >0.023997</td>\n",
       "      <td id=\"T_bdabc_row0_col8\" class=\"data row0 col8\" >nan</td>\n",
       "      <td id=\"T_bdabc_row0_col9\" class=\"data row0 col9\" >-0.150343</td>\n",
       "      <td id=\"T_bdabc_row0_col10\" class=\"data row0 col10\" >0.003256</td>\n",
       "      <td id=\"T_bdabc_row0_col11\" class=\"data row0 col11\" >-0.076957</td>\n",
       "      <td id=\"T_bdabc_row0_col12\" class=\"data row0 col12\" >-0.029839</td>\n",
       "      <td id=\"T_bdabc_row0_col13\" class=\"data row0 col13\" >-0.056783</td>\n",
       "      <td id=\"T_bdabc_row0_col14\" class=\"data row0 col14\" >-0.057419</td>\n",
       "    </tr>\n",
       "    <tr>\n",
       "      <th id=\"T_bdabc_level0_row1\" class=\"row_heading level0 row1\" >Source</th>\n",
       "      <td id=\"T_bdabc_row1_col0\" class=\"data row1 col0\" >-0.009784</td>\n",
       "      <td id=\"T_bdabc_row1_col1\" class=\"data row1 col1\" >1.000000</td>\n",
       "      <td id=\"T_bdabc_row1_col2\" class=\"data row1 col2\" >-0.588532</td>\n",
       "      <td id=\"T_bdabc_row1_col3\" class=\"data row1 col3\" >0.398012</td>\n",
       "      <td id=\"T_bdabc_row1_col4\" class=\"data row1 col4\" >-0.217054</td>\n",
       "      <td id=\"T_bdabc_row1_col5\" class=\"data row1 col5\" >-0.007336</td>\n",
       "      <td id=\"T_bdabc_row1_col6\" class=\"data row1 col6\" >-0.001955</td>\n",
       "      <td id=\"T_bdabc_row1_col7\" class=\"data row1 col7\" >0.180436</td>\n",
       "      <td id=\"T_bdabc_row1_col8\" class=\"data row1 col8\" >nan</td>\n",
       "      <td id=\"T_bdabc_row1_col9\" class=\"data row1 col9\" >0.165795</td>\n",
       "      <td id=\"T_bdabc_row1_col10\" class=\"data row1 col10\" >0.011225</td>\n",
       "      <td id=\"T_bdabc_row1_col11\" class=\"data row1 col11\" >0.025205</td>\n",
       "      <td id=\"T_bdabc_row1_col12\" class=\"data row1 col12\" >0.059755</td>\n",
       "      <td id=\"T_bdabc_row1_col13\" class=\"data row1 col13\" >-0.052614</td>\n",
       "      <td id=\"T_bdabc_row1_col14\" class=\"data row1 col14\" >0.008787</td>\n",
       "    </tr>\n",
       "    <tr>\n",
       "      <th id=\"T_bdabc_level0_row2\" class=\"row_heading level0 row2\" >Destination</th>\n",
       "      <td id=\"T_bdabc_row2_col0\" class=\"data row2 col0\" >0.019816</td>\n",
       "      <td id=\"T_bdabc_row2_col1\" class=\"data row2 col1\" >-0.588532</td>\n",
       "      <td id=\"T_bdabc_row2_col2\" class=\"data row2 col2\" >1.000000</td>\n",
       "      <td id=\"T_bdabc_row2_col3\" class=\"data row2 col3\" >-0.457286</td>\n",
       "      <td id=\"T_bdabc_row2_col4\" class=\"data row2 col4\" >0.334843</td>\n",
       "      <td id=\"T_bdabc_row2_col5\" class=\"data row2 col5\" >0.024196</td>\n",
       "      <td id=\"T_bdabc_row2_col6\" class=\"data row2 col6\" >-0.045443</td>\n",
       "      <td id=\"T_bdabc_row2_col7\" class=\"data row2 col7\" >-0.354185</td>\n",
       "      <td id=\"T_bdabc_row2_col8\" class=\"data row2 col8\" >nan</td>\n",
       "      <td id=\"T_bdabc_row2_col9\" class=\"data row2 col9\" >-0.262585</td>\n",
       "      <td id=\"T_bdabc_row2_col10\" class=\"data row2 col10\" >-0.041526</td>\n",
       "      <td id=\"T_bdabc_row2_col11\" class=\"data row2 col11\" >0.019594</td>\n",
       "      <td id=\"T_bdabc_row2_col12\" class=\"data row2 col12\" >-0.079580</td>\n",
       "      <td id=\"T_bdabc_row2_col13\" class=\"data row2 col13\" >0.128010</td>\n",
       "      <td id=\"T_bdabc_row2_col14\" class=\"data row2 col14\" >-0.166407</td>\n",
       "    </tr>\n",
       "    <tr>\n",
       "      <th id=\"T_bdabc_level0_row3\" class=\"row_heading level0 row3\" >Route</th>\n",
       "      <td id=\"T_bdabc_row3_col0\" class=\"data row3 col0\" >0.026552</td>\n",
       "      <td id=\"T_bdabc_row3_col1\" class=\"data row3 col1\" >0.398012</td>\n",
       "      <td id=\"T_bdabc_row3_col2\" class=\"data row3 col2\" >-0.457286</td>\n",
       "      <td id=\"T_bdabc_row3_col3\" class=\"data row3 col3\" >1.000000</td>\n",
       "      <td id=\"T_bdabc_row3_col4\" class=\"data row3 col4\" >-0.434675</td>\n",
       "      <td id=\"T_bdabc_row3_col5\" class=\"data row3 col5\" >0.046240</td>\n",
       "      <td id=\"T_bdabc_row3_col6\" class=\"data row3 col6\" >0.068528</td>\n",
       "      <td id=\"T_bdabc_row3_col7\" class=\"data row3 col7\" >0.240615</td>\n",
       "      <td id=\"T_bdabc_row3_col8\" class=\"data row3 col8\" >nan</td>\n",
       "      <td id=\"T_bdabc_row3_col9\" class=\"data row3 col9\" >0.271982</td>\n",
       "      <td id=\"T_bdabc_row3_col10\" class=\"data row3 col10\" >0.020723</td>\n",
       "      <td id=\"T_bdabc_row3_col11\" class=\"data row3 col11\" >-0.175681</td>\n",
       "      <td id=\"T_bdabc_row3_col12\" class=\"data row3 col12\" >-0.079894</td>\n",
       "      <td id=\"T_bdabc_row3_col13\" class=\"data row3 col13\" >-0.070024</td>\n",
       "      <td id=\"T_bdabc_row3_col14\" class=\"data row3 col14\" >0.228466</td>\n",
       "    </tr>\n",
       "    <tr>\n",
       "      <th id=\"T_bdabc_level0_row4\" class=\"row_heading level0 row4\" >Total_Stops</th>\n",
       "      <td id=\"T_bdabc_row4_col0\" class=\"data row4 col0\" >0.031168</td>\n",
       "      <td id=\"T_bdabc_row4_col1\" class=\"data row4 col1\" >-0.217054</td>\n",
       "      <td id=\"T_bdabc_row4_col2\" class=\"data row4 col2\" >0.334843</td>\n",
       "      <td id=\"T_bdabc_row4_col3\" class=\"data row4 col3\" >-0.434675</td>\n",
       "      <td id=\"T_bdabc_row4_col4\" class=\"data row4 col4\" >1.000000</td>\n",
       "      <td id=\"T_bdabc_row4_col5\" class=\"data row4 col5\" >0.163574</td>\n",
       "      <td id=\"T_bdabc_row4_col6\" class=\"data row4 col6\" >0.040092</td>\n",
       "      <td id=\"T_bdabc_row4_col7\" class=\"data row4 col7\" >-0.020091</td>\n",
       "      <td id=\"T_bdabc_row4_col8\" class=\"data row4 col8\" >nan</td>\n",
       "      <td id=\"T_bdabc_row4_col9\" class=\"data row4 col9\" >-0.613476</td>\n",
       "      <td id=\"T_bdabc_row4_col10\" class=\"data row4 col10\" >-0.097413</td>\n",
       "      <td id=\"T_bdabc_row4_col11\" class=\"data row4 col11\" >0.180107</td>\n",
       "      <td id=\"T_bdabc_row4_col12\" class=\"data row4 col12\" >0.043055</td>\n",
       "      <td id=\"T_bdabc_row4_col13\" class=\"data row4 col13\" >0.048245</td>\n",
       "      <td id=\"T_bdabc_row4_col14\" class=\"data row4 col14\" >-0.679483</td>\n",
       "    </tr>\n",
       "    <tr>\n",
       "      <th id=\"T_bdabc_level0_row5\" class=\"row_heading level0 row5\" >Additional_Info</th>\n",
       "      <td id=\"T_bdabc_row5_col0\" class=\"data row5 col0\" >-0.060477</td>\n",
       "      <td id=\"T_bdabc_row5_col1\" class=\"data row5 col1\" >-0.007336</td>\n",
       "      <td id=\"T_bdabc_row5_col2\" class=\"data row5 col2\" >0.024196</td>\n",
       "      <td id=\"T_bdabc_row5_col3\" class=\"data row5 col3\" >0.046240</td>\n",
       "      <td id=\"T_bdabc_row5_col4\" class=\"data row5 col4\" >0.163574</td>\n",
       "      <td id=\"T_bdabc_row5_col5\" class=\"data row5 col5\" >1.000000</td>\n",
       "      <td id=\"T_bdabc_row5_col6\" class=\"data row5 col6\" >-0.021810</td>\n",
       "      <td id=\"T_bdabc_row5_col7\" class=\"data row5 col7\" >-0.049481</td>\n",
       "      <td id=\"T_bdabc_row5_col8\" class=\"data row5 col8\" >nan</td>\n",
       "      <td id=\"T_bdabc_row5_col9\" class=\"data row5 col9\" >-0.166394</td>\n",
       "      <td id=\"T_bdabc_row5_col10\" class=\"data row5 col10\" >0.020151</td>\n",
       "      <td id=\"T_bdabc_row5_col11\" class=\"data row5 col11\" >0.047482</td>\n",
       "      <td id=\"T_bdabc_row5_col12\" class=\"data row5 col12\" >-0.061089</td>\n",
       "      <td id=\"T_bdabc_row5_col13\" class=\"data row5 col13\" >-0.007305</td>\n",
       "      <td id=\"T_bdabc_row5_col14\" class=\"data row5 col14\" >-0.093261</td>\n",
       "    </tr>\n",
       "    <tr>\n",
       "      <th id=\"T_bdabc_level0_row6\" class=\"row_heading level0 row6\" >Date</th>\n",
       "      <td id=\"T_bdabc_row6_col0\" class=\"data row6 col0\" >0.026103</td>\n",
       "      <td id=\"T_bdabc_row6_col1\" class=\"data row6 col1\" >-0.001955</td>\n",
       "      <td id=\"T_bdabc_row6_col2\" class=\"data row6 col2\" >-0.045443</td>\n",
       "      <td id=\"T_bdabc_row6_col3\" class=\"data row6 col3\" >0.068528</td>\n",
       "      <td id=\"T_bdabc_row6_col4\" class=\"data row6 col4\" >0.040092</td>\n",
       "      <td id=\"T_bdabc_row6_col5\" class=\"data row6 col5\" >-0.021810</td>\n",
       "      <td id=\"T_bdabc_row6_col6\" class=\"data row6 col6\" >1.000000</td>\n",
       "      <td id=\"T_bdabc_row6_col7\" class=\"data row6 col7\" >-0.026822</td>\n",
       "      <td id=\"T_bdabc_row6_col8\" class=\"data row6 col8\" >nan</td>\n",
       "      <td id=\"T_bdabc_row6_col9\" class=\"data row6 col9\" >-0.031481</td>\n",
       "      <td id=\"T_bdabc_row6_col10\" class=\"data row6 col10\" >-0.003019</td>\n",
       "      <td id=\"T_bdabc_row6_col11\" class=\"data row6 col11\" >-0.009135</td>\n",
       "      <td id=\"T_bdabc_row6_col12\" class=\"data row6 col12\" >0.001351</td>\n",
       "      <td id=\"T_bdabc_row6_col13\" class=\"data row6 col13\" >-0.012885</td>\n",
       "      <td id=\"T_bdabc_row6_col14\" class=\"data row6 col14\" >-0.134742</td>\n",
       "    </tr>\n",
       "    <tr>\n",
       "      <th id=\"T_bdabc_level0_row7\" class=\"row_heading level0 row7\" >Month</th>\n",
       "      <td id=\"T_bdabc_row7_col0\" class=\"data row7 col0\" >0.023997</td>\n",
       "      <td id=\"T_bdabc_row7_col1\" class=\"data row7 col1\" >0.180436</td>\n",
       "      <td id=\"T_bdabc_row7_col2\" class=\"data row7 col2\" >-0.354185</td>\n",
       "      <td id=\"T_bdabc_row7_col3\" class=\"data row7 col3\" >0.240615</td>\n",
       "      <td id=\"T_bdabc_row7_col4\" class=\"data row7 col4\" >-0.020091</td>\n",
       "      <td id=\"T_bdabc_row7_col5\" class=\"data row7 col5\" >-0.049481</td>\n",
       "      <td id=\"T_bdabc_row7_col6\" class=\"data row7 col6\" >-0.026822</td>\n",
       "      <td id=\"T_bdabc_row7_col7\" class=\"data row7 col7\" >1.000000</td>\n",
       "      <td id=\"T_bdabc_row7_col8\" class=\"data row7 col8\" >nan</td>\n",
       "      <td id=\"T_bdabc_row7_col9\" class=\"data row7 col9\" >0.002135</td>\n",
       "      <td id=\"T_bdabc_row7_col10\" class=\"data row7 col10\" >-0.000487</td>\n",
       "      <td id=\"T_bdabc_row7_col11\" class=\"data row7 col11\" >-0.094824</td>\n",
       "      <td id=\"T_bdabc_row7_col12\" class=\"data row7 col12\" >0.048010</td>\n",
       "      <td id=\"T_bdabc_row7_col13\" class=\"data row7 col13\" >-0.067240</td>\n",
       "      <td id=\"T_bdabc_row7_col14\" class=\"data row7 col14\" >-0.077367</td>\n",
       "    </tr>\n",
       "    <tr>\n",
       "      <th id=\"T_bdabc_level0_row8\" class=\"row_heading level0 row8\" >Year</th>\n",
       "      <td id=\"T_bdabc_row8_col0\" class=\"data row8 col0\" >nan</td>\n",
       "      <td id=\"T_bdabc_row8_col1\" class=\"data row8 col1\" >nan</td>\n",
       "      <td id=\"T_bdabc_row8_col2\" class=\"data row8 col2\" >nan</td>\n",
       "      <td id=\"T_bdabc_row8_col3\" class=\"data row8 col3\" >nan</td>\n",
       "      <td id=\"T_bdabc_row8_col4\" class=\"data row8 col4\" >nan</td>\n",
       "      <td id=\"T_bdabc_row8_col5\" class=\"data row8 col5\" >nan</td>\n",
       "      <td id=\"T_bdabc_row8_col6\" class=\"data row8 col6\" >nan</td>\n",
       "      <td id=\"T_bdabc_row8_col7\" class=\"data row8 col7\" >nan</td>\n",
       "      <td id=\"T_bdabc_row8_col8\" class=\"data row8 col8\" >nan</td>\n",
       "      <td id=\"T_bdabc_row8_col9\" class=\"data row8 col9\" >nan</td>\n",
       "      <td id=\"T_bdabc_row8_col10\" class=\"data row8 col10\" >nan</td>\n",
       "      <td id=\"T_bdabc_row8_col11\" class=\"data row8 col11\" >nan</td>\n",
       "      <td id=\"T_bdabc_row8_col12\" class=\"data row8 col12\" >nan</td>\n",
       "      <td id=\"T_bdabc_row8_col13\" class=\"data row8 col13\" >nan</td>\n",
       "      <td id=\"T_bdabc_row8_col14\" class=\"data row8 col14\" >nan</td>\n",
       "    </tr>\n",
       "    <tr>\n",
       "      <th id=\"T_bdabc_level0_row9\" class=\"row_heading level0 row9\" >Duration_hour</th>\n",
       "      <td id=\"T_bdabc_row9_col0\" class=\"data row9 col0\" >-0.150343</td>\n",
       "      <td id=\"T_bdabc_row9_col1\" class=\"data row9 col1\" >0.165795</td>\n",
       "      <td id=\"T_bdabc_row9_col2\" class=\"data row9 col2\" >-0.262585</td>\n",
       "      <td id=\"T_bdabc_row9_col3\" class=\"data row9 col3\" >0.271982</td>\n",
       "      <td id=\"T_bdabc_row9_col4\" class=\"data row9 col4\" >-0.613476</td>\n",
       "      <td id=\"T_bdabc_row9_col5\" class=\"data row9 col5\" >-0.166394</td>\n",
       "      <td id=\"T_bdabc_row9_col6\" class=\"data row9 col6\" >-0.031481</td>\n",
       "      <td id=\"T_bdabc_row9_col7\" class=\"data row9 col7\" >0.002135</td>\n",
       "      <td id=\"T_bdabc_row9_col8\" class=\"data row9 col8\" >nan</td>\n",
       "      <td id=\"T_bdabc_row9_col9\" class=\"data row9 col9\" >1.000000</td>\n",
       "      <td id=\"T_bdabc_row9_col10\" class=\"data row9 col10\" >0.059056</td>\n",
       "      <td id=\"T_bdabc_row9_col11\" class=\"data row9 col11\" >-0.071638</td>\n",
       "      <td id=\"T_bdabc_row9_col12\" class=\"data row9 col12\" >0.003702</td>\n",
       "      <td id=\"T_bdabc_row9_col13\" class=\"data row9 col13\" >-0.022729</td>\n",
       "      <td id=\"T_bdabc_row9_col14\" class=\"data row9 col14\" >0.590133</td>\n",
       "    </tr>\n",
       "    <tr>\n",
       "      <th id=\"T_bdabc_level0_row10\" class=\"row_heading level0 row10\" >Arrival_Hour</th>\n",
       "      <td id=\"T_bdabc_row10_col0\" class=\"data row10 col0\" >0.003256</td>\n",
       "      <td id=\"T_bdabc_row10_col1\" class=\"data row10 col1\" >0.011225</td>\n",
       "      <td id=\"T_bdabc_row10_col2\" class=\"data row10 col2\" >-0.041526</td>\n",
       "      <td id=\"T_bdabc_row10_col3\" class=\"data row10 col3\" >0.020723</td>\n",
       "      <td id=\"T_bdabc_row10_col4\" class=\"data row10 col4\" >-0.097413</td>\n",
       "      <td id=\"T_bdabc_row10_col5\" class=\"data row10 col5\" >0.020151</td>\n",
       "      <td id=\"T_bdabc_row10_col6\" class=\"data row10 col6\" >-0.003019</td>\n",
       "      <td id=\"T_bdabc_row10_col7\" class=\"data row10 col7\" >-0.000487</td>\n",
       "      <td id=\"T_bdabc_row10_col8\" class=\"data row10 col8\" >nan</td>\n",
       "      <td id=\"T_bdabc_row10_col9\" class=\"data row10 col9\" >0.059056</td>\n",
       "      <td id=\"T_bdabc_row10_col10\" class=\"data row10 col10\" >1.000000</td>\n",
       "      <td id=\"T_bdabc_row10_col11\" class=\"data row10 col11\" >-0.149852</td>\n",
       "      <td id=\"T_bdabc_row10_col12\" class=\"data row10 col12\" >0.009617</td>\n",
       "      <td id=\"T_bdabc_row10_col13\" class=\"data row10 col13\" >0.038540</td>\n",
       "      <td id=\"T_bdabc_row10_col14\" class=\"data row10 col14\" >0.062038</td>\n",
       "    </tr>\n",
       "    <tr>\n",
       "      <th id=\"T_bdabc_level0_row11\" class=\"row_heading level0 row11\" >Arrival_Minute</th>\n",
       "      <td id=\"T_bdabc_row11_col0\" class=\"data row11 col0\" >-0.076957</td>\n",
       "      <td id=\"T_bdabc_row11_col1\" class=\"data row11 col1\" >0.025205</td>\n",
       "      <td id=\"T_bdabc_row11_col2\" class=\"data row11 col2\" >0.019594</td>\n",
       "      <td id=\"T_bdabc_row11_col3\" class=\"data row11 col3\" >-0.175681</td>\n",
       "      <td id=\"T_bdabc_row11_col4\" class=\"data row11 col4\" >0.180107</td>\n",
       "      <td id=\"T_bdabc_row11_col5\" class=\"data row11 col5\" >0.047482</td>\n",
       "      <td id=\"T_bdabc_row11_col6\" class=\"data row11 col6\" >-0.009135</td>\n",
       "      <td id=\"T_bdabc_row11_col7\" class=\"data row11 col7\" >-0.094824</td>\n",
       "      <td id=\"T_bdabc_row11_col8\" class=\"data row11 col8\" >nan</td>\n",
       "      <td id=\"T_bdabc_row11_col9\" class=\"data row11 col9\" >-0.071638</td>\n",
       "      <td id=\"T_bdabc_row11_col10\" class=\"data row11 col10\" >-0.149852</td>\n",
       "      <td id=\"T_bdabc_row11_col11\" class=\"data row11 col11\" >1.000000</td>\n",
       "      <td id=\"T_bdabc_row11_col12\" class=\"data row11 col12\" >0.073242</td>\n",
       "      <td id=\"T_bdabc_row11_col13\" class=\"data row11 col13\" >-0.029493</td>\n",
       "      <td id=\"T_bdabc_row11_col14\" class=\"data row11 col14\" >-0.112148</td>\n",
       "    </tr>\n",
       "    <tr>\n",
       "      <th id=\"T_bdabc_level0_row12\" class=\"row_heading level0 row12\" >Dep_Hour</th>\n",
       "      <td id=\"T_bdabc_row12_col0\" class=\"data row12 col0\" >-0.029839</td>\n",
       "      <td id=\"T_bdabc_row12_col1\" class=\"data row12 col1\" >0.059755</td>\n",
       "      <td id=\"T_bdabc_row12_col2\" class=\"data row12 col2\" >-0.079580</td>\n",
       "      <td id=\"T_bdabc_row12_col3\" class=\"data row12 col3\" >-0.079894</td>\n",
       "      <td id=\"T_bdabc_row12_col4\" class=\"data row12 col4\" >0.043055</td>\n",
       "      <td id=\"T_bdabc_row12_col5\" class=\"data row12 col5\" >-0.061089</td>\n",
       "      <td id=\"T_bdabc_row12_col6\" class=\"data row12 col6\" >0.001351</td>\n",
       "      <td id=\"T_bdabc_row12_col7\" class=\"data row12 col7\" >0.048010</td>\n",
       "      <td id=\"T_bdabc_row12_col8\" class=\"data row12 col8\" >nan</td>\n",
       "      <td id=\"T_bdabc_row12_col9\" class=\"data row12 col9\" >0.003702</td>\n",
       "      <td id=\"T_bdabc_row12_col10\" class=\"data row12 col10\" >0.009617</td>\n",
       "      <td id=\"T_bdabc_row12_col11\" class=\"data row12 col11\" >0.073242</td>\n",
       "      <td id=\"T_bdabc_row12_col12\" class=\"data row12 col12\" >1.000000</td>\n",
       "      <td id=\"T_bdabc_row12_col13\" class=\"data row12 col13\" >-0.006911</td>\n",
       "      <td id=\"T_bdabc_row12_col14\" class=\"data row12 col14\" >-0.013413</td>\n",
       "    </tr>\n",
       "    <tr>\n",
       "      <th id=\"T_bdabc_level0_row13\" class=\"row_heading level0 row13\" >Dep_Minute</th>\n",
       "      <td id=\"T_bdabc_row13_col0\" class=\"data row13 col0\" >-0.056783</td>\n",
       "      <td id=\"T_bdabc_row13_col1\" class=\"data row13 col1\" >-0.052614</td>\n",
       "      <td id=\"T_bdabc_row13_col2\" class=\"data row13 col2\" >0.128010</td>\n",
       "      <td id=\"T_bdabc_row13_col3\" class=\"data row13 col3\" >-0.070024</td>\n",
       "      <td id=\"T_bdabc_row13_col4\" class=\"data row13 col4\" >0.048245</td>\n",
       "      <td id=\"T_bdabc_row13_col5\" class=\"data row13 col5\" >-0.007305</td>\n",
       "      <td id=\"T_bdabc_row13_col6\" class=\"data row13 col6\" >-0.012885</td>\n",
       "      <td id=\"T_bdabc_row13_col7\" class=\"data row13 col7\" >-0.067240</td>\n",
       "      <td id=\"T_bdabc_row13_col8\" class=\"data row13 col8\" >nan</td>\n",
       "      <td id=\"T_bdabc_row13_col9\" class=\"data row13 col9\" >-0.022729</td>\n",
       "      <td id=\"T_bdabc_row13_col10\" class=\"data row13 col10\" >0.038540</td>\n",
       "      <td id=\"T_bdabc_row13_col11\" class=\"data row13 col11\" >-0.029493</td>\n",
       "      <td id=\"T_bdabc_row13_col12\" class=\"data row13 col12\" >-0.006911</td>\n",
       "      <td id=\"T_bdabc_row13_col13\" class=\"data row13 col13\" >1.000000</td>\n",
       "      <td id=\"T_bdabc_row13_col14\" class=\"data row13 col14\" >-0.053032</td>\n",
       "    </tr>\n",
       "    <tr>\n",
       "      <th id=\"T_bdabc_level0_row14\" class=\"row_heading level0 row14\" >Price</th>\n",
       "      <td id=\"T_bdabc_row14_col0\" class=\"data row14 col0\" >-0.057419</td>\n",
       "      <td id=\"T_bdabc_row14_col1\" class=\"data row14 col1\" >0.008787</td>\n",
       "      <td id=\"T_bdabc_row14_col2\" class=\"data row14 col2\" >-0.166407</td>\n",
       "      <td id=\"T_bdabc_row14_col3\" class=\"data row14 col3\" >0.228466</td>\n",
       "      <td id=\"T_bdabc_row14_col4\" class=\"data row14 col4\" >-0.679483</td>\n",
       "      <td id=\"T_bdabc_row14_col5\" class=\"data row14 col5\" >-0.093261</td>\n",
       "      <td id=\"T_bdabc_row14_col6\" class=\"data row14 col6\" >-0.134742</td>\n",
       "      <td id=\"T_bdabc_row14_col7\" class=\"data row14 col7\" >-0.077367</td>\n",
       "      <td id=\"T_bdabc_row14_col8\" class=\"data row14 col8\" >nan</td>\n",
       "      <td id=\"T_bdabc_row14_col9\" class=\"data row14 col9\" >0.590133</td>\n",
       "      <td id=\"T_bdabc_row14_col10\" class=\"data row14 col10\" >0.062038</td>\n",
       "      <td id=\"T_bdabc_row14_col11\" class=\"data row14 col11\" >-0.112148</td>\n",
       "      <td id=\"T_bdabc_row14_col12\" class=\"data row14 col12\" >-0.013413</td>\n",
       "      <td id=\"T_bdabc_row14_col13\" class=\"data row14 col13\" >-0.053032</td>\n",
       "      <td id=\"T_bdabc_row14_col14\" class=\"data row14 col14\" >1.000000</td>\n",
       "    </tr>\n",
       "  </tbody>\n",
       "</table>\n"
      ],
      "text/plain": [
       "<pandas.io.formats.style.Styler at 0x26a8d3c7510>"
      ]
     },
     "execution_count": 180,
     "metadata": {},
     "output_type": "execute_result"
    }
   ],
   "source": [
    "Correlation = train.corr()\n",
    "Correlation.style.applymap(lambda x: 'background-color : yellow' if x > 0.7 else '')"
   ]
  },
  {
   "cell_type": "code",
   "execution_count": 181,
   "id": "776fd483",
   "metadata": {},
   "outputs": [
    {
     "data": {
      "text/html": [
       "<div>\n",
       "<style scoped>\n",
       "    .dataframe tbody tr th:only-of-type {\n",
       "        vertical-align: middle;\n",
       "    }\n",
       "\n",
       "    .dataframe tbody tr th {\n",
       "        vertical-align: top;\n",
       "    }\n",
       "\n",
       "    .dataframe thead th {\n",
       "        text-align: right;\n",
       "    }\n",
       "</style>\n",
       "<table border=\"1\" class=\"dataframe\">\n",
       "  <thead>\n",
       "    <tr style=\"text-align: right;\">\n",
       "      <th></th>\n",
       "      <th>Model</th>\n",
       "      <th>Train Accuracy(R2)</th>\n",
       "      <th>Test Accuracy(R2)</th>\n",
       "      <th>Train_RMSE</th>\n",
       "      <th>Test_RMSE</th>\n",
       "    </tr>\n",
       "  </thead>\n",
       "  <tbody>\n",
       "  </tbody>\n",
       "</table>\n",
       "</div>"
      ],
      "text/plain": [
       "Empty DataFrame\n",
       "Columns: [Model, Train Accuracy(R2), Test Accuracy(R2), Train_RMSE, Test_RMSE]\n",
       "Index: []"
      ]
     },
     "execution_count": 181,
     "metadata": {},
     "output_type": "execute_result"
    }
   ],
   "source": [
    "result = pd.DataFrame(columns=['Model','Train Accuracy(R2)','Test Accuracy(R2)','Train_RMSE','Test_RMSE'])\n",
    "result"
   ]
  },
  {
   "cell_type": "markdown",
   "id": "cf57ed99",
   "metadata": {},
   "source": [
    "# Applying StandardScaler"
   ]
  },
  {
   "cell_type": "code",
   "execution_count": 182,
   "id": "b9edcc37",
   "metadata": {},
   "outputs": [],
   "source": [
    "from sklearn.preprocessing import StandardScaler\n",
    "scaler = StandardScaler()\n",
    "scaler.fit(X_train)\n",
    "X_train= scaler.transform(X_train)\n",
    "X_test = scaler.transform(X_test)\n"
   ]
  },
  {
   "cell_type": "markdown",
   "id": "638176ad",
   "metadata": {},
   "source": [
    "# Linear Regression Model"
   ]
  },
  {
   "cell_type": "code",
   "execution_count": 183,
   "id": "c293f031",
   "metadata": {},
   "outputs": [],
   "source": [
    "data1=final_data"
   ]
  },
  {
   "cell_type": "code",
   "execution_count": 184,
   "id": "86b36393",
   "metadata": {},
   "outputs": [
    {
     "data": {
      "text/html": [
       "<style>#sk-container-id-11 {color: black;}#sk-container-id-11 pre{padding: 0;}#sk-container-id-11 div.sk-toggleable {background-color: white;}#sk-container-id-11 label.sk-toggleable__label {cursor: pointer;display: block;width: 100%;margin-bottom: 0;padding: 0.3em;box-sizing: border-box;text-align: center;}#sk-container-id-11 label.sk-toggleable__label-arrow:before {content: \"▸\";float: left;margin-right: 0.25em;color: #696969;}#sk-container-id-11 label.sk-toggleable__label-arrow:hover:before {color: black;}#sk-container-id-11 div.sk-estimator:hover label.sk-toggleable__label-arrow:before {color: black;}#sk-container-id-11 div.sk-toggleable__content {max-height: 0;max-width: 0;overflow: hidden;text-align: left;background-color: #f0f8ff;}#sk-container-id-11 div.sk-toggleable__content pre {margin: 0.2em;color: black;border-radius: 0.25em;background-color: #f0f8ff;}#sk-container-id-11 input.sk-toggleable__control:checked~div.sk-toggleable__content {max-height: 200px;max-width: 100%;overflow: auto;}#sk-container-id-11 input.sk-toggleable__control:checked~label.sk-toggleable__label-arrow:before {content: \"▾\";}#sk-container-id-11 div.sk-estimator input.sk-toggleable__control:checked~label.sk-toggleable__label {background-color: #d4ebff;}#sk-container-id-11 div.sk-label input.sk-toggleable__control:checked~label.sk-toggleable__label {background-color: #d4ebff;}#sk-container-id-11 input.sk-hidden--visually {border: 0;clip: rect(1px 1px 1px 1px);clip: rect(1px, 1px, 1px, 1px);height: 1px;margin: -1px;overflow: hidden;padding: 0;position: absolute;width: 1px;}#sk-container-id-11 div.sk-estimator {font-family: monospace;background-color: #f0f8ff;border: 1px dotted black;border-radius: 0.25em;box-sizing: border-box;margin-bottom: 0.5em;}#sk-container-id-11 div.sk-estimator:hover {background-color: #d4ebff;}#sk-container-id-11 div.sk-parallel-item::after {content: \"\";width: 100%;border-bottom: 1px solid gray;flex-grow: 1;}#sk-container-id-11 div.sk-label:hover label.sk-toggleable__label {background-color: #d4ebff;}#sk-container-id-11 div.sk-serial::before {content: \"\";position: absolute;border-left: 1px solid gray;box-sizing: border-box;top: 0;bottom: 0;left: 50%;z-index: 0;}#sk-container-id-11 div.sk-serial {display: flex;flex-direction: column;align-items: center;background-color: white;padding-right: 0.2em;padding-left: 0.2em;position: relative;}#sk-container-id-11 div.sk-item {position: relative;z-index: 1;}#sk-container-id-11 div.sk-parallel {display: flex;align-items: stretch;justify-content: center;background-color: white;position: relative;}#sk-container-id-11 div.sk-item::before, #sk-container-id-11 div.sk-parallel-item::before {content: \"\";position: absolute;border-left: 1px solid gray;box-sizing: border-box;top: 0;bottom: 0;left: 50%;z-index: -1;}#sk-container-id-11 div.sk-parallel-item {display: flex;flex-direction: column;z-index: 1;position: relative;background-color: white;}#sk-container-id-11 div.sk-parallel-item:first-child::after {align-self: flex-end;width: 50%;}#sk-container-id-11 div.sk-parallel-item:last-child::after {align-self: flex-start;width: 50%;}#sk-container-id-11 div.sk-parallel-item:only-child::after {width: 0;}#sk-container-id-11 div.sk-dashed-wrapped {border: 1px dashed gray;margin: 0 0.4em 0.5em 0.4em;box-sizing: border-box;padding-bottom: 0.4em;background-color: white;}#sk-container-id-11 div.sk-label label {font-family: monospace;font-weight: bold;display: inline-block;line-height: 1.2em;}#sk-container-id-11 div.sk-label-container {text-align: center;}#sk-container-id-11 div.sk-container {/* jupyter's `normalize.less` sets `[hidden] { display: none; }` but bootstrap.min.css set `[hidden] { display: none !important; }` so we also need the `!important` here to be able to override the default hidden behavior on the sphinx rendered scikit-learn.org. See: https://github.com/scikit-learn/scikit-learn/issues/21755 */display: inline-block !important;position: relative;}#sk-container-id-11 div.sk-text-repr-fallback {display: none;}</style><div id=\"sk-container-id-11\" class=\"sk-top-container\"><div class=\"sk-text-repr-fallback\"><pre>LinearRegression()</pre><b>In a Jupyter environment, please rerun this cell to show the HTML representation or trust the notebook. <br />On GitHub, the HTML representation is unable to render, please try loading this page with nbviewer.org.</b></div><div class=\"sk-container\" hidden><div class=\"sk-item\"><div class=\"sk-estimator sk-toggleable\"><input class=\"sk-toggleable__control sk-hidden--visually\" id=\"sk-estimator-id-13\" type=\"checkbox\" checked><label for=\"sk-estimator-id-13\" class=\"sk-toggleable__label sk-toggleable__label-arrow\">LinearRegression</label><div class=\"sk-toggleable__content\"><pre>LinearRegression()</pre></div></div></div></div></div>"
      ],
      "text/plain": [
       "LinearRegression()"
      ]
     },
     "execution_count": 184,
     "metadata": {},
     "output_type": "execute_result"
    }
   ],
   "source": [
    "from sklearn.linear_model import LinearRegression\n",
    "Model = LinearRegression()\n",
    "Model.fit(X_train,y_train)"
   ]
  },
  {
   "cell_type": "code",
   "execution_count": 185,
   "id": "7586c470",
   "metadata": {},
   "outputs": [
    {
     "data": {
      "text/html": [
       "<div>\n",
       "<style scoped>\n",
       "    .dataframe tbody tr th:only-of-type {\n",
       "        vertical-align: middle;\n",
       "    }\n",
       "\n",
       "    .dataframe tbody tr th {\n",
       "        vertical-align: top;\n",
       "    }\n",
       "\n",
       "    .dataframe thead th {\n",
       "        text-align: right;\n",
       "    }\n",
       "</style>\n",
       "<table border=\"1\" class=\"dataframe\">\n",
       "  <thead>\n",
       "    <tr style=\"text-align: right;\">\n",
       "      <th></th>\n",
       "      <th>Airline</th>\n",
       "      <th>Source</th>\n",
       "      <th>Destination</th>\n",
       "      <th>Route</th>\n",
       "      <th>Total_Stops</th>\n",
       "      <th>Additional_Info</th>\n",
       "      <th>Date</th>\n",
       "      <th>Month</th>\n",
       "      <th>Year</th>\n",
       "      <th>Duration_hour</th>\n",
       "      <th>Arrival_Hour</th>\n",
       "      <th>Arrival_Minute</th>\n",
       "      <th>Dep_Hour</th>\n",
       "      <th>Dep_Minute</th>\n",
       "      <th>Price</th>\n",
       "      <th>Predicted</th>\n",
       "      <th>Residual</th>\n",
       "      <th>Original_price</th>\n",
       "    </tr>\n",
       "  </thead>\n",
       "  <tbody>\n",
       "    <tr>\n",
       "      <th>7420</th>\n",
       "      <td>3</td>\n",
       "      <td>2</td>\n",
       "      <td>1</td>\n",
       "      <td>104</td>\n",
       "      <td>0</td>\n",
       "      <td>8</td>\n",
       "      <td>27</td>\n",
       "      <td>5</td>\n",
       "      <td>2019</td>\n",
       "      <td>13.500000</td>\n",
       "      <td>21</td>\n",
       "      <td>0</td>\n",
       "      <td>7</td>\n",
       "      <td>30</td>\n",
       "      <td>8.783549</td>\n",
       "      <td>9.15</td>\n",
       "      <td>-0.37</td>\n",
       "      <td>6526.0</td>\n",
       "    </tr>\n",
       "    <tr>\n",
       "      <th>883</th>\n",
       "      <td>4</td>\n",
       "      <td>2</td>\n",
       "      <td>1</td>\n",
       "      <td>104</td>\n",
       "      <td>0</td>\n",
       "      <td>5</td>\n",
       "      <td>27</td>\n",
       "      <td>5</td>\n",
       "      <td>2019</td>\n",
       "      <td>10.166667</td>\n",
       "      <td>4</td>\n",
       "      <td>25</td>\n",
       "      <td>18</td>\n",
       "      <td>15</td>\n",
       "      <td>9.464828</td>\n",
       "      <td>9.08</td>\n",
       "      <td>0.38</td>\n",
       "      <td>12898.0</td>\n",
       "    </tr>\n",
       "    <tr>\n",
       "      <th>6114</th>\n",
       "      <td>4</td>\n",
       "      <td>2</td>\n",
       "      <td>1</td>\n",
       "      <td>116</td>\n",
       "      <td>1</td>\n",
       "      <td>8</td>\n",
       "      <td>18</td>\n",
       "      <td>5</td>\n",
       "      <td>2019</td>\n",
       "      <td>13.500000</td>\n",
       "      <td>19</td>\n",
       "      <td>0</td>\n",
       "      <td>5</td>\n",
       "      <td>30</td>\n",
       "      <td>9.624369</td>\n",
       "      <td>9.05</td>\n",
       "      <td>0.57</td>\n",
       "      <td>15129.0</td>\n",
       "    </tr>\n",
       "  </tbody>\n",
       "</table>\n",
       "</div>"
      ],
      "text/plain": [
       "      Airline  Source  Destination  Route  Total_Stops  Additional_Info  Date  \\\n",
       "7420        3       2            1    104            0                8    27   \n",
       "883         4       2            1    104            0                5    27   \n",
       "6114        4       2            1    116            1                8    18   \n",
       "\n",
       "      Month  Year  Duration_hour  Arrival_Hour  Arrival_Minute  Dep_Hour  \\\n",
       "7420      5  2019      13.500000            21               0         7   \n",
       "883       5  2019      10.166667             4              25        18   \n",
       "6114      5  2019      13.500000            19               0         5   \n",
       "\n",
       "      Dep_Minute     Price  Predicted  Residual  Original_price  \n",
       "7420          30  8.783549       9.15     -0.37          6526.0  \n",
       "883           15  9.464828       9.08      0.38         12898.0  \n",
       "6114          30  9.624369       9.05      0.57         15129.0  "
      ]
     },
     "execution_count": 185,
     "metadata": {},
     "output_type": "execute_result"
    }
   ],
   "source": [
    "import numpy as np\n",
    "train['Predicted'] = np.round(Model.predict(X_train),2)\n",
    "train['Residual'] = np.round(train.Price - train.Predicted,2)\n",
    "train['Original_price']=np.exp(train.Price)\n",
    "train.head(3)"
   ]
  },
  {
   "cell_type": "code",
   "execution_count": 186,
   "id": "ec4acd3b",
   "metadata": {},
   "outputs": [
    {
     "name": "stdout",
     "output_type": "stream",
     "text": [
      "R2 score for model Performance on Train :  55.00000000000001\n"
     ]
    }
   ],
   "source": [
    "from sklearn.metrics import r2_score\n",
    "LRtrain_r2 = r2_score(train.Price,train.Predicted)\n",
    "LRTrain_r2=np.round(LRtrain_r2,2)*100\n",
    "print('R2 score for model Performance on Train : ',LRTrain_r2 )"
   ]
  },
  {
   "cell_type": "code",
   "execution_count": 187,
   "id": "55f1de47",
   "metadata": {},
   "outputs": [
    {
     "name": "stdout",
     "output_type": "stream",
     "text": [
      "Train RMSE : 1.4127660550274113\n"
     ]
    }
   ],
   "source": [
    "from sklearn.metrics import mean_squared_error\n",
    "model_mse = mean_squared_error(train['Price'], train['Predicted'])\n",
    "LRtrain_rmse = np.sqrt(model_mse)\n",
    "LRtrain_rmse= np.exp(LRtrain_rmse)\n",
    "print(\"Train RMSE :\",LRtrain_rmse)\n"
   ]
  },
  {
   "cell_type": "code",
   "execution_count": 188,
   "id": "25a3e29a",
   "metadata": {},
   "outputs": [
    {
     "data": {
      "text/html": [
       "<div>\n",
       "<style scoped>\n",
       "    .dataframe tbody tr th:only-of-type {\n",
       "        vertical-align: middle;\n",
       "    }\n",
       "\n",
       "    .dataframe tbody tr th {\n",
       "        vertical-align: top;\n",
       "    }\n",
       "\n",
       "    .dataframe thead th {\n",
       "        text-align: right;\n",
       "    }\n",
       "</style>\n",
       "<table border=\"1\" class=\"dataframe\">\n",
       "  <thead>\n",
       "    <tr style=\"text-align: right;\">\n",
       "      <th></th>\n",
       "      <th>Airline</th>\n",
       "      <th>Source</th>\n",
       "      <th>Destination</th>\n",
       "      <th>Route</th>\n",
       "      <th>Total_Stops</th>\n",
       "      <th>Additional_Info</th>\n",
       "      <th>Date</th>\n",
       "      <th>Month</th>\n",
       "      <th>Year</th>\n",
       "      <th>Duration_hour</th>\n",
       "      <th>Arrival_Hour</th>\n",
       "      <th>Arrival_Minute</th>\n",
       "      <th>Dep_Hour</th>\n",
       "      <th>Dep_Minute</th>\n",
       "      <th>Price</th>\n",
       "      <th>Predicted</th>\n",
       "      <th>Residual</th>\n",
       "      <th>Original_price</th>\n",
       "    </tr>\n",
       "  </thead>\n",
       "  <tbody>\n",
       "    <tr>\n",
       "      <th>10339</th>\n",
       "      <td>4</td>\n",
       "      <td>3</td>\n",
       "      <td>0</td>\n",
       "      <td>73</td>\n",
       "      <td>0</td>\n",
       "      <td>5</td>\n",
       "      <td>12</td>\n",
       "      <td>6</td>\n",
       "      <td>2019</td>\n",
       "      <td>13.333333</td>\n",
       "      <td>9</td>\n",
       "      <td>45</td>\n",
       "      <td>20</td>\n",
       "      <td>25</td>\n",
       "      <td>9.262838</td>\n",
       "      <td>9.14</td>\n",
       "      <td>0.12</td>\n",
       "      <td>10539.0</td>\n",
       "    </tr>\n",
       "    <tr>\n",
       "      <th>6897</th>\n",
       "      <td>6</td>\n",
       "      <td>2</td>\n",
       "      <td>1</td>\n",
       "      <td>104</td>\n",
       "      <td>0</td>\n",
       "      <td>8</td>\n",
       "      <td>6</td>\n",
       "      <td>3</td>\n",
       "      <td>2019</td>\n",
       "      <td>14.833333</td>\n",
       "      <td>18</td>\n",
       "      <td>50</td>\n",
       "      <td>4</td>\n",
       "      <td>0</td>\n",
       "      <td>9.502935</td>\n",
       "      <td>9.39</td>\n",
       "      <td>0.11</td>\n",
       "      <td>13399.0</td>\n",
       "    </tr>\n",
       "    <tr>\n",
       "      <th>7255</th>\n",
       "      <td>3</td>\n",
       "      <td>4</td>\n",
       "      <td>3</td>\n",
       "      <td>48</td>\n",
       "      <td>4</td>\n",
       "      <td>8</td>\n",
       "      <td>15</td>\n",
       "      <td>3</td>\n",
       "      <td>2019</td>\n",
       "      <td>1.500000</td>\n",
       "      <td>18</td>\n",
       "      <td>25</td>\n",
       "      <td>16</td>\n",
       "      <td>55</td>\n",
       "      <td>8.063063</td>\n",
       "      <td>8.31</td>\n",
       "      <td>-0.25</td>\n",
       "      <td>3175.0</td>\n",
       "    </tr>\n",
       "  </tbody>\n",
       "</table>\n",
       "</div>"
      ],
      "text/plain": [
       "       Airline  Source  Destination  Route  Total_Stops  Additional_Info  \\\n",
       "10339        4       3            0     73            0                5   \n",
       "6897         6       2            1    104            0                8   \n",
       "7255         3       4            3     48            4                8   \n",
       "\n",
       "       Date  Month  Year  Duration_hour  Arrival_Hour  Arrival_Minute  \\\n",
       "10339    12      6  2019      13.333333             9              45   \n",
       "6897      6      3  2019      14.833333            18              50   \n",
       "7255     15      3  2019       1.500000            18              25   \n",
       "\n",
       "       Dep_Hour  Dep_Minute     Price  Predicted  Residual  Original_price  \n",
       "10339        20          25  9.262838       9.14      0.12         10539.0  \n",
       "6897          4           0  9.502935       9.39      0.11         13399.0  \n",
       "7255         16          55  8.063063       8.31     -0.25          3175.0  "
      ]
     },
     "execution_count": 188,
     "metadata": {},
     "output_type": "execute_result"
    }
   ],
   "source": [
    "test['Predicted'] = np.round(Model.predict(X_test),2)\n",
    "test['Residual'] = np.round(test.Price - test.Predicted,2)\n",
    "test['Original_price']=np.exp(test.Price)\n",
    "test.head(3)"
   ]
  },
  {
   "cell_type": "code",
   "execution_count": 189,
   "id": "fabeac67",
   "metadata": {},
   "outputs": [
    {
     "name": "stdout",
     "output_type": "stream",
     "text": [
      "R2 score for model Performance on Train :  56.00000000000001\n"
     ]
    }
   ],
   "source": [
    "from sklearn.metrics import r2_score\n",
    "LRTest_r2 = r2_score(test.Price,test.Predicted)\n",
    "LRTest_r2 = np.round(LRTest_r2,2)*100\n",
    "\n",
    "print('R2 score for model Performance on Train : ', LRTest_r2)"
   ]
  },
  {
   "cell_type": "code",
   "execution_count": 190,
   "id": "43c37353",
   "metadata": {},
   "outputs": [
    {
     "name": "stdout",
     "output_type": "stream",
     "text": [
      "Test RMSE :  4.107300725767073\n"
     ]
    }
   ],
   "source": [
    "from sklearn.metrics import mean_squared_error\n",
    "model2_mse = mean_squared_error(test['Price'], test['Predicted'])\n",
    "LRTestmodel_rmse = np.sqrt(model2_mse)**2\n",
    "LRTest_rmse = np.sqrt(model_mse)\n",
    "LRTest_rmse= np.exp(LRtrain_rmse)\n",
    "print(\"Test RMSE : \",LRTest_rmse)"
   ]
  },
  {
   "cell_type": "code",
   "execution_count": 191,
   "id": "d7b4c49b",
   "metadata": {},
   "outputs": [
    {
     "data": {
      "text/html": [
       "<div>\n",
       "<style scoped>\n",
       "    .dataframe tbody tr th:only-of-type {\n",
       "        vertical-align: middle;\n",
       "    }\n",
       "\n",
       "    .dataframe tbody tr th {\n",
       "        vertical-align: top;\n",
       "    }\n",
       "\n",
       "    .dataframe thead th {\n",
       "        text-align: right;\n",
       "    }\n",
       "</style>\n",
       "<table border=\"1\" class=\"dataframe\">\n",
       "  <thead>\n",
       "    <tr style=\"text-align: right;\">\n",
       "      <th></th>\n",
       "      <th>Model</th>\n",
       "      <th>Train Accuracy(R2)</th>\n",
       "      <th>Test Accuracy(R2)</th>\n",
       "      <th>Train_RMSE</th>\n",
       "      <th>Test_RMSE</th>\n",
       "    </tr>\n",
       "  </thead>\n",
       "  <tbody>\n",
       "    <tr>\n",
       "      <th>0</th>\n",
       "      <td>Linear Regression</td>\n",
       "      <td>55.0</td>\n",
       "      <td>56.0</td>\n",
       "      <td>1.412766</td>\n",
       "      <td>4.107301</td>\n",
       "    </tr>\n",
       "  </tbody>\n",
       "</table>\n",
       "</div>"
      ],
      "text/plain": [
       "               Model  Train Accuracy(R2)  Test Accuracy(R2)  Train_RMSE  \\\n",
       "0  Linear Regression                55.0               56.0    1.412766   \n",
       "\n",
       "   Test_RMSE  \n",
       "0   4.107301  "
      ]
     },
     "execution_count": 191,
     "metadata": {},
     "output_type": "execute_result"
    }
   ],
   "source": [
    "\n",
    "result = result._append(pd.Series({'Model':'Linear Regression','Train Accuracy(R2)':LRTrain_r2,'Train_RMSE':LRtrain_rmse,'Test Accuracy(R2)': LRTest_r2,'Test_RMSE':LRTest_rmse}),ignore_index=True )\n",
    "result"
   ]
  },
  {
   "cell_type": "markdown",
   "id": "1a30c9f8",
   "metadata": {},
   "source": [
    "# Decision Tree model"
   ]
  },
  {
   "cell_type": "code",
   "execution_count": 192,
   "id": "c44d0296",
   "metadata": {},
   "outputs": [
    {
     "data": {
      "text/html": [
       "<style>#sk-container-id-12 {color: black;}#sk-container-id-12 pre{padding: 0;}#sk-container-id-12 div.sk-toggleable {background-color: white;}#sk-container-id-12 label.sk-toggleable__label {cursor: pointer;display: block;width: 100%;margin-bottom: 0;padding: 0.3em;box-sizing: border-box;text-align: center;}#sk-container-id-12 label.sk-toggleable__label-arrow:before {content: \"▸\";float: left;margin-right: 0.25em;color: #696969;}#sk-container-id-12 label.sk-toggleable__label-arrow:hover:before {color: black;}#sk-container-id-12 div.sk-estimator:hover label.sk-toggleable__label-arrow:before {color: black;}#sk-container-id-12 div.sk-toggleable__content {max-height: 0;max-width: 0;overflow: hidden;text-align: left;background-color: #f0f8ff;}#sk-container-id-12 div.sk-toggleable__content pre {margin: 0.2em;color: black;border-radius: 0.25em;background-color: #f0f8ff;}#sk-container-id-12 input.sk-toggleable__control:checked~div.sk-toggleable__content {max-height: 200px;max-width: 100%;overflow: auto;}#sk-container-id-12 input.sk-toggleable__control:checked~label.sk-toggleable__label-arrow:before {content: \"▾\";}#sk-container-id-12 div.sk-estimator input.sk-toggleable__control:checked~label.sk-toggleable__label {background-color: #d4ebff;}#sk-container-id-12 div.sk-label input.sk-toggleable__control:checked~label.sk-toggleable__label {background-color: #d4ebff;}#sk-container-id-12 input.sk-hidden--visually {border: 0;clip: rect(1px 1px 1px 1px);clip: rect(1px, 1px, 1px, 1px);height: 1px;margin: -1px;overflow: hidden;padding: 0;position: absolute;width: 1px;}#sk-container-id-12 div.sk-estimator {font-family: monospace;background-color: #f0f8ff;border: 1px dotted black;border-radius: 0.25em;box-sizing: border-box;margin-bottom: 0.5em;}#sk-container-id-12 div.sk-estimator:hover {background-color: #d4ebff;}#sk-container-id-12 div.sk-parallel-item::after {content: \"\";width: 100%;border-bottom: 1px solid gray;flex-grow: 1;}#sk-container-id-12 div.sk-label:hover label.sk-toggleable__label {background-color: #d4ebff;}#sk-container-id-12 div.sk-serial::before {content: \"\";position: absolute;border-left: 1px solid gray;box-sizing: border-box;top: 0;bottom: 0;left: 50%;z-index: 0;}#sk-container-id-12 div.sk-serial {display: flex;flex-direction: column;align-items: center;background-color: white;padding-right: 0.2em;padding-left: 0.2em;position: relative;}#sk-container-id-12 div.sk-item {position: relative;z-index: 1;}#sk-container-id-12 div.sk-parallel {display: flex;align-items: stretch;justify-content: center;background-color: white;position: relative;}#sk-container-id-12 div.sk-item::before, #sk-container-id-12 div.sk-parallel-item::before {content: \"\";position: absolute;border-left: 1px solid gray;box-sizing: border-box;top: 0;bottom: 0;left: 50%;z-index: -1;}#sk-container-id-12 div.sk-parallel-item {display: flex;flex-direction: column;z-index: 1;position: relative;background-color: white;}#sk-container-id-12 div.sk-parallel-item:first-child::after {align-self: flex-end;width: 50%;}#sk-container-id-12 div.sk-parallel-item:last-child::after {align-self: flex-start;width: 50%;}#sk-container-id-12 div.sk-parallel-item:only-child::after {width: 0;}#sk-container-id-12 div.sk-dashed-wrapped {border: 1px dashed gray;margin: 0 0.4em 0.5em 0.4em;box-sizing: border-box;padding-bottom: 0.4em;background-color: white;}#sk-container-id-12 div.sk-label label {font-family: monospace;font-weight: bold;display: inline-block;line-height: 1.2em;}#sk-container-id-12 div.sk-label-container {text-align: center;}#sk-container-id-12 div.sk-container {/* jupyter's `normalize.less` sets `[hidden] { display: none; }` but bootstrap.min.css set `[hidden] { display: none !important; }` so we also need the `!important` here to be able to override the default hidden behavior on the sphinx rendered scikit-learn.org. See: https://github.com/scikit-learn/scikit-learn/issues/21755 */display: inline-block !important;position: relative;}#sk-container-id-12 div.sk-text-repr-fallback {display: none;}</style><div id=\"sk-container-id-12\" class=\"sk-top-container\"><div class=\"sk-text-repr-fallback\"><pre>DecisionTreeRegressor(max_depth=4)</pre><b>In a Jupyter environment, please rerun this cell to show the HTML representation or trust the notebook. <br />On GitHub, the HTML representation is unable to render, please try loading this page with nbviewer.org.</b></div><div class=\"sk-container\" hidden><div class=\"sk-item\"><div class=\"sk-estimator sk-toggleable\"><input class=\"sk-toggleable__control sk-hidden--visually\" id=\"sk-estimator-id-14\" type=\"checkbox\" checked><label for=\"sk-estimator-id-14\" class=\"sk-toggleable__label sk-toggleable__label-arrow\">DecisionTreeRegressor</label><div class=\"sk-toggleable__content\"><pre>DecisionTreeRegressor(max_depth=4)</pre></div></div></div></div></div>"
      ],
      "text/plain": [
       "DecisionTreeRegressor(max_depth=4)"
      ]
     },
     "execution_count": 192,
     "metadata": {},
     "output_type": "execute_result"
    }
   ],
   "source": [
    "from sklearn import tree\n",
    "Model2 = tree.DecisionTreeRegressor(criterion='squared_error',max_depth=4)\n",
    "Model2.fit(X_train,y_train)"
   ]
  },
  {
   "cell_type": "code",
   "execution_count": 193,
   "id": "66528530",
   "metadata": {},
   "outputs": [],
   "source": [
    "d_predTrain=np.round(Model2.predict(X_train),2)\n",
    "d_predTest=np.round(Model2.predict(X_test),2)"
   ]
  },
  {
   "cell_type": "code",
   "execution_count": 194,
   "id": "9103d4b1",
   "metadata": {},
   "outputs": [
    {
     "name": "stdout",
     "output_type": "stream",
     "text": [
      "R2 score for model Performance on Train :  75.0\n",
      "Train RMSE :  1.2962719476942892\n"
     ]
    }
   ],
   "source": [
    "dtTrain_r2 = r2_score(train.Price,d_predTrain)\n",
    "dtTrain_r2=np.round(dtTrain_r2,2)*100\n",
    "print('R2 score for model Performance on Train : ', dtTrain_r2)\n",
    "model3_mse = mean_squared_error(train['Price'], d_predTrain)\n",
    "dtTrain_rmse = np.sqrt(model3_mse)\n",
    "dtTrain_rmse= np.exp(dtTrain_rmse)\n",
    "print(\"Train RMSE : \",(dtTrain_rmse))"
   ]
  },
  {
   "cell_type": "code",
   "execution_count": 195,
   "id": "11d2958e",
   "metadata": {},
   "outputs": [
    {
     "name": "stdout",
     "output_type": "stream",
     "text": [
      "R2 score for model Performance on Train :  74.0\n",
      "Text RMSE :  1.2981018362360806\n"
     ]
    }
   ],
   "source": [
    "dtTest_r2 = r2_score(test.Price,d_predTest)\n",
    "dtTest_r2=np.round(dtTest_r2,2)*100\n",
    "print('R2 score for model Performance on Train : ', dtTest_r2)\n",
    "model4_mse = mean_squared_error(test['Price'], d_predTest)\n",
    "dtTest_rmse = np.sqrt(model4_mse)\n",
    "dtTest_rmse= np.exp(dtTest_rmse)\n",
    "print(\"Text RMSE : \",(dtTest_rmse))"
   ]
  },
  {
   "cell_type": "code",
   "execution_count": 196,
   "id": "88932730",
   "metadata": {},
   "outputs": [
    {
     "data": {
      "text/html": [
       "<div>\n",
       "<style scoped>\n",
       "    .dataframe tbody tr th:only-of-type {\n",
       "        vertical-align: middle;\n",
       "    }\n",
       "\n",
       "    .dataframe tbody tr th {\n",
       "        vertical-align: top;\n",
       "    }\n",
       "\n",
       "    .dataframe thead th {\n",
       "        text-align: right;\n",
       "    }\n",
       "</style>\n",
       "<table border=\"1\" class=\"dataframe\">\n",
       "  <thead>\n",
       "    <tr style=\"text-align: right;\">\n",
       "      <th></th>\n",
       "      <th>Model</th>\n",
       "      <th>Train Accuracy(R2)</th>\n",
       "      <th>Test Accuracy(R2)</th>\n",
       "      <th>Train_RMSE</th>\n",
       "      <th>Test_RMSE</th>\n",
       "    </tr>\n",
       "  </thead>\n",
       "  <tbody>\n",
       "    <tr>\n",
       "      <th>0</th>\n",
       "      <td>Linear Regression</td>\n",
       "      <td>55.0</td>\n",
       "      <td>56.0</td>\n",
       "      <td>1.412766</td>\n",
       "      <td>4.107301</td>\n",
       "    </tr>\n",
       "    <tr>\n",
       "      <th>1</th>\n",
       "      <td>DecisionTree Regression</td>\n",
       "      <td>75.0</td>\n",
       "      <td>74.0</td>\n",
       "      <td>1.296272</td>\n",
       "      <td>1.298102</td>\n",
       "    </tr>\n",
       "  </tbody>\n",
       "</table>\n",
       "</div>"
      ],
      "text/plain": [
       "                     Model  Train Accuracy(R2)  Test Accuracy(R2)  Train_RMSE  \\\n",
       "0        Linear Regression                55.0               56.0    1.412766   \n",
       "1  DecisionTree Regression                75.0               74.0    1.296272   \n",
       "\n",
       "   Test_RMSE  \n",
       "0   4.107301  \n",
       "1   1.298102  "
      ]
     },
     "execution_count": 196,
     "metadata": {},
     "output_type": "execute_result"
    }
   ],
   "source": [
    "result = result._append(pd.Series({'Model':'DecisionTree Regression','Train Accuracy(R2)':dtTrain_r2,'Train_RMSE':dtTrain_rmse,'Test Accuracy(R2)': dtTest_r2,'Test_RMSE':dtTest_rmse}),ignore_index=True )\n",
    "result"
   ]
  },
  {
   "cell_type": "markdown",
   "id": "5b97525a",
   "metadata": {},
   "source": [
    "# Random Forest Model\n"
   ]
  },
  {
   "cell_type": "code",
   "execution_count": 197,
   "id": "433e0e86",
   "metadata": {},
   "outputs": [
    {
     "data": {
      "text/html": [
       "<style>#sk-container-id-13 {color: black;}#sk-container-id-13 pre{padding: 0;}#sk-container-id-13 div.sk-toggleable {background-color: white;}#sk-container-id-13 label.sk-toggleable__label {cursor: pointer;display: block;width: 100%;margin-bottom: 0;padding: 0.3em;box-sizing: border-box;text-align: center;}#sk-container-id-13 label.sk-toggleable__label-arrow:before {content: \"▸\";float: left;margin-right: 0.25em;color: #696969;}#sk-container-id-13 label.sk-toggleable__label-arrow:hover:before {color: black;}#sk-container-id-13 div.sk-estimator:hover label.sk-toggleable__label-arrow:before {color: black;}#sk-container-id-13 div.sk-toggleable__content {max-height: 0;max-width: 0;overflow: hidden;text-align: left;background-color: #f0f8ff;}#sk-container-id-13 div.sk-toggleable__content pre {margin: 0.2em;color: black;border-radius: 0.25em;background-color: #f0f8ff;}#sk-container-id-13 input.sk-toggleable__control:checked~div.sk-toggleable__content {max-height: 200px;max-width: 100%;overflow: auto;}#sk-container-id-13 input.sk-toggleable__control:checked~label.sk-toggleable__label-arrow:before {content: \"▾\";}#sk-container-id-13 div.sk-estimator input.sk-toggleable__control:checked~label.sk-toggleable__label {background-color: #d4ebff;}#sk-container-id-13 div.sk-label input.sk-toggleable__control:checked~label.sk-toggleable__label {background-color: #d4ebff;}#sk-container-id-13 input.sk-hidden--visually {border: 0;clip: rect(1px 1px 1px 1px);clip: rect(1px, 1px, 1px, 1px);height: 1px;margin: -1px;overflow: hidden;padding: 0;position: absolute;width: 1px;}#sk-container-id-13 div.sk-estimator {font-family: monospace;background-color: #f0f8ff;border: 1px dotted black;border-radius: 0.25em;box-sizing: border-box;margin-bottom: 0.5em;}#sk-container-id-13 div.sk-estimator:hover {background-color: #d4ebff;}#sk-container-id-13 div.sk-parallel-item::after {content: \"\";width: 100%;border-bottom: 1px solid gray;flex-grow: 1;}#sk-container-id-13 div.sk-label:hover label.sk-toggleable__label {background-color: #d4ebff;}#sk-container-id-13 div.sk-serial::before {content: \"\";position: absolute;border-left: 1px solid gray;box-sizing: border-box;top: 0;bottom: 0;left: 50%;z-index: 0;}#sk-container-id-13 div.sk-serial {display: flex;flex-direction: column;align-items: center;background-color: white;padding-right: 0.2em;padding-left: 0.2em;position: relative;}#sk-container-id-13 div.sk-item {position: relative;z-index: 1;}#sk-container-id-13 div.sk-parallel {display: flex;align-items: stretch;justify-content: center;background-color: white;position: relative;}#sk-container-id-13 div.sk-item::before, #sk-container-id-13 div.sk-parallel-item::before {content: \"\";position: absolute;border-left: 1px solid gray;box-sizing: border-box;top: 0;bottom: 0;left: 50%;z-index: -1;}#sk-container-id-13 div.sk-parallel-item {display: flex;flex-direction: column;z-index: 1;position: relative;background-color: white;}#sk-container-id-13 div.sk-parallel-item:first-child::after {align-self: flex-end;width: 50%;}#sk-container-id-13 div.sk-parallel-item:last-child::after {align-self: flex-start;width: 50%;}#sk-container-id-13 div.sk-parallel-item:only-child::after {width: 0;}#sk-container-id-13 div.sk-dashed-wrapped {border: 1px dashed gray;margin: 0 0.4em 0.5em 0.4em;box-sizing: border-box;padding-bottom: 0.4em;background-color: white;}#sk-container-id-13 div.sk-label label {font-family: monospace;font-weight: bold;display: inline-block;line-height: 1.2em;}#sk-container-id-13 div.sk-label-container {text-align: center;}#sk-container-id-13 div.sk-container {/* jupyter's `normalize.less` sets `[hidden] { display: none; }` but bootstrap.min.css set `[hidden] { display: none !important; }` so we also need the `!important` here to be able to override the default hidden behavior on the sphinx rendered scikit-learn.org. See: https://github.com/scikit-learn/scikit-learn/issues/21755 */display: inline-block !important;position: relative;}#sk-container-id-13 div.sk-text-repr-fallback {display: none;}</style><div id=\"sk-container-id-13\" class=\"sk-top-container\"><div class=\"sk-text-repr-fallback\"><pre>RandomForestRegressor(max_depth=4, n_estimators=50)</pre><b>In a Jupyter environment, please rerun this cell to show the HTML representation or trust the notebook. <br />On GitHub, the HTML representation is unable to render, please try loading this page with nbviewer.org.</b></div><div class=\"sk-container\" hidden><div class=\"sk-item\"><div class=\"sk-estimator sk-toggleable\"><input class=\"sk-toggleable__control sk-hidden--visually\" id=\"sk-estimator-id-15\" type=\"checkbox\" checked><label for=\"sk-estimator-id-15\" class=\"sk-toggleable__label sk-toggleable__label-arrow\">RandomForestRegressor</label><div class=\"sk-toggleable__content\"><pre>RandomForestRegressor(max_depth=4, n_estimators=50)</pre></div></div></div></div></div>"
      ],
      "text/plain": [
       "RandomForestRegressor(max_depth=4, n_estimators=50)"
      ]
     },
     "execution_count": 197,
     "metadata": {},
     "output_type": "execute_result"
    }
   ],
   "source": [
    "from sklearn.ensemble import RandomForestRegressor\n",
    "Model3 = RandomForestRegressor(n_estimators=50, criterion='squared_error',max_depth= 4)\n",
    "Model3.fit(X_train,y_train)"
   ]
  },
  {
   "cell_type": "code",
   "execution_count": 198,
   "id": "f2d9a99a",
   "metadata": {},
   "outputs": [],
   "source": [
    "R_predTrain=np.round(Model3.predict(X_train),2)\n",
    "R_predTest=np.round(Model3.predict(X_test),2)"
   ]
  },
  {
   "cell_type": "code",
   "execution_count": 199,
   "id": "cbe370b3",
   "metadata": {},
   "outputs": [
    {
     "name": "stdout",
     "output_type": "stream",
     "text": [
      "R2 score for model Performance on Train :  76.0\n",
      "Train RMSE :  1.2864846475139848\n"
     ]
    }
   ],
   "source": [
    "RDTrain_r2= r2_score(train.Price,R_predTrain)\n",
    "RDTrain_r2=np.round(RDTrain_r2,2)*100\n",
    "print('R2 score for model Performance on Train : ', RDTrain_r2)\n",
    "model5_mse = mean_squared_error(train['Price'], R_predTrain)\n",
    "RDTrain_rmse = np.sqrt(model5_mse)\n",
    "RDTrain_rmse= np.exp(RDTrain_rmse)\n",
    "print(\"Train RMSE : \",(RDTrain_rmse))"
   ]
  },
  {
   "cell_type": "code",
   "execution_count": 200,
   "id": "9a4a139d",
   "metadata": {},
   "outputs": [
    {
     "name": "stdout",
     "output_type": "stream",
     "text": [
      "R2 score for model Performance on Train :  76.0\n",
      "Test RMSE :  1.2858651312712133\n"
     ]
    }
   ],
   "source": [
    "RDTest_r2 = r2_score(test.Price,R_predTest)\n",
    "RDTest_r2=np.round(RDTest_r2,2)*100\n",
    "print('R2 score for model Performance on Train : ', RDTest_r2)\n",
    "model6_mse = mean_squared_error(test['Price'], R_predTest)\n",
    "RDTest_rmse = np.sqrt(model6_mse)\n",
    "RDTest_rmse= np.exp(RDTest_rmse)\n",
    "print(\"Test RMSE : \",(RDTest_rmse))"
   ]
  },
  {
   "cell_type": "code",
   "execution_count": 201,
   "id": "232d22c0",
   "metadata": {},
   "outputs": [
    {
     "data": {
      "text/html": [
       "<div>\n",
       "<style scoped>\n",
       "    .dataframe tbody tr th:only-of-type {\n",
       "        vertical-align: middle;\n",
       "    }\n",
       "\n",
       "    .dataframe tbody tr th {\n",
       "        vertical-align: top;\n",
       "    }\n",
       "\n",
       "    .dataframe thead th {\n",
       "        text-align: right;\n",
       "    }\n",
       "</style>\n",
       "<table border=\"1\" class=\"dataframe\">\n",
       "  <thead>\n",
       "    <tr style=\"text-align: right;\">\n",
       "      <th></th>\n",
       "      <th>Model</th>\n",
       "      <th>Train Accuracy(R2)</th>\n",
       "      <th>Test Accuracy(R2)</th>\n",
       "      <th>Train_RMSE</th>\n",
       "      <th>Test_RMSE</th>\n",
       "    </tr>\n",
       "  </thead>\n",
       "  <tbody>\n",
       "    <tr>\n",
       "      <th>0</th>\n",
       "      <td>Linear Regression</td>\n",
       "      <td>55.0</td>\n",
       "      <td>56.0</td>\n",
       "      <td>1.412766</td>\n",
       "      <td>4.107301</td>\n",
       "    </tr>\n",
       "    <tr>\n",
       "      <th>1</th>\n",
       "      <td>DecisionTree Regression</td>\n",
       "      <td>75.0</td>\n",
       "      <td>74.0</td>\n",
       "      <td>1.296272</td>\n",
       "      <td>1.298102</td>\n",
       "    </tr>\n",
       "    <tr>\n",
       "      <th>2</th>\n",
       "      <td>RandomForest Regression</td>\n",
       "      <td>76.0</td>\n",
       "      <td>76.0</td>\n",
       "      <td>1.286485</td>\n",
       "      <td>1.285865</td>\n",
       "    </tr>\n",
       "  </tbody>\n",
       "</table>\n",
       "</div>"
      ],
      "text/plain": [
       "                     Model  Train Accuracy(R2)  Test Accuracy(R2)  Train_RMSE  \\\n",
       "0        Linear Regression                55.0               56.0    1.412766   \n",
       "1  DecisionTree Regression                75.0               74.0    1.296272   \n",
       "2  RandomForest Regression                76.0               76.0    1.286485   \n",
       "\n",
       "   Test_RMSE  \n",
       "0   4.107301  \n",
       "1   1.298102  \n",
       "2   1.285865  "
      ]
     },
     "execution_count": 201,
     "metadata": {},
     "output_type": "execute_result"
    }
   ],
   "source": [
    "result = result._append(pd.Series({'Model':'RandomForest Regression','Train Accuracy(R2)':RDTrain_r2,'Train_RMSE':RDTrain_rmse,'Test Accuracy(R2)': RDTest_r2,'Test_RMSE':RDTest_rmse}),ignore_index=True )\n",
    "result"
   ]
  },
  {
   "cell_type": "markdown",
   "id": "c7edd76b",
   "metadata": {},
   "source": [
    "# Ridge Regression Model"
   ]
  },
  {
   "cell_type": "code",
   "execution_count": 202,
   "id": "414c3725",
   "metadata": {},
   "outputs": [
    {
     "data": {
      "text/html": [
       "<style>#sk-container-id-14 {color: black;}#sk-container-id-14 pre{padding: 0;}#sk-container-id-14 div.sk-toggleable {background-color: white;}#sk-container-id-14 label.sk-toggleable__label {cursor: pointer;display: block;width: 100%;margin-bottom: 0;padding: 0.3em;box-sizing: border-box;text-align: center;}#sk-container-id-14 label.sk-toggleable__label-arrow:before {content: \"▸\";float: left;margin-right: 0.25em;color: #696969;}#sk-container-id-14 label.sk-toggleable__label-arrow:hover:before {color: black;}#sk-container-id-14 div.sk-estimator:hover label.sk-toggleable__label-arrow:before {color: black;}#sk-container-id-14 div.sk-toggleable__content {max-height: 0;max-width: 0;overflow: hidden;text-align: left;background-color: #f0f8ff;}#sk-container-id-14 div.sk-toggleable__content pre {margin: 0.2em;color: black;border-radius: 0.25em;background-color: #f0f8ff;}#sk-container-id-14 input.sk-toggleable__control:checked~div.sk-toggleable__content {max-height: 200px;max-width: 100%;overflow: auto;}#sk-container-id-14 input.sk-toggleable__control:checked~label.sk-toggleable__label-arrow:before {content: \"▾\";}#sk-container-id-14 div.sk-estimator input.sk-toggleable__control:checked~label.sk-toggleable__label {background-color: #d4ebff;}#sk-container-id-14 div.sk-label input.sk-toggleable__control:checked~label.sk-toggleable__label {background-color: #d4ebff;}#sk-container-id-14 input.sk-hidden--visually {border: 0;clip: rect(1px 1px 1px 1px);clip: rect(1px, 1px, 1px, 1px);height: 1px;margin: -1px;overflow: hidden;padding: 0;position: absolute;width: 1px;}#sk-container-id-14 div.sk-estimator {font-family: monospace;background-color: #f0f8ff;border: 1px dotted black;border-radius: 0.25em;box-sizing: border-box;margin-bottom: 0.5em;}#sk-container-id-14 div.sk-estimator:hover {background-color: #d4ebff;}#sk-container-id-14 div.sk-parallel-item::after {content: \"\";width: 100%;border-bottom: 1px solid gray;flex-grow: 1;}#sk-container-id-14 div.sk-label:hover label.sk-toggleable__label {background-color: #d4ebff;}#sk-container-id-14 div.sk-serial::before {content: \"\";position: absolute;border-left: 1px solid gray;box-sizing: border-box;top: 0;bottom: 0;left: 50%;z-index: 0;}#sk-container-id-14 div.sk-serial {display: flex;flex-direction: column;align-items: center;background-color: white;padding-right: 0.2em;padding-left: 0.2em;position: relative;}#sk-container-id-14 div.sk-item {position: relative;z-index: 1;}#sk-container-id-14 div.sk-parallel {display: flex;align-items: stretch;justify-content: center;background-color: white;position: relative;}#sk-container-id-14 div.sk-item::before, #sk-container-id-14 div.sk-parallel-item::before {content: \"\";position: absolute;border-left: 1px solid gray;box-sizing: border-box;top: 0;bottom: 0;left: 50%;z-index: -1;}#sk-container-id-14 div.sk-parallel-item {display: flex;flex-direction: column;z-index: 1;position: relative;background-color: white;}#sk-container-id-14 div.sk-parallel-item:first-child::after {align-self: flex-end;width: 50%;}#sk-container-id-14 div.sk-parallel-item:last-child::after {align-self: flex-start;width: 50%;}#sk-container-id-14 div.sk-parallel-item:only-child::after {width: 0;}#sk-container-id-14 div.sk-dashed-wrapped {border: 1px dashed gray;margin: 0 0.4em 0.5em 0.4em;box-sizing: border-box;padding-bottom: 0.4em;background-color: white;}#sk-container-id-14 div.sk-label label {font-family: monospace;font-weight: bold;display: inline-block;line-height: 1.2em;}#sk-container-id-14 div.sk-label-container {text-align: center;}#sk-container-id-14 div.sk-container {/* jupyter's `normalize.less` sets `[hidden] { display: none; }` but bootstrap.min.css set `[hidden] { display: none !important; }` so we also need the `!important` here to be able to override the default hidden behavior on the sphinx rendered scikit-learn.org. See: https://github.com/scikit-learn/scikit-learn/issues/21755 */display: inline-block !important;position: relative;}#sk-container-id-14 div.sk-text-repr-fallback {display: none;}</style><div id=\"sk-container-id-14\" class=\"sk-top-container\"><div class=\"sk-text-repr-fallback\"><pre>Ridge(alpha=1)</pre><b>In a Jupyter environment, please rerun this cell to show the HTML representation or trust the notebook. <br />On GitHub, the HTML representation is unable to render, please try loading this page with nbviewer.org.</b></div><div class=\"sk-container\" hidden><div class=\"sk-item\"><div class=\"sk-estimator sk-toggleable\"><input class=\"sk-toggleable__control sk-hidden--visually\" id=\"sk-estimator-id-16\" type=\"checkbox\" checked><label for=\"sk-estimator-id-16\" class=\"sk-toggleable__label sk-toggleable__label-arrow\">Ridge</label><div class=\"sk-toggleable__content\"><pre>Ridge(alpha=1)</pre></div></div></div></div></div>"
      ],
      "text/plain": [
       "Ridge(alpha=1)"
      ]
     },
     "execution_count": 202,
     "metadata": {},
     "output_type": "execute_result"
    }
   ],
   "source": [
    "from sklearn.linear_model import Ridge\n",
    "ridgereg = Ridge(alpha=1)\n",
    "ridgereg.fit(X_train,y_train)"
   ]
  },
  {
   "cell_type": "code",
   "execution_count": 203,
   "id": "293611d7",
   "metadata": {},
   "outputs": [],
   "source": [
    "RegTrain=np.round(ridgereg.predict(X_train),2)\n",
    "RegTest=np.round(ridgereg.predict(X_test),2)"
   ]
  },
  {
   "cell_type": "code",
   "execution_count": 204,
   "id": "ee608907",
   "metadata": {},
   "outputs": [
    {
     "name": "stdout",
     "output_type": "stream",
     "text": [
      "R2 score for model Performance on Train :  55.00000000000001\n",
      "Train RMSE :  1.412749911733923\n"
     ]
    }
   ],
   "source": [
    "RegTrain_r2= r2_score(train.Price,RegTrain)\n",
    "RegTrain_r2=np.round(RegTrain_r2,2)*100\n",
    "print('R2 score for model Performance on Train : ', RegTrain_r2)\n",
    "model6_mse = mean_squared_error(train['Price'],RegTrain)\n",
    "RegTrain_rmse = np.sqrt(model6_mse)\n",
    "RegTrain_rmse=np.exp(RegTrain_rmse)\n",
    "print(\"Train RMSE : \",RegTrain_rmse)"
   ]
  },
  {
   "cell_type": "code",
   "execution_count": 205,
   "id": "273b693d",
   "metadata": {},
   "outputs": [
    {
     "name": "stdout",
     "output_type": "stream",
     "text": [
      "R2 score for model Performance on Train :  56.00000000000001\n",
      "Test RMSE : 1.40338779224303\n"
     ]
    }
   ],
   "source": [
    "RegTest_r2 = r2_score(test.Price,RegTest)\n",
    "RegTest_r2=np.round(RegTest_r2,2)*100\n",
    "print('R2 score for model Performance on Train : ', RegTest_r2)\n",
    "model7_mse = mean_squared_error(test['Price'],RegTest)\n",
    "RegTest_rmse = np.sqrt(model7_mse)\n",
    "RegTest_rmse =np.exp(RegTest_rmse )\n",
    "print(\"Test RMSE :\",RegTest_rmse )"
   ]
  },
  {
   "cell_type": "code",
   "execution_count": 206,
   "id": "cc4ee9c1",
   "metadata": {},
   "outputs": [
    {
     "data": {
      "text/html": [
       "<div>\n",
       "<style scoped>\n",
       "    .dataframe tbody tr th:only-of-type {\n",
       "        vertical-align: middle;\n",
       "    }\n",
       "\n",
       "    .dataframe tbody tr th {\n",
       "        vertical-align: top;\n",
       "    }\n",
       "\n",
       "    .dataframe thead th {\n",
       "        text-align: right;\n",
       "    }\n",
       "</style>\n",
       "<table border=\"1\" class=\"dataframe\">\n",
       "  <thead>\n",
       "    <tr style=\"text-align: right;\">\n",
       "      <th></th>\n",
       "      <th>Model</th>\n",
       "      <th>Train Accuracy(R2)</th>\n",
       "      <th>Test Accuracy(R2)</th>\n",
       "      <th>Train_RMSE</th>\n",
       "      <th>Test_RMSE</th>\n",
       "    </tr>\n",
       "  </thead>\n",
       "  <tbody>\n",
       "    <tr>\n",
       "      <th>0</th>\n",
       "      <td>Linear Regression</td>\n",
       "      <td>55.0</td>\n",
       "      <td>56.0</td>\n",
       "      <td>1.412766</td>\n",
       "      <td>4.107301</td>\n",
       "    </tr>\n",
       "    <tr>\n",
       "      <th>1</th>\n",
       "      <td>DecisionTree Regression</td>\n",
       "      <td>75.0</td>\n",
       "      <td>74.0</td>\n",
       "      <td>1.296272</td>\n",
       "      <td>1.298102</td>\n",
       "    </tr>\n",
       "    <tr>\n",
       "      <th>2</th>\n",
       "      <td>RandomForest Regression</td>\n",
       "      <td>76.0</td>\n",
       "      <td>76.0</td>\n",
       "      <td>1.286485</td>\n",
       "      <td>1.285865</td>\n",
       "    </tr>\n",
       "    <tr>\n",
       "      <th>3</th>\n",
       "      <td>Redge Regression</td>\n",
       "      <td>55.0</td>\n",
       "      <td>56.0</td>\n",
       "      <td>1.412750</td>\n",
       "      <td>1.403388</td>\n",
       "    </tr>\n",
       "  </tbody>\n",
       "</table>\n",
       "</div>"
      ],
      "text/plain": [
       "                     Model  Train Accuracy(R2)  Test Accuracy(R2)  Train_RMSE  \\\n",
       "0        Linear Regression                55.0               56.0    1.412766   \n",
       "1  DecisionTree Regression                75.0               74.0    1.296272   \n",
       "2  RandomForest Regression                76.0               76.0    1.286485   \n",
       "3         Redge Regression                55.0               56.0    1.412750   \n",
       "\n",
       "   Test_RMSE  \n",
       "0   4.107301  \n",
       "1   1.298102  \n",
       "2   1.285865  \n",
       "3   1.403388  "
      ]
     },
     "execution_count": 206,
     "metadata": {},
     "output_type": "execute_result"
    }
   ],
   "source": [
    "result = result._append(pd.Series({'Model':'Redge Regression','Train Accuracy(R2)':RegTrain_r2,'Train_RMSE':RegTrain_rmse,'Test Accuracy(R2)': RegTest_r2,'Test_RMSE':RegTest_rmse}),ignore_index=True )\n",
    "result"
   ]
  },
  {
   "cell_type": "markdown",
   "id": "e82bd446",
   "metadata": {},
   "source": [
    "# Lasso Regression Model"
   ]
  },
  {
   "cell_type": "code",
   "execution_count": 207,
   "id": "2717a32f",
   "metadata": {},
   "outputs": [
    {
     "data": {
      "text/html": [
       "<style>#sk-container-id-15 {color: black;}#sk-container-id-15 pre{padding: 0;}#sk-container-id-15 div.sk-toggleable {background-color: white;}#sk-container-id-15 label.sk-toggleable__label {cursor: pointer;display: block;width: 100%;margin-bottom: 0;padding: 0.3em;box-sizing: border-box;text-align: center;}#sk-container-id-15 label.sk-toggleable__label-arrow:before {content: \"▸\";float: left;margin-right: 0.25em;color: #696969;}#sk-container-id-15 label.sk-toggleable__label-arrow:hover:before {color: black;}#sk-container-id-15 div.sk-estimator:hover label.sk-toggleable__label-arrow:before {color: black;}#sk-container-id-15 div.sk-toggleable__content {max-height: 0;max-width: 0;overflow: hidden;text-align: left;background-color: #f0f8ff;}#sk-container-id-15 div.sk-toggleable__content pre {margin: 0.2em;color: black;border-radius: 0.25em;background-color: #f0f8ff;}#sk-container-id-15 input.sk-toggleable__control:checked~div.sk-toggleable__content {max-height: 200px;max-width: 100%;overflow: auto;}#sk-container-id-15 input.sk-toggleable__control:checked~label.sk-toggleable__label-arrow:before {content: \"▾\";}#sk-container-id-15 div.sk-estimator input.sk-toggleable__control:checked~label.sk-toggleable__label {background-color: #d4ebff;}#sk-container-id-15 div.sk-label input.sk-toggleable__control:checked~label.sk-toggleable__label {background-color: #d4ebff;}#sk-container-id-15 input.sk-hidden--visually {border: 0;clip: rect(1px 1px 1px 1px);clip: rect(1px, 1px, 1px, 1px);height: 1px;margin: -1px;overflow: hidden;padding: 0;position: absolute;width: 1px;}#sk-container-id-15 div.sk-estimator {font-family: monospace;background-color: #f0f8ff;border: 1px dotted black;border-radius: 0.25em;box-sizing: border-box;margin-bottom: 0.5em;}#sk-container-id-15 div.sk-estimator:hover {background-color: #d4ebff;}#sk-container-id-15 div.sk-parallel-item::after {content: \"\";width: 100%;border-bottom: 1px solid gray;flex-grow: 1;}#sk-container-id-15 div.sk-label:hover label.sk-toggleable__label {background-color: #d4ebff;}#sk-container-id-15 div.sk-serial::before {content: \"\";position: absolute;border-left: 1px solid gray;box-sizing: border-box;top: 0;bottom: 0;left: 50%;z-index: 0;}#sk-container-id-15 div.sk-serial {display: flex;flex-direction: column;align-items: center;background-color: white;padding-right: 0.2em;padding-left: 0.2em;position: relative;}#sk-container-id-15 div.sk-item {position: relative;z-index: 1;}#sk-container-id-15 div.sk-parallel {display: flex;align-items: stretch;justify-content: center;background-color: white;position: relative;}#sk-container-id-15 div.sk-item::before, #sk-container-id-15 div.sk-parallel-item::before {content: \"\";position: absolute;border-left: 1px solid gray;box-sizing: border-box;top: 0;bottom: 0;left: 50%;z-index: -1;}#sk-container-id-15 div.sk-parallel-item {display: flex;flex-direction: column;z-index: 1;position: relative;background-color: white;}#sk-container-id-15 div.sk-parallel-item:first-child::after {align-self: flex-end;width: 50%;}#sk-container-id-15 div.sk-parallel-item:last-child::after {align-self: flex-start;width: 50%;}#sk-container-id-15 div.sk-parallel-item:only-child::after {width: 0;}#sk-container-id-15 div.sk-dashed-wrapped {border: 1px dashed gray;margin: 0 0.4em 0.5em 0.4em;box-sizing: border-box;padding-bottom: 0.4em;background-color: white;}#sk-container-id-15 div.sk-label label {font-family: monospace;font-weight: bold;display: inline-block;line-height: 1.2em;}#sk-container-id-15 div.sk-label-container {text-align: center;}#sk-container-id-15 div.sk-container {/* jupyter's `normalize.less` sets `[hidden] { display: none; }` but bootstrap.min.css set `[hidden] { display: none !important; }` so we also need the `!important` here to be able to override the default hidden behavior on the sphinx rendered scikit-learn.org. See: https://github.com/scikit-learn/scikit-learn/issues/21755 */display: inline-block !important;position: relative;}#sk-container-id-15 div.sk-text-repr-fallback {display: none;}</style><div id=\"sk-container-id-15\" class=\"sk-top-container\"><div class=\"sk-text-repr-fallback\"><pre>Lasso(alpha=0.1)</pre><b>In a Jupyter environment, please rerun this cell to show the HTML representation or trust the notebook. <br />On GitHub, the HTML representation is unable to render, please try loading this page with nbviewer.org.</b></div><div class=\"sk-container\" hidden><div class=\"sk-item\"><div class=\"sk-estimator sk-toggleable\"><input class=\"sk-toggleable__control sk-hidden--visually\" id=\"sk-estimator-id-17\" type=\"checkbox\" checked><label for=\"sk-estimator-id-17\" class=\"sk-toggleable__label sk-toggleable__label-arrow\">Lasso</label><div class=\"sk-toggleable__content\"><pre>Lasso(alpha=0.1)</pre></div></div></div></div></div>"
      ],
      "text/plain": [
       "Lasso(alpha=0.1)"
      ]
     },
     "execution_count": 207,
     "metadata": {},
     "output_type": "execute_result"
    }
   ],
   "source": [
    "from sklearn.linear_model import Lasso\n",
    "lassoreg = Lasso(alpha=0.1)\n",
    "lassoreg.fit(X_train,y_train)"
   ]
  },
  {
   "cell_type": "code",
   "execution_count": 208,
   "id": "c65b15a1",
   "metadata": {},
   "outputs": [],
   "source": [
    "lassoregTrain=np.round(lassoreg.predict(X_train),2)\n",
    "lassoregTest=np.round(lassoreg.predict(X_test),2)"
   ]
  },
  {
   "cell_type": "code",
   "execution_count": 209,
   "id": "b36836a8",
   "metadata": {},
   "outputs": [
    {
     "name": "stdout",
     "output_type": "stream",
     "text": [
      "R2 score for model Performance on Train :  46.0\n",
      "Train RMSE :  1.412749911733923\n"
     ]
    }
   ],
   "source": [
    "lassoregTrain_r2= r2_score(train.Price,lassoregTrain)\n",
    "lassoregTrain_r2=np.round(lassoregTrain_r2,2)*100\n",
    "print('R2 score for model Performance on Train : ', lassoregTrain_r2)\n",
    "model8_mse = mean_squared_error(train['Price'],lassoregTrain)\n",
    "lassoregTrain_rmse = np.sqrt(model6_mse)\n",
    "lassoregTrain_rmse=np.exp(lassoregTrain_rmse)\n",
    "print(\"Train RMSE : \",lassoregTrain_rmse)"
   ]
  },
  {
   "cell_type": "code",
   "execution_count": 210,
   "id": "d3467c17",
   "metadata": {},
   "outputs": [
    {
     "name": "stdout",
     "output_type": "stream",
     "text": [
      "R2 score for model Performance on Train :  48.0\n",
      "Test RMSE :  1.4591082274029785\n"
     ]
    }
   ],
   "source": [
    "lassoregTest_r2 = r2_score(test.Price,lassoregTest)\n",
    "lassoregTest_r2=np.round(lassoregTest_r2,2)*100\n",
    "print('R2 score for model Performance on Train : ', lassoregTest_r2)\n",
    "model9_mse = mean_squared_error(test['Price'],lassoregTest)\n",
    "lassoregTest_rmse = np.sqrt(model8_mse)\n",
    "lassoregTest_rmse =np.exp(lassoregTest_rmse)\n",
    "print(\"Test RMSE : \",lassoregTest_rmse )"
   ]
  },
  {
   "cell_type": "code",
   "execution_count": 211,
   "id": "365dab76",
   "metadata": {},
   "outputs": [
    {
     "data": {
      "text/html": [
       "<div>\n",
       "<style scoped>\n",
       "    .dataframe tbody tr th:only-of-type {\n",
       "        vertical-align: middle;\n",
       "    }\n",
       "\n",
       "    .dataframe tbody tr th {\n",
       "        vertical-align: top;\n",
       "    }\n",
       "\n",
       "    .dataframe thead th {\n",
       "        text-align: right;\n",
       "    }\n",
       "</style>\n",
       "<table border=\"1\" class=\"dataframe\">\n",
       "  <thead>\n",
       "    <tr style=\"text-align: right;\">\n",
       "      <th></th>\n",
       "      <th>Model</th>\n",
       "      <th>Train Accuracy(R2)</th>\n",
       "      <th>Test Accuracy(R2)</th>\n",
       "      <th>Train_RMSE</th>\n",
       "      <th>Test_RMSE</th>\n",
       "    </tr>\n",
       "  </thead>\n",
       "  <tbody>\n",
       "    <tr>\n",
       "      <th>0</th>\n",
       "      <td>Linear Regression</td>\n",
       "      <td>55.0</td>\n",
       "      <td>56.0</td>\n",
       "      <td>1.412766</td>\n",
       "      <td>4.107301</td>\n",
       "    </tr>\n",
       "    <tr>\n",
       "      <th>1</th>\n",
       "      <td>DecisionTree Regression</td>\n",
       "      <td>75.0</td>\n",
       "      <td>74.0</td>\n",
       "      <td>1.296272</td>\n",
       "      <td>1.298102</td>\n",
       "    </tr>\n",
       "    <tr>\n",
       "      <th>2</th>\n",
       "      <td>RandomForest Regression</td>\n",
       "      <td>76.0</td>\n",
       "      <td>76.0</td>\n",
       "      <td>1.286485</td>\n",
       "      <td>1.285865</td>\n",
       "    </tr>\n",
       "    <tr>\n",
       "      <th>3</th>\n",
       "      <td>Redge Regression</td>\n",
       "      <td>55.0</td>\n",
       "      <td>56.0</td>\n",
       "      <td>1.412750</td>\n",
       "      <td>1.403388</td>\n",
       "    </tr>\n",
       "    <tr>\n",
       "      <th>4</th>\n",
       "      <td>Lasso Regression</td>\n",
       "      <td>46.0</td>\n",
       "      <td>48.0</td>\n",
       "      <td>1.412750</td>\n",
       "      <td>1.459108</td>\n",
       "    </tr>\n",
       "  </tbody>\n",
       "</table>\n",
       "</div>"
      ],
      "text/plain": [
       "                     Model  Train Accuracy(R2)  Test Accuracy(R2)  Train_RMSE  \\\n",
       "0        Linear Regression                55.0               56.0    1.412766   \n",
       "1  DecisionTree Regression                75.0               74.0    1.296272   \n",
       "2  RandomForest Regression                76.0               76.0    1.286485   \n",
       "3         Redge Regression                55.0               56.0    1.412750   \n",
       "4         Lasso Regression                46.0               48.0    1.412750   \n",
       "\n",
       "   Test_RMSE  \n",
       "0   4.107301  \n",
       "1   1.298102  \n",
       "2   1.285865  \n",
       "3   1.403388  \n",
       "4   1.459108  "
      ]
     },
     "execution_count": 211,
     "metadata": {},
     "output_type": "execute_result"
    }
   ],
   "source": [
    "result = result._append(pd.Series({'Model':'Lasso Regression','Train Accuracy(R2)':lassoregTrain_r2,'Train_RMSE':lassoregTrain_rmse,'Test Accuracy(R2)':lassoregTest_r2,'Test_RMSE':lassoregTest_rmse}),ignore_index=True )\n",
    "result"
   ]
  },
  {
   "cell_type": "markdown",
   "id": "d1244a87",
   "metadata": {},
   "source": [
    "# Gradient Boosting Regressior"
   ]
  },
  {
   "cell_type": "code",
   "execution_count": 212,
   "id": "463074cd",
   "metadata": {},
   "outputs": [
    {
     "data": {
      "text/html": [
       "<style>#sk-container-id-16 {color: black;}#sk-container-id-16 pre{padding: 0;}#sk-container-id-16 div.sk-toggleable {background-color: white;}#sk-container-id-16 label.sk-toggleable__label {cursor: pointer;display: block;width: 100%;margin-bottom: 0;padding: 0.3em;box-sizing: border-box;text-align: center;}#sk-container-id-16 label.sk-toggleable__label-arrow:before {content: \"▸\";float: left;margin-right: 0.25em;color: #696969;}#sk-container-id-16 label.sk-toggleable__label-arrow:hover:before {color: black;}#sk-container-id-16 div.sk-estimator:hover label.sk-toggleable__label-arrow:before {color: black;}#sk-container-id-16 div.sk-toggleable__content {max-height: 0;max-width: 0;overflow: hidden;text-align: left;background-color: #f0f8ff;}#sk-container-id-16 div.sk-toggleable__content pre {margin: 0.2em;color: black;border-radius: 0.25em;background-color: #f0f8ff;}#sk-container-id-16 input.sk-toggleable__control:checked~div.sk-toggleable__content {max-height: 200px;max-width: 100%;overflow: auto;}#sk-container-id-16 input.sk-toggleable__control:checked~label.sk-toggleable__label-arrow:before {content: \"▾\";}#sk-container-id-16 div.sk-estimator input.sk-toggleable__control:checked~label.sk-toggleable__label {background-color: #d4ebff;}#sk-container-id-16 div.sk-label input.sk-toggleable__control:checked~label.sk-toggleable__label {background-color: #d4ebff;}#sk-container-id-16 input.sk-hidden--visually {border: 0;clip: rect(1px 1px 1px 1px);clip: rect(1px, 1px, 1px, 1px);height: 1px;margin: -1px;overflow: hidden;padding: 0;position: absolute;width: 1px;}#sk-container-id-16 div.sk-estimator {font-family: monospace;background-color: #f0f8ff;border: 1px dotted black;border-radius: 0.25em;box-sizing: border-box;margin-bottom: 0.5em;}#sk-container-id-16 div.sk-estimator:hover {background-color: #d4ebff;}#sk-container-id-16 div.sk-parallel-item::after {content: \"\";width: 100%;border-bottom: 1px solid gray;flex-grow: 1;}#sk-container-id-16 div.sk-label:hover label.sk-toggleable__label {background-color: #d4ebff;}#sk-container-id-16 div.sk-serial::before {content: \"\";position: absolute;border-left: 1px solid gray;box-sizing: border-box;top: 0;bottom: 0;left: 50%;z-index: 0;}#sk-container-id-16 div.sk-serial {display: flex;flex-direction: column;align-items: center;background-color: white;padding-right: 0.2em;padding-left: 0.2em;position: relative;}#sk-container-id-16 div.sk-item {position: relative;z-index: 1;}#sk-container-id-16 div.sk-parallel {display: flex;align-items: stretch;justify-content: center;background-color: white;position: relative;}#sk-container-id-16 div.sk-item::before, #sk-container-id-16 div.sk-parallel-item::before {content: \"\";position: absolute;border-left: 1px solid gray;box-sizing: border-box;top: 0;bottom: 0;left: 50%;z-index: -1;}#sk-container-id-16 div.sk-parallel-item {display: flex;flex-direction: column;z-index: 1;position: relative;background-color: white;}#sk-container-id-16 div.sk-parallel-item:first-child::after {align-self: flex-end;width: 50%;}#sk-container-id-16 div.sk-parallel-item:last-child::after {align-self: flex-start;width: 50%;}#sk-container-id-16 div.sk-parallel-item:only-child::after {width: 0;}#sk-container-id-16 div.sk-dashed-wrapped {border: 1px dashed gray;margin: 0 0.4em 0.5em 0.4em;box-sizing: border-box;padding-bottom: 0.4em;background-color: white;}#sk-container-id-16 div.sk-label label {font-family: monospace;font-weight: bold;display: inline-block;line-height: 1.2em;}#sk-container-id-16 div.sk-label-container {text-align: center;}#sk-container-id-16 div.sk-container {/* jupyter's `normalize.less` sets `[hidden] { display: none; }` but bootstrap.min.css set `[hidden] { display: none !important; }` so we also need the `!important` here to be able to override the default hidden behavior on the sphinx rendered scikit-learn.org. See: https://github.com/scikit-learn/scikit-learn/issues/21755 */display: inline-block !important;position: relative;}#sk-container-id-16 div.sk-text-repr-fallback {display: none;}</style><div id=\"sk-container-id-16\" class=\"sk-top-container\"><div class=\"sk-text-repr-fallback\"><pre>GradientBoostingRegressor()</pre><b>In a Jupyter environment, please rerun this cell to show the HTML representation or trust the notebook. <br />On GitHub, the HTML representation is unable to render, please try loading this page with nbviewer.org.</b></div><div class=\"sk-container\" hidden><div class=\"sk-item\"><div class=\"sk-estimator sk-toggleable\"><input class=\"sk-toggleable__control sk-hidden--visually\" id=\"sk-estimator-id-18\" type=\"checkbox\" checked><label for=\"sk-estimator-id-18\" class=\"sk-toggleable__label sk-toggleable__label-arrow\">GradientBoostingRegressor</label><div class=\"sk-toggleable__content\"><pre>GradientBoostingRegressor()</pre></div></div></div></div></div>"
      ],
      "text/plain": [
       "GradientBoostingRegressor()"
      ]
     },
     "execution_count": 212,
     "metadata": {},
     "output_type": "execute_result"
    }
   ],
   "source": [
    "from sklearn.ensemble import GradientBoostingRegressor\n",
    "GBR=GradientBoostingRegressor()\n",
    "GBR.fit(X_train,y_train)"
   ]
  },
  {
   "cell_type": "code",
   "execution_count": 213,
   "id": "1d119330",
   "metadata": {},
   "outputs": [],
   "source": [
    "model_parameters = {'n_estimators': [2,4,5,6], # number of tress\n",
    "                    'max_depth':    [2, 3],      # maximum branches in tree\n",
    "                    'learning_rate':[0.7, 0.6,0.5],\n",
    "                    'min_samples_leaf':[70,50], ## child\n",
    "                    'min_samples_split':[50,70]} #parent "
   ]
  },
  {
   "cell_type": "code",
   "execution_count": 214,
   "id": "1bac2324",
   "metadata": {},
   "outputs": [
    {
     "name": "stdout",
     "output_type": "stream",
     "text": [
      "Fitting 10 folds for each of 96 candidates, totalling 960 fits\n"
     ]
    },
    {
     "data": {
      "text/html": [
       "<style>#sk-container-id-17 {color: black;}#sk-container-id-17 pre{padding: 0;}#sk-container-id-17 div.sk-toggleable {background-color: white;}#sk-container-id-17 label.sk-toggleable__label {cursor: pointer;display: block;width: 100%;margin-bottom: 0;padding: 0.3em;box-sizing: border-box;text-align: center;}#sk-container-id-17 label.sk-toggleable__label-arrow:before {content: \"▸\";float: left;margin-right: 0.25em;color: #696969;}#sk-container-id-17 label.sk-toggleable__label-arrow:hover:before {color: black;}#sk-container-id-17 div.sk-estimator:hover label.sk-toggleable__label-arrow:before {color: black;}#sk-container-id-17 div.sk-toggleable__content {max-height: 0;max-width: 0;overflow: hidden;text-align: left;background-color: #f0f8ff;}#sk-container-id-17 div.sk-toggleable__content pre {margin: 0.2em;color: black;border-radius: 0.25em;background-color: #f0f8ff;}#sk-container-id-17 input.sk-toggleable__control:checked~div.sk-toggleable__content {max-height: 200px;max-width: 100%;overflow: auto;}#sk-container-id-17 input.sk-toggleable__control:checked~label.sk-toggleable__label-arrow:before {content: \"▾\";}#sk-container-id-17 div.sk-estimator input.sk-toggleable__control:checked~label.sk-toggleable__label {background-color: #d4ebff;}#sk-container-id-17 div.sk-label input.sk-toggleable__control:checked~label.sk-toggleable__label {background-color: #d4ebff;}#sk-container-id-17 input.sk-hidden--visually {border: 0;clip: rect(1px 1px 1px 1px);clip: rect(1px, 1px, 1px, 1px);height: 1px;margin: -1px;overflow: hidden;padding: 0;position: absolute;width: 1px;}#sk-container-id-17 div.sk-estimator {font-family: monospace;background-color: #f0f8ff;border: 1px dotted black;border-radius: 0.25em;box-sizing: border-box;margin-bottom: 0.5em;}#sk-container-id-17 div.sk-estimator:hover {background-color: #d4ebff;}#sk-container-id-17 div.sk-parallel-item::after {content: \"\";width: 100%;border-bottom: 1px solid gray;flex-grow: 1;}#sk-container-id-17 div.sk-label:hover label.sk-toggleable__label {background-color: #d4ebff;}#sk-container-id-17 div.sk-serial::before {content: \"\";position: absolute;border-left: 1px solid gray;box-sizing: border-box;top: 0;bottom: 0;left: 50%;z-index: 0;}#sk-container-id-17 div.sk-serial {display: flex;flex-direction: column;align-items: center;background-color: white;padding-right: 0.2em;padding-left: 0.2em;position: relative;}#sk-container-id-17 div.sk-item {position: relative;z-index: 1;}#sk-container-id-17 div.sk-parallel {display: flex;align-items: stretch;justify-content: center;background-color: white;position: relative;}#sk-container-id-17 div.sk-item::before, #sk-container-id-17 div.sk-parallel-item::before {content: \"\";position: absolute;border-left: 1px solid gray;box-sizing: border-box;top: 0;bottom: 0;left: 50%;z-index: -1;}#sk-container-id-17 div.sk-parallel-item {display: flex;flex-direction: column;z-index: 1;position: relative;background-color: white;}#sk-container-id-17 div.sk-parallel-item:first-child::after {align-self: flex-end;width: 50%;}#sk-container-id-17 div.sk-parallel-item:last-child::after {align-self: flex-start;width: 50%;}#sk-container-id-17 div.sk-parallel-item:only-child::after {width: 0;}#sk-container-id-17 div.sk-dashed-wrapped {border: 1px dashed gray;margin: 0 0.4em 0.5em 0.4em;box-sizing: border-box;padding-bottom: 0.4em;background-color: white;}#sk-container-id-17 div.sk-label label {font-family: monospace;font-weight: bold;display: inline-block;line-height: 1.2em;}#sk-container-id-17 div.sk-label-container {text-align: center;}#sk-container-id-17 div.sk-container {/* jupyter's `normalize.less` sets `[hidden] { display: none; }` but bootstrap.min.css set `[hidden] { display: none !important; }` so we also need the `!important` here to be able to override the default hidden behavior on the sphinx rendered scikit-learn.org. See: https://github.com/scikit-learn/scikit-learn/issues/21755 */display: inline-block !important;position: relative;}#sk-container-id-17 div.sk-text-repr-fallback {display: none;}</style><div id=\"sk-container-id-17\" class=\"sk-top-container\"><div class=\"sk-text-repr-fallback\"><pre>GridSearchCV(cv=10,\n",
       "             estimator=GradientBoostingRegressor(criterion=&#x27;squared_error&#x27;,\n",
       "                                                 random_state=10),\n",
       "             n_jobs=-1,\n",
       "             param_grid={&#x27;learning_rate&#x27;: [0.7, 0.6, 0.5], &#x27;max_depth&#x27;: [2, 3],\n",
       "                         &#x27;min_samples_leaf&#x27;: [70, 50],\n",
       "                         &#x27;min_samples_split&#x27;: [50, 70],\n",
       "                         &#x27;n_estimators&#x27;: [2, 4, 5, 6]},\n",
       "             scoring=&#x27;accuracy&#x27;, verbose=1)</pre><b>In a Jupyter environment, please rerun this cell to show the HTML representation or trust the notebook. <br />On GitHub, the HTML representation is unable to render, please try loading this page with nbviewer.org.</b></div><div class=\"sk-container\" hidden><div class=\"sk-item sk-dashed-wrapped\"><div class=\"sk-label-container\"><div class=\"sk-label sk-toggleable\"><input class=\"sk-toggleable__control sk-hidden--visually\" id=\"sk-estimator-id-19\" type=\"checkbox\" ><label for=\"sk-estimator-id-19\" class=\"sk-toggleable__label sk-toggleable__label-arrow\">GridSearchCV</label><div class=\"sk-toggleable__content\"><pre>GridSearchCV(cv=10,\n",
       "             estimator=GradientBoostingRegressor(criterion=&#x27;squared_error&#x27;,\n",
       "                                                 random_state=10),\n",
       "             n_jobs=-1,\n",
       "             param_grid={&#x27;learning_rate&#x27;: [0.7, 0.6, 0.5], &#x27;max_depth&#x27;: [2, 3],\n",
       "                         &#x27;min_samples_leaf&#x27;: [70, 50],\n",
       "                         &#x27;min_samples_split&#x27;: [50, 70],\n",
       "                         &#x27;n_estimators&#x27;: [2, 4, 5, 6]},\n",
       "             scoring=&#x27;accuracy&#x27;, verbose=1)</pre></div></div></div><div class=\"sk-parallel\"><div class=\"sk-parallel-item\"><div class=\"sk-item\"><div class=\"sk-label-container\"><div class=\"sk-label sk-toggleable\"><input class=\"sk-toggleable__control sk-hidden--visually\" id=\"sk-estimator-id-20\" type=\"checkbox\" ><label for=\"sk-estimator-id-20\" class=\"sk-toggleable__label sk-toggleable__label-arrow\">estimator: GradientBoostingRegressor</label><div class=\"sk-toggleable__content\"><pre>GradientBoostingRegressor(criterion=&#x27;squared_error&#x27;, random_state=10)</pre></div></div></div><div class=\"sk-serial\"><div class=\"sk-item\"><div class=\"sk-estimator sk-toggleable\"><input class=\"sk-toggleable__control sk-hidden--visually\" id=\"sk-estimator-id-21\" type=\"checkbox\" ><label for=\"sk-estimator-id-21\" class=\"sk-toggleable__label sk-toggleable__label-arrow\">GradientBoostingRegressor</label><div class=\"sk-toggleable__content\"><pre>GradientBoostingRegressor(criterion=&#x27;squared_error&#x27;, random_state=10)</pre></div></div></div></div></div></div></div></div></div></div>"
      ],
      "text/plain": [
       "GridSearchCV(cv=10,\n",
       "             estimator=GradientBoostingRegressor(criterion='squared_error',\n",
       "                                                 random_state=10),\n",
       "             n_jobs=-1,\n",
       "             param_grid={'learning_rate': [0.7, 0.6, 0.5], 'max_depth': [2, 3],\n",
       "                         'min_samples_leaf': [70, 50],\n",
       "                         'min_samples_split': [50, 70],\n",
       "                         'n_estimators': [2, 4, 5, 6]},\n",
       "             scoring='accuracy', verbose=1)"
      ]
     },
     "execution_count": 214,
     "metadata": {},
     "output_type": "execute_result"
    }
   ],
   "source": [
    "GBR=GradientBoostingRegressor(random_state=10,criterion=\"squared_error\")\n",
    "\n",
    "gscv_GBM = GridSearchCV(estimator=GBR, \n",
    "                    param_grid=model_parameters,  # comibnation = 4\n",
    "                    cv=10,  # K-fold = 10 or 5  \n",
    "                    verbose=1, ### message how many task done at backend\n",
    "                    n_jobs=-1, ## parallel processing used entire processor\n",
    "                    scoring='accuracy') ## accuracy evaluation\n",
    "\n",
    "gscv_GBM.fit(X_train, y_train)"
   ]
  },
  {
   "cell_type": "code",
   "execution_count": 215,
   "id": "2468740d",
   "metadata": {},
   "outputs": [
    {
     "name": "stdout",
     "output_type": "stream",
     "text": [
      "The best parameter are - {'learning_rate': 0.7, 'max_depth': 2, 'min_samples_leaf': 70, 'min_samples_split': 50, 'n_estimators': 2}\n"
     ]
    }
   ],
   "source": [
    "print('The best parameter are -', gscv_GBM.best_params_)"
   ]
  },
  {
   "cell_type": "code",
   "execution_count": 216,
   "id": "4c733fb5",
   "metadata": {},
   "outputs": [
    {
     "data": {
      "text/html": [
       "<style>#sk-container-id-18 {color: black;}#sk-container-id-18 pre{padding: 0;}#sk-container-id-18 div.sk-toggleable {background-color: white;}#sk-container-id-18 label.sk-toggleable__label {cursor: pointer;display: block;width: 100%;margin-bottom: 0;padding: 0.3em;box-sizing: border-box;text-align: center;}#sk-container-id-18 label.sk-toggleable__label-arrow:before {content: \"▸\";float: left;margin-right: 0.25em;color: #696969;}#sk-container-id-18 label.sk-toggleable__label-arrow:hover:before {color: black;}#sk-container-id-18 div.sk-estimator:hover label.sk-toggleable__label-arrow:before {color: black;}#sk-container-id-18 div.sk-toggleable__content {max-height: 0;max-width: 0;overflow: hidden;text-align: left;background-color: #f0f8ff;}#sk-container-id-18 div.sk-toggleable__content pre {margin: 0.2em;color: black;border-radius: 0.25em;background-color: #f0f8ff;}#sk-container-id-18 input.sk-toggleable__control:checked~div.sk-toggleable__content {max-height: 200px;max-width: 100%;overflow: auto;}#sk-container-id-18 input.sk-toggleable__control:checked~label.sk-toggleable__label-arrow:before {content: \"▾\";}#sk-container-id-18 div.sk-estimator input.sk-toggleable__control:checked~label.sk-toggleable__label {background-color: #d4ebff;}#sk-container-id-18 div.sk-label input.sk-toggleable__control:checked~label.sk-toggleable__label {background-color: #d4ebff;}#sk-container-id-18 input.sk-hidden--visually {border: 0;clip: rect(1px 1px 1px 1px);clip: rect(1px, 1px, 1px, 1px);height: 1px;margin: -1px;overflow: hidden;padding: 0;position: absolute;width: 1px;}#sk-container-id-18 div.sk-estimator {font-family: monospace;background-color: #f0f8ff;border: 1px dotted black;border-radius: 0.25em;box-sizing: border-box;margin-bottom: 0.5em;}#sk-container-id-18 div.sk-estimator:hover {background-color: #d4ebff;}#sk-container-id-18 div.sk-parallel-item::after {content: \"\";width: 100%;border-bottom: 1px solid gray;flex-grow: 1;}#sk-container-id-18 div.sk-label:hover label.sk-toggleable__label {background-color: #d4ebff;}#sk-container-id-18 div.sk-serial::before {content: \"\";position: absolute;border-left: 1px solid gray;box-sizing: border-box;top: 0;bottom: 0;left: 50%;z-index: 0;}#sk-container-id-18 div.sk-serial {display: flex;flex-direction: column;align-items: center;background-color: white;padding-right: 0.2em;padding-left: 0.2em;position: relative;}#sk-container-id-18 div.sk-item {position: relative;z-index: 1;}#sk-container-id-18 div.sk-parallel {display: flex;align-items: stretch;justify-content: center;background-color: white;position: relative;}#sk-container-id-18 div.sk-item::before, #sk-container-id-18 div.sk-parallel-item::before {content: \"\";position: absolute;border-left: 1px solid gray;box-sizing: border-box;top: 0;bottom: 0;left: 50%;z-index: -1;}#sk-container-id-18 div.sk-parallel-item {display: flex;flex-direction: column;z-index: 1;position: relative;background-color: white;}#sk-container-id-18 div.sk-parallel-item:first-child::after {align-self: flex-end;width: 50%;}#sk-container-id-18 div.sk-parallel-item:last-child::after {align-self: flex-start;width: 50%;}#sk-container-id-18 div.sk-parallel-item:only-child::after {width: 0;}#sk-container-id-18 div.sk-dashed-wrapped {border: 1px dashed gray;margin: 0 0.4em 0.5em 0.4em;box-sizing: border-box;padding-bottom: 0.4em;background-color: white;}#sk-container-id-18 div.sk-label label {font-family: monospace;font-weight: bold;display: inline-block;line-height: 1.2em;}#sk-container-id-18 div.sk-label-container {text-align: center;}#sk-container-id-18 div.sk-container {/* jupyter's `normalize.less` sets `[hidden] { display: none; }` but bootstrap.min.css set `[hidden] { display: none !important; }` so we also need the `!important` here to be able to override the default hidden behavior on the sphinx rendered scikit-learn.org. See: https://github.com/scikit-learn/scikit-learn/issues/21755 */display: inline-block !important;position: relative;}#sk-container-id-18 div.sk-text-repr-fallback {display: none;}</style><div id=\"sk-container-id-18\" class=\"sk-top-container\"><div class=\"sk-text-repr-fallback\"><pre>GradientBoostingRegressor(learning_rate=0.7, max_depth=2, min_samples_leaf=70,\n",
       "                          min_samples_split=50, n_estimators=2)</pre><b>In a Jupyter environment, please rerun this cell to show the HTML representation or trust the notebook. <br />On GitHub, the HTML representation is unable to render, please try loading this page with nbviewer.org.</b></div><div class=\"sk-container\" hidden><div class=\"sk-item\"><div class=\"sk-estimator sk-toggleable\"><input class=\"sk-toggleable__control sk-hidden--visually\" id=\"sk-estimator-id-22\" type=\"checkbox\" checked><label for=\"sk-estimator-id-22\" class=\"sk-toggleable__label sk-toggleable__label-arrow\">GradientBoostingRegressor</label><div class=\"sk-toggleable__content\"><pre>GradientBoostingRegressor(learning_rate=0.7, max_depth=2, min_samples_leaf=70,\n",
       "                          min_samples_split=50, n_estimators=2)</pre></div></div></div></div></div>"
      ],
      "text/plain": [
       "GradientBoostingRegressor(learning_rate=0.7, max_depth=2, min_samples_leaf=70,\n",
       "                          min_samples_split=50, n_estimators=2)"
      ]
     },
     "execution_count": 216,
     "metadata": {},
     "output_type": "execute_result"
    }
   ],
   "source": [
    "final_GBM = GradientBoostingRegressor(**gscv_GBM.best_params_)\n",
    "final_GBM.fit(X_train, y_train)"
   ]
  },
  {
   "cell_type": "code",
   "execution_count": 217,
   "id": "2ed697e6",
   "metadata": {},
   "outputs": [],
   "source": [
    "GBRTrain= np.round(final_GBM.predict(X_train),2)\n",
    "GBRTest = np.round(final_GBM.predict(X_test),2)"
   ]
  },
  {
   "cell_type": "code",
   "execution_count": 218,
   "id": "3f21798b",
   "metadata": {},
   "outputs": [
    {
     "name": "stdout",
     "output_type": "stream",
     "text": [
      "R2 score for model Performance on Train :  63.0\n",
      "Train RMSE :  1.3698423397210444\n"
     ]
    }
   ],
   "source": [
    "GBRTrain_r2= r2_score(train.Price,GBRTrain)\n",
    "GBRTrain_r2=np.round(GBRTrain_r2,2)*100\n",
    "print('R2 score for model Performance on Train : ', GBRTrain_r2)\n",
    "model10_mse = mean_squared_error(train['Price'],GBRTrain)\n",
    "GBRTrain_rmse = np.sqrt(model10_mse)\n",
    "GBRTrain_rmse=np.exp(GBRTrain_rmse)\n",
    "print(\"Train RMSE : \",GBRTrain_rmse)"
   ]
  },
  {
   "cell_type": "code",
   "execution_count": 219,
   "id": "c7e063ed",
   "metadata": {},
   "outputs": [
    {
     "name": "stdout",
     "output_type": "stream",
     "text": [
      "R2 score for model Performance on Train :  64.0\n",
      "Test RMSE : 1.3599569790417465\n"
     ]
    }
   ],
   "source": [
    "GBRTest_r2 = r2_score(test.Price,GBRTest)\n",
    "GBRTest_r2=np.round(GBRTest_r2,2)*100\n",
    "print('R2 score for model Performance on Train : ', GBRTest_r2)\n",
    "model11_mse = mean_squared_error(test['Price'],GBRTest)\n",
    "GBRTest_rmse = np.sqrt(model11_mse)\n",
    "GBRTest_rmse=np.exp(GBRTest_rmse)\n",
    "print(\"Test RMSE :\",GBRTest_rmse)"
   ]
  },
  {
   "cell_type": "code",
   "execution_count": 220,
   "id": "f3731e12",
   "metadata": {},
   "outputs": [
    {
     "data": {
      "text/html": [
       "<div>\n",
       "<style scoped>\n",
       "    .dataframe tbody tr th:only-of-type {\n",
       "        vertical-align: middle;\n",
       "    }\n",
       "\n",
       "    .dataframe tbody tr th {\n",
       "        vertical-align: top;\n",
       "    }\n",
       "\n",
       "    .dataframe thead th {\n",
       "        text-align: right;\n",
       "    }\n",
       "</style>\n",
       "<table border=\"1\" class=\"dataframe\">\n",
       "  <thead>\n",
       "    <tr style=\"text-align: right;\">\n",
       "      <th></th>\n",
       "      <th>Model</th>\n",
       "      <th>Train Accuracy(R2)</th>\n",
       "      <th>Test Accuracy(R2)</th>\n",
       "      <th>Train_RMSE</th>\n",
       "      <th>Test_RMSE</th>\n",
       "    </tr>\n",
       "  </thead>\n",
       "  <tbody>\n",
       "    <tr>\n",
       "      <th>0</th>\n",
       "      <td>Linear Regression</td>\n",
       "      <td>55.0</td>\n",
       "      <td>56.0</td>\n",
       "      <td>1.412766</td>\n",
       "      <td>4.107301</td>\n",
       "    </tr>\n",
       "    <tr>\n",
       "      <th>1</th>\n",
       "      <td>DecisionTree Regression</td>\n",
       "      <td>75.0</td>\n",
       "      <td>74.0</td>\n",
       "      <td>1.296272</td>\n",
       "      <td>1.298102</td>\n",
       "    </tr>\n",
       "    <tr>\n",
       "      <th>2</th>\n",
       "      <td>RandomForest Regression</td>\n",
       "      <td>76.0</td>\n",
       "      <td>76.0</td>\n",
       "      <td>1.286485</td>\n",
       "      <td>1.285865</td>\n",
       "    </tr>\n",
       "    <tr>\n",
       "      <th>3</th>\n",
       "      <td>Redge Regression</td>\n",
       "      <td>55.0</td>\n",
       "      <td>56.0</td>\n",
       "      <td>1.412750</td>\n",
       "      <td>1.403388</td>\n",
       "    </tr>\n",
       "    <tr>\n",
       "      <th>4</th>\n",
       "      <td>Lasso Regression</td>\n",
       "      <td>46.0</td>\n",
       "      <td>48.0</td>\n",
       "      <td>1.412750</td>\n",
       "      <td>1.459108</td>\n",
       "    </tr>\n",
       "    <tr>\n",
       "      <th>5</th>\n",
       "      <td>GradientBoosting Regressor</td>\n",
       "      <td>63.0</td>\n",
       "      <td>64.0</td>\n",
       "      <td>1.369842</td>\n",
       "      <td>1.359957</td>\n",
       "    </tr>\n",
       "  </tbody>\n",
       "</table>\n",
       "</div>"
      ],
      "text/plain": [
       "                        Model  Train Accuracy(R2)  Test Accuracy(R2)  \\\n",
       "0           Linear Regression                55.0               56.0   \n",
       "1     DecisionTree Regression                75.0               74.0   \n",
       "2     RandomForest Regression                76.0               76.0   \n",
       "3            Redge Regression                55.0               56.0   \n",
       "4            Lasso Regression                46.0               48.0   \n",
       "5  GradientBoosting Regressor                63.0               64.0   \n",
       "\n",
       "   Train_RMSE  Test_RMSE  \n",
       "0    1.412766   4.107301  \n",
       "1    1.296272   1.298102  \n",
       "2    1.286485   1.285865  \n",
       "3    1.412750   1.403388  \n",
       "4    1.412750   1.459108  \n",
       "5    1.369842   1.359957  "
      ]
     },
     "execution_count": 220,
     "metadata": {},
     "output_type": "execute_result"
    }
   ],
   "source": [
    "result = result._append(pd.Series({'Model':'GradientBoosting Regressor','Train Accuracy(R2)':GBRTrain_r2,'Train_RMSE':GBRTrain_rmse,'Test Accuracy(R2)': GBRTest_r2,'Test_RMSE':GBRTest_rmse}),ignore_index=True )\n",
    "result"
   ]
  },
  {
   "cell_type": "markdown",
   "id": "be16b729",
   "metadata": {},
   "source": [
    "# XGB Regressor Model"
   ]
  },
  {
   "cell_type": "code",
   "execution_count": 221,
   "id": "41378a45",
   "metadata": {},
   "outputs": [
    {
     "data": {
      "text/html": [
       "<style>#sk-container-id-19 {color: black;}#sk-container-id-19 pre{padding: 0;}#sk-container-id-19 div.sk-toggleable {background-color: white;}#sk-container-id-19 label.sk-toggleable__label {cursor: pointer;display: block;width: 100%;margin-bottom: 0;padding: 0.3em;box-sizing: border-box;text-align: center;}#sk-container-id-19 label.sk-toggleable__label-arrow:before {content: \"▸\";float: left;margin-right: 0.25em;color: #696969;}#sk-container-id-19 label.sk-toggleable__label-arrow:hover:before {color: black;}#sk-container-id-19 div.sk-estimator:hover label.sk-toggleable__label-arrow:before {color: black;}#sk-container-id-19 div.sk-toggleable__content {max-height: 0;max-width: 0;overflow: hidden;text-align: left;background-color: #f0f8ff;}#sk-container-id-19 div.sk-toggleable__content pre {margin: 0.2em;color: black;border-radius: 0.25em;background-color: #f0f8ff;}#sk-container-id-19 input.sk-toggleable__control:checked~div.sk-toggleable__content {max-height: 200px;max-width: 100%;overflow: auto;}#sk-container-id-19 input.sk-toggleable__control:checked~label.sk-toggleable__label-arrow:before {content: \"▾\";}#sk-container-id-19 div.sk-estimator input.sk-toggleable__control:checked~label.sk-toggleable__label {background-color: #d4ebff;}#sk-container-id-19 div.sk-label input.sk-toggleable__control:checked~label.sk-toggleable__label {background-color: #d4ebff;}#sk-container-id-19 input.sk-hidden--visually {border: 0;clip: rect(1px 1px 1px 1px);clip: rect(1px, 1px, 1px, 1px);height: 1px;margin: -1px;overflow: hidden;padding: 0;position: absolute;width: 1px;}#sk-container-id-19 div.sk-estimator {font-family: monospace;background-color: #f0f8ff;border: 1px dotted black;border-radius: 0.25em;box-sizing: border-box;margin-bottom: 0.5em;}#sk-container-id-19 div.sk-estimator:hover {background-color: #d4ebff;}#sk-container-id-19 div.sk-parallel-item::after {content: \"\";width: 100%;border-bottom: 1px solid gray;flex-grow: 1;}#sk-container-id-19 div.sk-label:hover label.sk-toggleable__label {background-color: #d4ebff;}#sk-container-id-19 div.sk-serial::before {content: \"\";position: absolute;border-left: 1px solid gray;box-sizing: border-box;top: 0;bottom: 0;left: 50%;z-index: 0;}#sk-container-id-19 div.sk-serial {display: flex;flex-direction: column;align-items: center;background-color: white;padding-right: 0.2em;padding-left: 0.2em;position: relative;}#sk-container-id-19 div.sk-item {position: relative;z-index: 1;}#sk-container-id-19 div.sk-parallel {display: flex;align-items: stretch;justify-content: center;background-color: white;position: relative;}#sk-container-id-19 div.sk-item::before, #sk-container-id-19 div.sk-parallel-item::before {content: \"\";position: absolute;border-left: 1px solid gray;box-sizing: border-box;top: 0;bottom: 0;left: 50%;z-index: -1;}#sk-container-id-19 div.sk-parallel-item {display: flex;flex-direction: column;z-index: 1;position: relative;background-color: white;}#sk-container-id-19 div.sk-parallel-item:first-child::after {align-self: flex-end;width: 50%;}#sk-container-id-19 div.sk-parallel-item:last-child::after {align-self: flex-start;width: 50%;}#sk-container-id-19 div.sk-parallel-item:only-child::after {width: 0;}#sk-container-id-19 div.sk-dashed-wrapped {border: 1px dashed gray;margin: 0 0.4em 0.5em 0.4em;box-sizing: border-box;padding-bottom: 0.4em;background-color: white;}#sk-container-id-19 div.sk-label label {font-family: monospace;font-weight: bold;display: inline-block;line-height: 1.2em;}#sk-container-id-19 div.sk-label-container {text-align: center;}#sk-container-id-19 div.sk-container {/* jupyter's `normalize.less` sets `[hidden] { display: none; }` but bootstrap.min.css set `[hidden] { display: none !important; }` so we also need the `!important` here to be able to override the default hidden behavior on the sphinx rendered scikit-learn.org. See: https://github.com/scikit-learn/scikit-learn/issues/21755 */display: inline-block !important;position: relative;}#sk-container-id-19 div.sk-text-repr-fallback {display: none;}</style><div id=\"sk-container-id-19\" class=\"sk-top-container\"><div class=\"sk-text-repr-fallback\"><pre>XGBRegressor(base_score=None, booster=None, callbacks=None,\n",
       "             colsample_bylevel=None, colsample_bynode=None,\n",
       "             colsample_bytree=None, device=None, early_stopping_rounds=None,\n",
       "             enable_categorical=False, eval_metric=None, feature_types=None,\n",
       "             gamma=None, grow_policy=None, importance_type=None,\n",
       "             interaction_constraints=None, learning_rate=None, max_bin=None,\n",
       "             max_cat_threshold=None, max_cat_to_onehot=None,\n",
       "             max_delta_step=None, max_depth=4, max_leaves=None,\n",
       "             min_child_weight=None, missing=nan, monotone_constraints=None,\n",
       "             multi_strategy=None, n_estimators=10, n_jobs=None,\n",
       "             num_parallel_tree=None, random_state=None, ...)</pre><b>In a Jupyter environment, please rerun this cell to show the HTML representation or trust the notebook. <br />On GitHub, the HTML representation is unable to render, please try loading this page with nbviewer.org.</b></div><div class=\"sk-container\" hidden><div class=\"sk-item\"><div class=\"sk-estimator sk-toggleable\"><input class=\"sk-toggleable__control sk-hidden--visually\" id=\"sk-estimator-id-23\" type=\"checkbox\" checked><label for=\"sk-estimator-id-23\" class=\"sk-toggleable__label sk-toggleable__label-arrow\">XGBRegressor</label><div class=\"sk-toggleable__content\"><pre>XGBRegressor(base_score=None, booster=None, callbacks=None,\n",
       "             colsample_bylevel=None, colsample_bynode=None,\n",
       "             colsample_bytree=None, device=None, early_stopping_rounds=None,\n",
       "             enable_categorical=False, eval_metric=None, feature_types=None,\n",
       "             gamma=None, grow_policy=None, importance_type=None,\n",
       "             interaction_constraints=None, learning_rate=None, max_bin=None,\n",
       "             max_cat_threshold=None, max_cat_to_onehot=None,\n",
       "             max_delta_step=None, max_depth=4, max_leaves=None,\n",
       "             min_child_weight=None, missing=nan, monotone_constraints=None,\n",
       "             multi_strategy=None, n_estimators=10, n_jobs=None,\n",
       "             num_parallel_tree=None, random_state=None, ...)</pre></div></div></div></div></div>"
      ],
      "text/plain": [
       "XGBRegressor(base_score=None, booster=None, callbacks=None,\n",
       "             colsample_bylevel=None, colsample_bynode=None,\n",
       "             colsample_bytree=None, device=None, early_stopping_rounds=None,\n",
       "             enable_categorical=False, eval_metric=None, feature_types=None,\n",
       "             gamma=None, grow_policy=None, importance_type=None,\n",
       "             interaction_constraints=None, learning_rate=None, max_bin=None,\n",
       "             max_cat_threshold=None, max_cat_to_onehot=None,\n",
       "             max_delta_step=None, max_depth=4, max_leaves=None,\n",
       "             min_child_weight=None, missing=nan, monotone_constraints=None,\n",
       "             multi_strategy=None, n_estimators=10, n_jobs=None,\n",
       "             num_parallel_tree=None, random_state=None, ...)"
      ]
     },
     "execution_count": 221,
     "metadata": {},
     "output_type": "execute_result"
    }
   ],
   "source": [
    "import xgboost as xgb\n",
    "from xgboost.sklearn import XGBRegressor\n",
    "XGB=XGBRegressor(n_estimators=10,max_depth=4,reg_lambda=0)\n",
    "XGB.fit(X_train,y_train)"
   ]
  },
  {
   "cell_type": "code",
   "execution_count": 222,
   "id": "e0c00c79",
   "metadata": {},
   "outputs": [],
   "source": [
    "XGBTrain= np.round(XGB.predict(X_train),2)\n",
    "XGBTest = np.round(XGB.predict(X_test),2)"
   ]
  },
  {
   "cell_type": "code",
   "execution_count": 223,
   "id": "2bbe7e98",
   "metadata": {},
   "outputs": [
    {
     "name": "stdout",
     "output_type": "stream",
     "text": [
      "R2 score for model Performance on Train :  85.0\n",
      "Train RMSE : 1.219165755561908\n"
     ]
    }
   ],
   "source": [
    "XGBTrain_r2= r2_score(train.Price,XGBTrain)\n",
    "XGBTrain_r2=np.round(XGBTrain_r2,2)*100\n",
    "print('R2 score for model Performance on Train : ', XGBTrain_r2)\n",
    "model12_mse = mean_squared_error(train['Price'],XGBTrain)\n",
    "XGBTrain_rmse = np.sqrt(model12_mse)\n",
    "XGBTrain_rmse=np.exp(XGBTrain_rmse)\n",
    "print(\"Train RMSE :\",XGBTrain_rmse)"
   ]
  },
  {
   "cell_type": "code",
   "execution_count": 224,
   "id": "b3e1995c",
   "metadata": {},
   "outputs": [
    {
     "name": "stdout",
     "output_type": "stream",
     "text": [
      "R2 score for model Performance on Train :  85.0\n",
      "Test RMSE :  1.2222722134463657\n"
     ]
    }
   ],
   "source": [
    "XGBTest_r2 = r2_score(test.Price,XGBTest)\n",
    "XGBTest_r2=np.round(XGBTest_r2,2)*100\n",
    "print('R2 score for model Performance on Train : ', XGBTest_r2)\n",
    "model13_mse = mean_squared_error(test['Price'],XGBTest)\n",
    "XGBTest_rmse = np.sqrt(model13_mse)\n",
    "XGBTest_rmse=np.exp(XGBTest_rmse)\n",
    "print(\"Test RMSE : \",XGBTest_rmse)"
   ]
  },
  {
   "cell_type": "code",
   "execution_count": 225,
   "id": "39b658c7",
   "metadata": {},
   "outputs": [
    {
     "data": {
      "text/html": [
       "<div>\n",
       "<style scoped>\n",
       "    .dataframe tbody tr th:only-of-type {\n",
       "        vertical-align: middle;\n",
       "    }\n",
       "\n",
       "    .dataframe tbody tr th {\n",
       "        vertical-align: top;\n",
       "    }\n",
       "\n",
       "    .dataframe thead th {\n",
       "        text-align: right;\n",
       "    }\n",
       "</style>\n",
       "<table border=\"1\" class=\"dataframe\">\n",
       "  <thead>\n",
       "    <tr style=\"text-align: right;\">\n",
       "      <th></th>\n",
       "      <th>Model</th>\n",
       "      <th>Train Accuracy(R2)</th>\n",
       "      <th>Test Accuracy(R2)</th>\n",
       "      <th>Train_RMSE</th>\n",
       "      <th>Test_RMSE</th>\n",
       "    </tr>\n",
       "  </thead>\n",
       "  <tbody>\n",
       "    <tr>\n",
       "      <th>0</th>\n",
       "      <td>Linear Regression</td>\n",
       "      <td>55.0</td>\n",
       "      <td>56.0</td>\n",
       "      <td>1.412766</td>\n",
       "      <td>4.107301</td>\n",
       "    </tr>\n",
       "    <tr>\n",
       "      <th>1</th>\n",
       "      <td>DecisionTree Regression</td>\n",
       "      <td>75.0</td>\n",
       "      <td>74.0</td>\n",
       "      <td>1.296272</td>\n",
       "      <td>1.298102</td>\n",
       "    </tr>\n",
       "    <tr>\n",
       "      <th>2</th>\n",
       "      <td>RandomForest Regression</td>\n",
       "      <td>76.0</td>\n",
       "      <td>76.0</td>\n",
       "      <td>1.286485</td>\n",
       "      <td>1.285865</td>\n",
       "    </tr>\n",
       "    <tr>\n",
       "      <th>3</th>\n",
       "      <td>Redge Regression</td>\n",
       "      <td>55.0</td>\n",
       "      <td>56.0</td>\n",
       "      <td>1.412750</td>\n",
       "      <td>1.403388</td>\n",
       "    </tr>\n",
       "    <tr>\n",
       "      <th>4</th>\n",
       "      <td>Lasso Regression</td>\n",
       "      <td>46.0</td>\n",
       "      <td>48.0</td>\n",
       "      <td>1.412750</td>\n",
       "      <td>1.459108</td>\n",
       "    </tr>\n",
       "    <tr>\n",
       "      <th>5</th>\n",
       "      <td>GradientBoosting Regressor</td>\n",
       "      <td>63.0</td>\n",
       "      <td>64.0</td>\n",
       "      <td>1.369842</td>\n",
       "      <td>1.359957</td>\n",
       "    </tr>\n",
       "    <tr>\n",
       "      <th>6</th>\n",
       "      <td>ExtremeGradientBoosting Regressor</td>\n",
       "      <td>85.0</td>\n",
       "      <td>85.0</td>\n",
       "      <td>1.219166</td>\n",
       "      <td>1.222272</td>\n",
       "    </tr>\n",
       "  </tbody>\n",
       "</table>\n",
       "</div>"
      ],
      "text/plain": [
       "                               Model  Train Accuracy(R2)  Test Accuracy(R2)  \\\n",
       "0                  Linear Regression                55.0               56.0   \n",
       "1            DecisionTree Regression                75.0               74.0   \n",
       "2            RandomForest Regression                76.0               76.0   \n",
       "3                   Redge Regression                55.0               56.0   \n",
       "4                   Lasso Regression                46.0               48.0   \n",
       "5         GradientBoosting Regressor                63.0               64.0   \n",
       "6  ExtremeGradientBoosting Regressor                85.0               85.0   \n",
       "\n",
       "   Train_RMSE  Test_RMSE  \n",
       "0    1.412766   4.107301  \n",
       "1    1.296272   1.298102  \n",
       "2    1.286485   1.285865  \n",
       "3    1.412750   1.403388  \n",
       "4    1.412750   1.459108  \n",
       "5    1.369842   1.359957  \n",
       "6    1.219166   1.222272  "
      ]
     },
     "execution_count": 225,
     "metadata": {},
     "output_type": "execute_result"
    }
   ],
   "source": [
    "result = result._append(pd.Series({'Model':'ExtremeGradientBoosting Regressor','Train Accuracy(R2)':XGBTrain_r2,'Train_RMSE':XGBTrain_rmse,'Test Accuracy(R2)': XGBTest_r2,'Test_RMSE':XGBTest_rmse}),ignore_index=True )\n",
    "result"
   ]
  },
  {
   "cell_type": "markdown",
   "id": "b470089c",
   "metadata": {},
   "source": [
    "# AdaBoost Regression Model"
   ]
  },
  {
   "cell_type": "code",
   "execution_count": 226,
   "id": "8ef7f390",
   "metadata": {},
   "outputs": [
    {
     "data": {
      "text/html": [
       "<style>#sk-container-id-20 {color: black;}#sk-container-id-20 pre{padding: 0;}#sk-container-id-20 div.sk-toggleable {background-color: white;}#sk-container-id-20 label.sk-toggleable__label {cursor: pointer;display: block;width: 100%;margin-bottom: 0;padding: 0.3em;box-sizing: border-box;text-align: center;}#sk-container-id-20 label.sk-toggleable__label-arrow:before {content: \"▸\";float: left;margin-right: 0.25em;color: #696969;}#sk-container-id-20 label.sk-toggleable__label-arrow:hover:before {color: black;}#sk-container-id-20 div.sk-estimator:hover label.sk-toggleable__label-arrow:before {color: black;}#sk-container-id-20 div.sk-toggleable__content {max-height: 0;max-width: 0;overflow: hidden;text-align: left;background-color: #f0f8ff;}#sk-container-id-20 div.sk-toggleable__content pre {margin: 0.2em;color: black;border-radius: 0.25em;background-color: #f0f8ff;}#sk-container-id-20 input.sk-toggleable__control:checked~div.sk-toggleable__content {max-height: 200px;max-width: 100%;overflow: auto;}#sk-container-id-20 input.sk-toggleable__control:checked~label.sk-toggleable__label-arrow:before {content: \"▾\";}#sk-container-id-20 div.sk-estimator input.sk-toggleable__control:checked~label.sk-toggleable__label {background-color: #d4ebff;}#sk-container-id-20 div.sk-label input.sk-toggleable__control:checked~label.sk-toggleable__label {background-color: #d4ebff;}#sk-container-id-20 input.sk-hidden--visually {border: 0;clip: rect(1px 1px 1px 1px);clip: rect(1px, 1px, 1px, 1px);height: 1px;margin: -1px;overflow: hidden;padding: 0;position: absolute;width: 1px;}#sk-container-id-20 div.sk-estimator {font-family: monospace;background-color: #f0f8ff;border: 1px dotted black;border-radius: 0.25em;box-sizing: border-box;margin-bottom: 0.5em;}#sk-container-id-20 div.sk-estimator:hover {background-color: #d4ebff;}#sk-container-id-20 div.sk-parallel-item::after {content: \"\";width: 100%;border-bottom: 1px solid gray;flex-grow: 1;}#sk-container-id-20 div.sk-label:hover label.sk-toggleable__label {background-color: #d4ebff;}#sk-container-id-20 div.sk-serial::before {content: \"\";position: absolute;border-left: 1px solid gray;box-sizing: border-box;top: 0;bottom: 0;left: 50%;z-index: 0;}#sk-container-id-20 div.sk-serial {display: flex;flex-direction: column;align-items: center;background-color: white;padding-right: 0.2em;padding-left: 0.2em;position: relative;}#sk-container-id-20 div.sk-item {position: relative;z-index: 1;}#sk-container-id-20 div.sk-parallel {display: flex;align-items: stretch;justify-content: center;background-color: white;position: relative;}#sk-container-id-20 div.sk-item::before, #sk-container-id-20 div.sk-parallel-item::before {content: \"\";position: absolute;border-left: 1px solid gray;box-sizing: border-box;top: 0;bottom: 0;left: 50%;z-index: -1;}#sk-container-id-20 div.sk-parallel-item {display: flex;flex-direction: column;z-index: 1;position: relative;background-color: white;}#sk-container-id-20 div.sk-parallel-item:first-child::after {align-self: flex-end;width: 50%;}#sk-container-id-20 div.sk-parallel-item:last-child::after {align-self: flex-start;width: 50%;}#sk-container-id-20 div.sk-parallel-item:only-child::after {width: 0;}#sk-container-id-20 div.sk-dashed-wrapped {border: 1px dashed gray;margin: 0 0.4em 0.5em 0.4em;box-sizing: border-box;padding-bottom: 0.4em;background-color: white;}#sk-container-id-20 div.sk-label label {font-family: monospace;font-weight: bold;display: inline-block;line-height: 1.2em;}#sk-container-id-20 div.sk-label-container {text-align: center;}#sk-container-id-20 div.sk-container {/* jupyter's `normalize.less` sets `[hidden] { display: none; }` but bootstrap.min.css set `[hidden] { display: none !important; }` so we also need the `!important` here to be able to override the default hidden behavior on the sphinx rendered scikit-learn.org. See: https://github.com/scikit-learn/scikit-learn/issues/21755 */display: inline-block !important;position: relative;}#sk-container-id-20 div.sk-text-repr-fallback {display: none;}</style><div id=\"sk-container-id-20\" class=\"sk-top-container\"><div class=\"sk-text-repr-fallback\"><pre>AdaBoostRegressor(learning_rate=0.5)</pre><b>In a Jupyter environment, please rerun this cell to show the HTML representation or trust the notebook. <br />On GitHub, the HTML representation is unable to render, please try loading this page with nbviewer.org.</b></div><div class=\"sk-container\" hidden><div class=\"sk-item\"><div class=\"sk-estimator sk-toggleable\"><input class=\"sk-toggleable__control sk-hidden--visually\" id=\"sk-estimator-id-24\" type=\"checkbox\" checked><label for=\"sk-estimator-id-24\" class=\"sk-toggleable__label sk-toggleable__label-arrow\">AdaBoostRegressor</label><div class=\"sk-toggleable__content\"><pre>AdaBoostRegressor(learning_rate=0.5)</pre></div></div></div></div></div>"
      ],
      "text/plain": [
       "AdaBoostRegressor(learning_rate=0.5)"
      ]
     },
     "execution_count": 226,
     "metadata": {},
     "output_type": "execute_result"
    }
   ],
   "source": [
    "from sklearn.ensemble import AdaBoostRegressor\n",
    "ABR=AdaBoostRegressor(n_estimators=50,learning_rate=0.5)\n",
    "ABR.fit(X_train,y_train)"
   ]
  },
  {
   "cell_type": "code",
   "execution_count": 227,
   "id": "f201b8d0",
   "metadata": {},
   "outputs": [],
   "source": [
    "ABRTrain= np.round(ABR.predict(X_train),2)\n",
    "ABRTest = np.round(ABR.predict(X_test),2)"
   ]
  },
  {
   "cell_type": "code",
   "execution_count": 228,
   "id": "93df12be",
   "metadata": {},
   "outputs": [
    {
     "name": "stdout",
     "output_type": "stream",
     "text": [
      "R2 score for model Performance on Train :  69.0\n",
      "Train RMSE :  1.3329444404863195\n"
     ]
    }
   ],
   "source": [
    "ABRTrain_r2= r2_score(train.Price,ABRTrain)\n",
    "ABRTrain_r2=np.round(ABRTrain_r2,2)*100\n",
    "print('R2 score for model Performance on Train : ', ABRTrain_r2)\n",
    "model14_mse = mean_squared_error(train['Price'],ABRTrain)\n",
    "ABRTrain_rmse = np.sqrt(model14_mse)\n",
    "ABRTrain_rmse=np.exp(ABRTrain_rmse)\n",
    "print(\"Train RMSE : \",ABRTrain_rmse)"
   ]
  },
  {
   "cell_type": "code",
   "execution_count": 229,
   "id": "9cb7279c",
   "metadata": {},
   "outputs": [
    {
     "name": "stdout",
     "output_type": "stream",
     "text": [
      "R2 score for model Performance on Train :  69.0\n",
      "Test RMSE :  1.3289824232850918\n"
     ]
    }
   ],
   "source": [
    "ABRTest_r2 = r2_score(test.Price,ABRTest)\n",
    "ABRTest_r2=np.round(ABRTest_r2,2)*100\n",
    "print('R2 score for model Performance on Train : ', ABRTest_r2)\n",
    "model15_mse = mean_squared_error(test['Price'],ABRTest)\n",
    "ABRTest_rmse = np.sqrt(model15_mse)\n",
    "ABRTest_rmse = np.exp(ABRTest_rmse)\n",
    "print(\"Test RMSE : \",ABRTest_rmse)"
   ]
  },
  {
   "cell_type": "code",
   "execution_count": 230,
   "id": "9ff5558e",
   "metadata": {},
   "outputs": [
    {
     "data": {
      "text/html": [
       "<div>\n",
       "<style scoped>\n",
       "    .dataframe tbody tr th:only-of-type {\n",
       "        vertical-align: middle;\n",
       "    }\n",
       "\n",
       "    .dataframe tbody tr th {\n",
       "        vertical-align: top;\n",
       "    }\n",
       "\n",
       "    .dataframe thead th {\n",
       "        text-align: right;\n",
       "    }\n",
       "</style>\n",
       "<table border=\"1\" class=\"dataframe\">\n",
       "  <thead>\n",
       "    <tr style=\"text-align: right;\">\n",
       "      <th></th>\n",
       "      <th>Model</th>\n",
       "      <th>Train Accuracy(R2)</th>\n",
       "      <th>Test Accuracy(R2)</th>\n",
       "      <th>Train_RMSE</th>\n",
       "      <th>Test_RMSE</th>\n",
       "    </tr>\n",
       "  </thead>\n",
       "  <tbody>\n",
       "    <tr>\n",
       "      <th>0</th>\n",
       "      <td>Linear Regression</td>\n",
       "      <td>55.0</td>\n",
       "      <td>56.0</td>\n",
       "      <td>1.412766</td>\n",
       "      <td>4.107301</td>\n",
       "    </tr>\n",
       "    <tr>\n",
       "      <th>1</th>\n",
       "      <td>DecisionTree Regression</td>\n",
       "      <td>75.0</td>\n",
       "      <td>74.0</td>\n",
       "      <td>1.296272</td>\n",
       "      <td>1.298102</td>\n",
       "    </tr>\n",
       "    <tr>\n",
       "      <th>2</th>\n",
       "      <td>RandomForest Regression</td>\n",
       "      <td>76.0</td>\n",
       "      <td>76.0</td>\n",
       "      <td>1.286485</td>\n",
       "      <td>1.285865</td>\n",
       "    </tr>\n",
       "    <tr>\n",
       "      <th>3</th>\n",
       "      <td>Redge Regression</td>\n",
       "      <td>55.0</td>\n",
       "      <td>56.0</td>\n",
       "      <td>1.412750</td>\n",
       "      <td>1.403388</td>\n",
       "    </tr>\n",
       "    <tr>\n",
       "      <th>4</th>\n",
       "      <td>Lasso Regression</td>\n",
       "      <td>46.0</td>\n",
       "      <td>48.0</td>\n",
       "      <td>1.412750</td>\n",
       "      <td>1.459108</td>\n",
       "    </tr>\n",
       "    <tr>\n",
       "      <th>5</th>\n",
       "      <td>GradientBoosting Regressor</td>\n",
       "      <td>63.0</td>\n",
       "      <td>64.0</td>\n",
       "      <td>1.369842</td>\n",
       "      <td>1.359957</td>\n",
       "    </tr>\n",
       "    <tr>\n",
       "      <th>6</th>\n",
       "      <td>ExtremeGradientBoosting Regressor</td>\n",
       "      <td>85.0</td>\n",
       "      <td>85.0</td>\n",
       "      <td>1.219166</td>\n",
       "      <td>1.222272</td>\n",
       "    </tr>\n",
       "    <tr>\n",
       "      <th>7</th>\n",
       "      <td>AdaBoosting Regressor</td>\n",
       "      <td>69.0</td>\n",
       "      <td>69.0</td>\n",
       "      <td>1.332944</td>\n",
       "      <td>1.328982</td>\n",
       "    </tr>\n",
       "  </tbody>\n",
       "</table>\n",
       "</div>"
      ],
      "text/plain": [
       "                               Model  Train Accuracy(R2)  Test Accuracy(R2)  \\\n",
       "0                  Linear Regression                55.0               56.0   \n",
       "1            DecisionTree Regression                75.0               74.0   \n",
       "2            RandomForest Regression                76.0               76.0   \n",
       "3                   Redge Regression                55.0               56.0   \n",
       "4                   Lasso Regression                46.0               48.0   \n",
       "5         GradientBoosting Regressor                63.0               64.0   \n",
       "6  ExtremeGradientBoosting Regressor                85.0               85.0   \n",
       "7              AdaBoosting Regressor                69.0               69.0   \n",
       "\n",
       "   Train_RMSE  Test_RMSE  \n",
       "0    1.412766   4.107301  \n",
       "1    1.296272   1.298102  \n",
       "2    1.286485   1.285865  \n",
       "3    1.412750   1.403388  \n",
       "4    1.412750   1.459108  \n",
       "5    1.369842   1.359957  \n",
       "6    1.219166   1.222272  \n",
       "7    1.332944   1.328982  "
      ]
     },
     "execution_count": 230,
     "metadata": {},
     "output_type": "execute_result"
    }
   ],
   "source": [
    "result = result._append(pd.Series({'Model':'AdaBoosting Regressor','Train Accuracy(R2)':ABRTrain_r2,'Train_RMSE':ABRTrain_rmse,'Test Accuracy(R2)': ABRTest_r2,'Test_RMSE':ABRTest_rmse}),ignore_index=True )\n",
    "result"
   ]
  },
  {
   "cell_type": "code",
   "execution_count": 231,
   "id": "3056ad21",
   "metadata": {},
   "outputs": [
    {
     "data": {
      "image/png": "[encoded data removed]",
      "text/plain": [
       "<Figure size 1000x700 with 1 Axes>"
      ]
     },
     "metadata": {},
     "output_type": "display_data"
    }
   ],
   "source": [
    "result.plot(kind=\"bar\",figsize=(10,7))\n",
    "plt.title('Train&Test Scores of Classifiers')\n",
    "plt.xlabel('Model')\n",
    "plt.ylabel('Scores')\n",
    "plt.legend(loc=4 , bbox_to_anchor=(1.2, 0))\n",
    "plt.show()"
   ]
  },
  {
   "cell_type": "markdown",
   "id": "60aadf48",
   "metadata": {},
   "source": [
    "# Conclusion:\n",
    "Result: 7 types of Regression Algorithms applied in which Extreme Boost Regressor is most Accurate model amoung all.\n",
    "Other model doesnot fit with this Dataset as all are underfit"
   ]
  },
  {
   "cell_type": "markdown",
   "id": "ec7f5637",
   "metadata": {},
   "source": [
    "# Import Pickle Moel"
   ]
  },
  {
   "cell_type": "code",
   "execution_count": 232,
   "id": "c54ee2da",
   "metadata": {},
   "outputs": [],
   "source": [
    "import pickle\n",
    "\n",
    "pickle.dump(XGB, open(r'C:\\Users\\TRUPTI\\Desktop\\Trupti_AdvMLExam\\build.pkl','wb'))  # Exporting model from python to laptop"
   ]
  },
  {
   "cell_type": "markdown",
   "id": "435d1c1b",
   "metadata": {},
   "source": [
    "# Prediction on Test/Live dataset"
   ]
  },
  {
   "cell_type": "code",
   "execution_count": null,
   "id": "8ef9f293",
   "metadata": {},
   "outputs": [],
   "source": []
  },
  {
   "cell_type": "code",
   "execution_count": 233,
   "id": "d4b2747a",
   "metadata": {},
   "outputs": [
    {
     "data": {
      "text/html": [
       "<div>\n",
       "<style scoped>\n",
       "    .dataframe tbody tr th:only-of-type {\n",
       "        vertical-align: middle;\n",
       "    }\n",
       "\n",
       "    .dataframe tbody tr th {\n",
       "        vertical-align: top;\n",
       "    }\n",
       "\n",
       "    .dataframe thead th {\n",
       "        text-align: right;\n",
       "    }\n",
       "</style>\n",
       "<table border=\"1\" class=\"dataframe\">\n",
       "  <thead>\n",
       "    <tr style=\"text-align: right;\">\n",
       "      <th></th>\n",
       "      <th>Airline</th>\n",
       "      <th>Date_of_Journey</th>\n",
       "      <th>Source</th>\n",
       "      <th>Destination</th>\n",
       "      <th>Route</th>\n",
       "      <th>Dep_Time</th>\n",
       "      <th>Arrival_Time</th>\n",
       "      <th>Duration</th>\n",
       "      <th>Total_Stops</th>\n",
       "      <th>Additional_Info</th>\n",
       "    </tr>\n",
       "  </thead>\n",
       "  <tbody>\n",
       "    <tr>\n",
       "      <th>0</th>\n",
       "      <td>Jet Airways</td>\n",
       "      <td>6/06/2019</td>\n",
       "      <td>Delhi</td>\n",
       "      <td>Cochin</td>\n",
       "      <td>DEL → BOM → COK</td>\n",
       "      <td>17:30</td>\n",
       "      <td>04:25 07 Jun</td>\n",
       "      <td>10h 55m</td>\n",
       "      <td>1 stop</td>\n",
       "      <td>No info</td>\n",
       "    </tr>\n",
       "    <tr>\n",
       "      <th>1</th>\n",
       "      <td>IndiGo</td>\n",
       "      <td>12/05/2019</td>\n",
       "      <td>Kolkata</td>\n",
       "      <td>Banglore</td>\n",
       "      <td>CCU → MAA → BLR</td>\n",
       "      <td>06:20</td>\n",
       "      <td>10:20</td>\n",
       "      <td>4h</td>\n",
       "      <td>1 stop</td>\n",
       "      <td>No info</td>\n",
       "    </tr>\n",
       "    <tr>\n",
       "      <th>2</th>\n",
       "      <td>Jet Airways</td>\n",
       "      <td>21/05/2019</td>\n",
       "      <td>Delhi</td>\n",
       "      <td>Cochin</td>\n",
       "      <td>DEL → BOM → COK</td>\n",
       "      <td>19:15</td>\n",
       "      <td>19:00 22 May</td>\n",
       "      <td>23h 45m</td>\n",
       "      <td>1 stop</td>\n",
       "      <td>In-flight meal not included</td>\n",
       "    </tr>\n",
       "    <tr>\n",
       "      <th>3</th>\n",
       "      <td>Multiple carriers</td>\n",
       "      <td>21/05/2019</td>\n",
       "      <td>Delhi</td>\n",
       "      <td>Cochin</td>\n",
       "      <td>DEL → BOM → COK</td>\n",
       "      <td>08:00</td>\n",
       "      <td>21:00</td>\n",
       "      <td>13h</td>\n",
       "      <td>1 stop</td>\n",
       "      <td>No info</td>\n",
       "    </tr>\n",
       "    <tr>\n",
       "      <th>4</th>\n",
       "      <td>Air Asia</td>\n",
       "      <td>24/06/2019</td>\n",
       "      <td>Banglore</td>\n",
       "      <td>Delhi</td>\n",
       "      <td>BLR → DEL</td>\n",
       "      <td>23:55</td>\n",
       "      <td>02:45 25 Jun</td>\n",
       "      <td>2h 50m</td>\n",
       "      <td>non-stop</td>\n",
       "      <td>No info</td>\n",
       "    </tr>\n",
       "  </tbody>\n",
       "</table>\n",
       "</div>"
      ],
      "text/plain": [
       "             Airline Date_of_Journey    Source Destination            Route  \\\n",
       "0        Jet Airways       6/06/2019     Delhi      Cochin  DEL → BOM → COK   \n",
       "1             IndiGo      12/05/2019   Kolkata    Banglore  CCU → MAA → BLR   \n",
       "2        Jet Airways      21/05/2019     Delhi      Cochin  DEL → BOM → COK   \n",
       "3  Multiple carriers      21/05/2019     Delhi      Cochin  DEL → BOM → COK   \n",
       "4           Air Asia      24/06/2019  Banglore       Delhi        BLR → DEL   \n",
       "\n",
       "  Dep_Time  Arrival_Time Duration Total_Stops              Additional_Info  \n",
       "0    17:30  04:25 07 Jun  10h 55m      1 stop                      No info  \n",
       "1    06:20         10:20       4h      1 stop                      No info  \n",
       "2    19:15  19:00 22 May  23h 45m      1 stop  In-flight meal not included  \n",
       "3    08:00         21:00      13h      1 stop                      No info  \n",
       "4    23:55  02:45 25 Jun   2h 50m    non-stop                      No info  "
      ]
     },
     "execution_count": 233,
     "metadata": {},
     "output_type": "execute_result"
    }
   ],
   "source": [
    "live_data = pd.read_excel(r\"C:\\Users\\TRUPTI\\Desktop\\Trupti_AdvMLExam\\Flight_Price_Test.xlsx\")\n",
    "live_data.head()"
   ]
  },
  {
   "cell_type": "code",
   "execution_count": 234,
   "id": "6d299143",
   "metadata": {},
   "outputs": [],
   "source": [
    "live_data1=live_data.copy()"
   ]
  },
  {
   "cell_type": "markdown",
   "id": "f3f7cf5d",
   "metadata": {},
   "source": [
    "# Data Preprocessing"
   ]
  },
  {
   "cell_type": "code",
   "execution_count": 235,
   "id": "faa88f16",
   "metadata": {},
   "outputs": [
    {
     "name": "stdout",
     "output_type": "stream",
     "text": [
      "Number of rows in Dataset : 2671\n",
      "Number of columns in Dataset : 10\n"
     ]
    }
   ],
   "source": [
    "print(\"Number of rows in Dataset :\",live_data.shape[0])\n",
    "print(\"Number of columns in Dataset :\",live_data.shape[1])"
   ]
  },
  {
   "cell_type": "code",
   "execution_count": 236,
   "id": "af00bd37",
   "metadata": {},
   "outputs": [
    {
     "name": "stdout",
     "output_type": "stream",
     "text": [
      "Number of Null Values in Dataset:\n"
     ]
    },
    {
     "data": {
      "text/plain": [
       "Airline            0\n",
       "Date_of_Journey    0\n",
       "Source             0\n",
       "Destination        0\n",
       "Route              0\n",
       "Dep_Time           0\n",
       "Arrival_Time       0\n",
       "Duration           0\n",
       "Total_Stops        0\n",
       "Additional_Info    0\n",
       "dtype: int64"
      ]
     },
     "execution_count": 236,
     "metadata": {},
     "output_type": "execute_result"
    }
   ],
   "source": [
    "# Find Null Values\n",
    "print(\"Number of Null Values in Dataset:\")\n",
    "live_data.isnull().sum()"
   ]
  },
  {
   "cell_type": "code",
   "execution_count": 237,
   "id": "e7cb3e12",
   "metadata": {},
   "outputs": [
    {
     "name": "stdout",
     "output_type": "stream",
     "text": [
      "<class 'pandas.core.frame.DataFrame'>\n",
      "RangeIndex: 2671 entries, 0 to 2670\n",
      "Data columns (total 10 columns):\n",
      " #   Column           Non-Null Count  Dtype \n",
      "---  ------           --------------  ----- \n",
      " 0   Airline          2671 non-null   object\n",
      " 1   Date_of_Journey  2671 non-null   object\n",
      " 2   Source           2671 non-null   object\n",
      " 3   Destination      2671 non-null   object\n",
      " 4   Route            2671 non-null   object\n",
      " 5   Dep_Time         2671 non-null   object\n",
      " 6   Arrival_Time     2671 non-null   object\n",
      " 7   Duration         2671 non-null   object\n",
      " 8   Total_Stops      2671 non-null   object\n",
      " 9   Additional_Info  2671 non-null   object\n",
      "dtypes: object(10)\n",
      "memory usage: 208.8+ KB\n"
     ]
    }
   ],
   "source": [
    "live_data.info()"
   ]
  },
  {
   "cell_type": "code",
   "execution_count": 238,
   "id": "7e03f0a2",
   "metadata": {},
   "outputs": [],
   "source": [
    "live_data['Date_of_Journey']=pd.to_datetime(live_data['Date_of_Journey'],format=\"%d/%m/%Y\")\n"
   ]
  },
  {
   "cell_type": "code",
   "execution_count": 239,
   "id": "6a82f146",
   "metadata": {},
   "outputs": [],
   "source": [
    "# Extract Date,Month,Year from Date_of_journey\n",
    "\n",
    "live_data['Date']=live_data['Date_of_Journey'].dt.day\n",
    "live_data['Month']=live_data['Date_of_Journey'].dt.month\n",
    "live_data['Year']=live_data['Date_of_Journey'].dt.year\n",
    "live_data['Duration']=pd.to_timedelta(live_data['Duration'])\n",
    "live_data['Duration_hour']=live_data['Duration']/pd.Timedelta(hours=1)\n",
    "live_data['Arrival_Hour']=pd.to_datetime(live_data['Arrival_Time']).dt.hour\n",
    "live_data['Arrival_Minute']=pd.to_datetime(live_data['Arrival_Time']).dt.minute\n",
    "live_data['Dep_Hour']=pd.to_datetime(live_data['Dep_Time']).dt.hour\n",
    "live_data['Dep_Minute']=pd.to_datetime(live_data['Dep_Time']).dt.minute\n"
   ]
  },
  {
   "cell_type": "code",
   "execution_count": 240,
   "id": "a1cc35c6",
   "metadata": {},
   "outputs": [
    {
     "data": {
      "text/html": [
       "<div>\n",
       "<style scoped>\n",
       "    .dataframe tbody tr th:only-of-type {\n",
       "        vertical-align: middle;\n",
       "    }\n",
       "\n",
       "    .dataframe tbody tr th {\n",
       "        vertical-align: top;\n",
       "    }\n",
       "\n",
       "    .dataframe thead th {\n",
       "        text-align: right;\n",
       "    }\n",
       "</style>\n",
       "<table border=\"1\" class=\"dataframe\">\n",
       "  <thead>\n",
       "    <tr style=\"text-align: right;\">\n",
       "      <th></th>\n",
       "      <th>Airline</th>\n",
       "      <th>Date_of_Journey</th>\n",
       "      <th>Source</th>\n",
       "      <th>Destination</th>\n",
       "      <th>Route</th>\n",
       "      <th>Dep_Time</th>\n",
       "      <th>Arrival_Time</th>\n",
       "      <th>Duration</th>\n",
       "      <th>Total_Stops</th>\n",
       "      <th>Additional_Info</th>\n",
       "      <th>Date</th>\n",
       "      <th>Month</th>\n",
       "      <th>Year</th>\n",
       "      <th>Duration_hour</th>\n",
       "      <th>Arrival_Hour</th>\n",
       "      <th>Arrival_Minute</th>\n",
       "      <th>Dep_Hour</th>\n",
       "      <th>Dep_Minute</th>\n",
       "    </tr>\n",
       "  </thead>\n",
       "  <tbody>\n",
       "    <tr>\n",
       "      <th>0</th>\n",
       "      <td>Jet Airways</td>\n",
       "      <td>2019-06-06</td>\n",
       "      <td>Delhi</td>\n",
       "      <td>Cochin</td>\n",
       "      <td>DEL → BOM → COK</td>\n",
       "      <td>17:30</td>\n",
       "      <td>04:25 07 Jun</td>\n",
       "      <td>0 days 10:55:00</td>\n",
       "      <td>1 stop</td>\n",
       "      <td>No info</td>\n",
       "      <td>6</td>\n",
       "      <td>6</td>\n",
       "      <td>2019</td>\n",
       "      <td>10.916667</td>\n",
       "      <td>4</td>\n",
       "      <td>25</td>\n",
       "      <td>17</td>\n",
       "      <td>30</td>\n",
       "    </tr>\n",
       "    <tr>\n",
       "      <th>1</th>\n",
       "      <td>IndiGo</td>\n",
       "      <td>2019-05-12</td>\n",
       "      <td>Kolkata</td>\n",
       "      <td>Banglore</td>\n",
       "      <td>CCU → MAA → BLR</td>\n",
       "      <td>06:20</td>\n",
       "      <td>10:20</td>\n",
       "      <td>0 days 04:00:00</td>\n",
       "      <td>1 stop</td>\n",
       "      <td>No info</td>\n",
       "      <td>12</td>\n",
       "      <td>5</td>\n",
       "      <td>2019</td>\n",
       "      <td>4.000000</td>\n",
       "      <td>10</td>\n",
       "      <td>20</td>\n",
       "      <td>6</td>\n",
       "      <td>20</td>\n",
       "    </tr>\n",
       "  </tbody>\n",
       "</table>\n",
       "</div>"
      ],
      "text/plain": [
       "       Airline Date_of_Journey   Source Destination            Route Dep_Time  \\\n",
       "0  Jet Airways      2019-06-06    Delhi      Cochin  DEL → BOM → COK    17:30   \n",
       "1       IndiGo      2019-05-12  Kolkata    Banglore  CCU → MAA → BLR    06:20   \n",
       "\n",
       "   Arrival_Time        Duration Total_Stops Additional_Info  Date  Month  \\\n",
       "0  04:25 07 Jun 0 days 10:55:00      1 stop         No info     6      6   \n",
       "1         10:20 0 days 04:00:00      1 stop         No info    12      5   \n",
       "\n",
       "   Year  Duration_hour  Arrival_Hour  Arrival_Minute  Dep_Hour  Dep_Minute  \n",
       "0  2019      10.916667             4              25        17          30  \n",
       "1  2019       4.000000            10              20         6          20  "
      ]
     },
     "execution_count": 240,
     "metadata": {},
     "output_type": "execute_result"
    }
   ],
   "source": [
    "live_data.head(2)"
   ]
  },
  {
   "cell_type": "code",
   "execution_count": 241,
   "id": "a50ed14c",
   "metadata": {},
   "outputs": [
    {
     "data": {
      "text/html": [
       "<div>\n",
       "<style scoped>\n",
       "    .dataframe tbody tr th:only-of-type {\n",
       "        vertical-align: middle;\n",
       "    }\n",
       "\n",
       "    .dataframe tbody tr th {\n",
       "        vertical-align: top;\n",
       "    }\n",
       "\n",
       "    .dataframe thead th {\n",
       "        text-align: right;\n",
       "    }\n",
       "</style>\n",
       "<table border=\"1\" class=\"dataframe\">\n",
       "  <thead>\n",
       "    <tr style=\"text-align: right;\">\n",
       "      <th></th>\n",
       "      <th>Airline</th>\n",
       "      <th>Source</th>\n",
       "      <th>Destination</th>\n",
       "      <th>Route</th>\n",
       "      <th>Total_Stops</th>\n",
       "      <th>Additional_Info</th>\n",
       "      <th>Date</th>\n",
       "      <th>Month</th>\n",
       "      <th>Year</th>\n",
       "      <th>Duration_hour</th>\n",
       "      <th>Arrival_Hour</th>\n",
       "      <th>Arrival_Minute</th>\n",
       "      <th>Dep_Hour</th>\n",
       "      <th>Dep_Minute</th>\n",
       "    </tr>\n",
       "  </thead>\n",
       "  <tbody>\n",
       "    <tr>\n",
       "      <th>0</th>\n",
       "      <td>Jet Airways</td>\n",
       "      <td>Delhi</td>\n",
       "      <td>Cochin</td>\n",
       "      <td>DEL → BOM → COK</td>\n",
       "      <td>1 stop</td>\n",
       "      <td>No info</td>\n",
       "      <td>6</td>\n",
       "      <td>6</td>\n",
       "      <td>2019</td>\n",
       "      <td>10.916667</td>\n",
       "      <td>4</td>\n",
       "      <td>25</td>\n",
       "      <td>17</td>\n",
       "      <td>30</td>\n",
       "    </tr>\n",
       "    <tr>\n",
       "      <th>1</th>\n",
       "      <td>IndiGo</td>\n",
       "      <td>Kolkata</td>\n",
       "      <td>Banglore</td>\n",
       "      <td>CCU → MAA → BLR</td>\n",
       "      <td>1 stop</td>\n",
       "      <td>No info</td>\n",
       "      <td>12</td>\n",
       "      <td>5</td>\n",
       "      <td>2019</td>\n",
       "      <td>4.000000</td>\n",
       "      <td>10</td>\n",
       "      <td>20</td>\n",
       "      <td>6</td>\n",
       "      <td>20</td>\n",
       "    </tr>\n",
       "    <tr>\n",
       "      <th>2</th>\n",
       "      <td>Jet Airways</td>\n",
       "      <td>Delhi</td>\n",
       "      <td>Cochin</td>\n",
       "      <td>DEL → BOM → COK</td>\n",
       "      <td>1 stop</td>\n",
       "      <td>In-flight meal not included</td>\n",
       "      <td>21</td>\n",
       "      <td>5</td>\n",
       "      <td>2019</td>\n",
       "      <td>23.750000</td>\n",
       "      <td>19</td>\n",
       "      <td>0</td>\n",
       "      <td>19</td>\n",
       "      <td>15</td>\n",
       "    </tr>\n",
       "  </tbody>\n",
       "</table>\n",
       "</div>"
      ],
      "text/plain": [
       "       Airline   Source Destination            Route Total_Stops  \\\n",
       "0  Jet Airways    Delhi      Cochin  DEL → BOM → COK      1 stop   \n",
       "1       IndiGo  Kolkata    Banglore  CCU → MAA → BLR      1 stop   \n",
       "2  Jet Airways    Delhi      Cochin  DEL → BOM → COK      1 stop   \n",
       "\n",
       "               Additional_Info  Date  Month  Year  Duration_hour  \\\n",
       "0                      No info     6      6  2019      10.916667   \n",
       "1                      No info    12      5  2019       4.000000   \n",
       "2  In-flight meal not included    21      5  2019      23.750000   \n",
       "\n",
       "   Arrival_Hour  Arrival_Minute  Dep_Hour  Dep_Minute  \n",
       "0             4              25        17          30  \n",
       "1            10              20         6          20  \n",
       "2            19               0        19          15  "
      ]
     },
     "execution_count": 241,
     "metadata": {},
     "output_type": "execute_result"
    }
   ],
   "source": [
    "live_data=live_data.drop(['Date_of_Journey','Arrival_Time','Dep_Time','Duration'],axis=1)\n",
    "live_data.head(3)"
   ]
  },
  {
   "cell_type": "code",
   "execution_count": 242,
   "id": "04aee24c",
   "metadata": {},
   "outputs": [
    {
     "name": "stdout",
     "output_type": "stream",
     "text": [
      "Number of rows in Dataset : 2671\n",
      "Number of columns in Dataset : 14\n"
     ]
    }
   ],
   "source": [
    "print(\"Number of rows in Dataset :\",live_data.shape[0])\n",
    "print(\"Number of columns in Dataset :\",live_data.shape[1])"
   ]
  },
  {
   "cell_type": "markdown",
   "id": "cf37df61",
   "metadata": {},
   "source": [
    "# Perform Encoding"
   ]
  },
  {
   "cell_type": "code",
   "execution_count": 243,
   "id": "4f48b6f9",
   "metadata": {},
   "outputs": [
    {
     "data": {
      "text/html": [
       "<div>\n",
       "<style scoped>\n",
       "    .dataframe tbody tr th:only-of-type {\n",
       "        vertical-align: middle;\n",
       "    }\n",
       "\n",
       "    .dataframe tbody tr th {\n",
       "        vertical-align: top;\n",
       "    }\n",
       "\n",
       "    .dataframe thead th {\n",
       "        text-align: right;\n",
       "    }\n",
       "</style>\n",
       "<table border=\"1\" class=\"dataframe\">\n",
       "  <thead>\n",
       "    <tr style=\"text-align: right;\">\n",
       "      <th></th>\n",
       "      <th>Date</th>\n",
       "      <th>Month</th>\n",
       "      <th>Year</th>\n",
       "      <th>Duration_hour</th>\n",
       "      <th>Arrival_Hour</th>\n",
       "      <th>Arrival_Minute</th>\n",
       "      <th>Dep_Hour</th>\n",
       "      <th>Dep_Minute</th>\n",
       "    </tr>\n",
       "  </thead>\n",
       "  <tbody>\n",
       "    <tr>\n",
       "      <th>0</th>\n",
       "      <td>6</td>\n",
       "      <td>6</td>\n",
       "      <td>2019</td>\n",
       "      <td>10.916667</td>\n",
       "      <td>4</td>\n",
       "      <td>25</td>\n",
       "      <td>17</td>\n",
       "      <td>30</td>\n",
       "    </tr>\n",
       "    <tr>\n",
       "      <th>1</th>\n",
       "      <td>12</td>\n",
       "      <td>5</td>\n",
       "      <td>2019</td>\n",
       "      <td>4.000000</td>\n",
       "      <td>10</td>\n",
       "      <td>20</td>\n",
       "      <td>6</td>\n",
       "      <td>20</td>\n",
       "    </tr>\n",
       "    <tr>\n",
       "      <th>2</th>\n",
       "      <td>21</td>\n",
       "      <td>5</td>\n",
       "      <td>2019</td>\n",
       "      <td>23.750000</td>\n",
       "      <td>19</td>\n",
       "      <td>0</td>\n",
       "      <td>19</td>\n",
       "      <td>15</td>\n",
       "    </tr>\n",
       "  </tbody>\n",
       "</table>\n",
       "</div>"
      ],
      "text/plain": [
       "   Date  Month  Year  Duration_hour  Arrival_Hour  Arrival_Minute  Dep_Hour  \\\n",
       "0     6      6  2019      10.916667             4              25        17   \n",
       "1    12      5  2019       4.000000            10              20         6   \n",
       "2    21      5  2019      23.750000            19               0        19   \n",
       "\n",
       "   Dep_Minute  \n",
       "0          30  \n",
       "1          20  \n",
       "2          15  "
      ]
     },
     "execution_count": 243,
     "metadata": {},
     "output_type": "execute_result"
    }
   ],
   "source": [
    "Numeric=live_data.select_dtypes(include=[np.number])\n",
    "Numeric.head(3)"
   ]
  },
  {
   "cell_type": "code",
   "execution_count": 244,
   "id": "b2ad0b1b",
   "metadata": {},
   "outputs": [
    {
     "data": {
      "text/html": [
       "<div>\n",
       "<style scoped>\n",
       "    .dataframe tbody tr th:only-of-type {\n",
       "        vertical-align: middle;\n",
       "    }\n",
       "\n",
       "    .dataframe tbody tr th {\n",
       "        vertical-align: top;\n",
       "    }\n",
       "\n",
       "    .dataframe thead th {\n",
       "        text-align: right;\n",
       "    }\n",
       "</style>\n",
       "<table border=\"1\" class=\"dataframe\">\n",
       "  <thead>\n",
       "    <tr style=\"text-align: right;\">\n",
       "      <th></th>\n",
       "      <th>Airline</th>\n",
       "      <th>Source</th>\n",
       "      <th>Destination</th>\n",
       "      <th>Route</th>\n",
       "      <th>Total_Stops</th>\n",
       "      <th>Additional_Info</th>\n",
       "    </tr>\n",
       "  </thead>\n",
       "  <tbody>\n",
       "    <tr>\n",
       "      <th>0</th>\n",
       "      <td>Jet Airways</td>\n",
       "      <td>Delhi</td>\n",
       "      <td>Cochin</td>\n",
       "      <td>DEL → BOM → COK</td>\n",
       "      <td>1 stop</td>\n",
       "      <td>No info</td>\n",
       "    </tr>\n",
       "    <tr>\n",
       "      <th>1</th>\n",
       "      <td>IndiGo</td>\n",
       "      <td>Kolkata</td>\n",
       "      <td>Banglore</td>\n",
       "      <td>CCU → MAA → BLR</td>\n",
       "      <td>1 stop</td>\n",
       "      <td>No info</td>\n",
       "    </tr>\n",
       "    <tr>\n",
       "      <th>2</th>\n",
       "      <td>Jet Airways</td>\n",
       "      <td>Delhi</td>\n",
       "      <td>Cochin</td>\n",
       "      <td>DEL → BOM → COK</td>\n",
       "      <td>1 stop</td>\n",
       "      <td>In-flight meal not included</td>\n",
       "    </tr>\n",
       "  </tbody>\n",
       "</table>\n",
       "</div>"
      ],
      "text/plain": [
       "       Airline   Source Destination            Route Total_Stops  \\\n",
       "0  Jet Airways    Delhi      Cochin  DEL → BOM → COK      1 stop   \n",
       "1       IndiGo  Kolkata    Banglore  CCU → MAA → BLR      1 stop   \n",
       "2  Jet Airways    Delhi      Cochin  DEL → BOM → COK      1 stop   \n",
       "\n",
       "               Additional_Info  \n",
       "0                      No info  \n",
       "1                      No info  \n",
       "2  In-flight meal not included  "
      ]
     },
     "execution_count": 244,
     "metadata": {},
     "output_type": "execute_result"
    }
   ],
   "source": [
    "Qualitative=live_data.select_dtypes(include=[object])\n",
    "Qualitative.head(3)"
   ]
  },
  {
   "cell_type": "code",
   "execution_count": 245,
   "id": "3c190ddf",
   "metadata": {},
   "outputs": [
    {
     "data": {
      "text/html": [
       "<div>\n",
       "<style scoped>\n",
       "    .dataframe tbody tr th:only-of-type {\n",
       "        vertical-align: middle;\n",
       "    }\n",
       "\n",
       "    .dataframe tbody tr th {\n",
       "        vertical-align: top;\n",
       "    }\n",
       "\n",
       "    .dataframe thead th {\n",
       "        text-align: right;\n",
       "    }\n",
       "</style>\n",
       "<table border=\"1\" class=\"dataframe\">\n",
       "  <thead>\n",
       "    <tr style=\"text-align: right;\">\n",
       "      <th></th>\n",
       "      <th>Airline</th>\n",
       "      <th>Source</th>\n",
       "      <th>Destination</th>\n",
       "      <th>Route</th>\n",
       "      <th>Total_Stops</th>\n",
       "      <th>Additional_Info</th>\n",
       "    </tr>\n",
       "  </thead>\n",
       "  <tbody>\n",
       "    <tr>\n",
       "      <th>0</th>\n",
       "      <td>4</td>\n",
       "      <td>2</td>\n",
       "      <td>1</td>\n",
       "      <td>76</td>\n",
       "      <td>0</td>\n",
       "      <td>5</td>\n",
       "    </tr>\n",
       "    <tr>\n",
       "      <th>1</th>\n",
       "      <td>3</td>\n",
       "      <td>3</td>\n",
       "      <td>0</td>\n",
       "      <td>65</td>\n",
       "      <td>0</td>\n",
       "      <td>5</td>\n",
       "    </tr>\n",
       "    <tr>\n",
       "      <th>2</th>\n",
       "      <td>4</td>\n",
       "      <td>2</td>\n",
       "      <td>1</td>\n",
       "      <td>76</td>\n",
       "      <td>0</td>\n",
       "      <td>3</td>\n",
       "    </tr>\n",
       "  </tbody>\n",
       "</table>\n",
       "</div>"
      ],
      "text/plain": [
       "   Airline  Source  Destination  Route  Total_Stops  Additional_Info\n",
       "0        4       2            1     76            0                5\n",
       "1        3       3            0     65            0                5\n",
       "2        4       2            1     76            0                3"
      ]
     },
     "execution_count": 245,
     "metadata": {},
     "output_type": "execute_result"
    }
   ],
   "source": [
    "# Apply Lable Encoder\n",
    "from sklearn.preprocessing import LabelEncoder\n",
    "Qualitative=Qualitative.apply(LabelEncoder().fit_transform)\n",
    "Qualitative.head(3)"
   ]
  },
  {
   "cell_type": "code",
   "execution_count": 246,
   "id": "e029f031",
   "metadata": {},
   "outputs": [
    {
     "data": {
      "text/html": [
       "<div>\n",
       "<style scoped>\n",
       "    .dataframe tbody tr th:only-of-type {\n",
       "        vertical-align: middle;\n",
       "    }\n",
       "\n",
       "    .dataframe tbody tr th {\n",
       "        vertical-align: top;\n",
       "    }\n",
       "\n",
       "    .dataframe thead th {\n",
       "        text-align: right;\n",
       "    }\n",
       "</style>\n",
       "<table border=\"1\" class=\"dataframe\">\n",
       "  <thead>\n",
       "    <tr style=\"text-align: right;\">\n",
       "      <th></th>\n",
       "      <th>Airline</th>\n",
       "      <th>Source</th>\n",
       "      <th>Destination</th>\n",
       "      <th>Route</th>\n",
       "      <th>Total_Stops</th>\n",
       "      <th>Additional_Info</th>\n",
       "      <th>Date</th>\n",
       "      <th>Month</th>\n",
       "      <th>Year</th>\n",
       "      <th>Duration_hour</th>\n",
       "      <th>Arrival_Hour</th>\n",
       "      <th>Arrival_Minute</th>\n",
       "      <th>Dep_Hour</th>\n",
       "      <th>Dep_Minute</th>\n",
       "    </tr>\n",
       "  </thead>\n",
       "  <tbody>\n",
       "    <tr>\n",
       "      <th>0</th>\n",
       "      <td>4</td>\n",
       "      <td>2</td>\n",
       "      <td>1</td>\n",
       "      <td>76</td>\n",
       "      <td>0</td>\n",
       "      <td>5</td>\n",
       "      <td>6</td>\n",
       "      <td>6</td>\n",
       "      <td>2019</td>\n",
       "      <td>10.916667</td>\n",
       "      <td>4</td>\n",
       "      <td>25</td>\n",
       "      <td>17</td>\n",
       "      <td>30</td>\n",
       "    </tr>\n",
       "    <tr>\n",
       "      <th>1</th>\n",
       "      <td>3</td>\n",
       "      <td>3</td>\n",
       "      <td>0</td>\n",
       "      <td>65</td>\n",
       "      <td>0</td>\n",
       "      <td>5</td>\n",
       "      <td>12</td>\n",
       "      <td>5</td>\n",
       "      <td>2019</td>\n",
       "      <td>4.000000</td>\n",
       "      <td>10</td>\n",
       "      <td>20</td>\n",
       "      <td>6</td>\n",
       "      <td>20</td>\n",
       "    </tr>\n",
       "    <tr>\n",
       "      <th>2</th>\n",
       "      <td>4</td>\n",
       "      <td>2</td>\n",
       "      <td>1</td>\n",
       "      <td>76</td>\n",
       "      <td>0</td>\n",
       "      <td>3</td>\n",
       "      <td>21</td>\n",
       "      <td>5</td>\n",
       "      <td>2019</td>\n",
       "      <td>23.750000</td>\n",
       "      <td>19</td>\n",
       "      <td>0</td>\n",
       "      <td>19</td>\n",
       "      <td>15</td>\n",
       "    </tr>\n",
       "  </tbody>\n",
       "</table>\n",
       "</div>"
      ],
      "text/plain": [
       "   Airline  Source  Destination  Route  Total_Stops  Additional_Info  Date  \\\n",
       "0        4       2            1     76            0                5     6   \n",
       "1        3       3            0     65            0                5    12   \n",
       "2        4       2            1     76            0                3    21   \n",
       "\n",
       "   Month  Year  Duration_hour  Arrival_Hour  Arrival_Minute  Dep_Hour  \\\n",
       "0      6  2019      10.916667             4              25        17   \n",
       "1      5  2019       4.000000            10              20         6   \n",
       "2      5  2019      23.750000            19               0        19   \n",
       "\n",
       "   Dep_Minute  \n",
       "0          30  \n",
       "1          20  \n",
       "2          15  "
      ]
     },
     "execution_count": 246,
     "metadata": {},
     "output_type": "execute_result"
    }
   ],
   "source": [
    "# Merge Numeric and Qualitative data\n",
    "final_data=pd.concat((Qualitative,Numeric),axis=1)\n",
    "final_data.head(3)"
   ]
  },
  {
   "cell_type": "markdown",
   "id": "59d7f5d6",
   "metadata": {},
   "source": [
    "# Apply Standard Scaler"
   ]
  },
  {
   "cell_type": "code",
   "execution_count": 247,
   "id": "8c08b55e",
   "metadata": {},
   "outputs": [],
   "source": [
    "from sklearn.preprocessing import StandardScaler\n",
    "scaler = StandardScaler()\n",
    "scaler.fit(final_data)\n",
    "final_data= scaler.transform(final_data)\n"
   ]
  },
  {
   "cell_type": "markdown",
   "id": "b373d597",
   "metadata": {},
   "source": [
    "# Used Extreme Boost model for prediction"
   ]
  },
  {
   "cell_type": "code",
   "execution_count": 248,
   "id": "d0ba41ad",
   "metadata": {},
   "outputs": [],
   "source": [
    "XGBlivedata= np.round(XGB.predict(final_data),2) # Model used in traintest data"
   ]
  },
  {
   "cell_type": "code",
   "execution_count": 249,
   "id": "6a83e3c3",
   "metadata": {},
   "outputs": [
    {
     "data": {
      "text/html": [
       "<div>\n",
       "<style scoped>\n",
       "    .dataframe tbody tr th:only-of-type {\n",
       "        vertical-align: middle;\n",
       "    }\n",
       "\n",
       "    .dataframe tbody tr th {\n",
       "        vertical-align: top;\n",
       "    }\n",
       "\n",
       "    .dataframe thead th {\n",
       "        text-align: right;\n",
       "    }\n",
       "</style>\n",
       "<table border=\"1\" class=\"dataframe\">\n",
       "  <thead>\n",
       "    <tr style=\"text-align: right;\">\n",
       "      <th></th>\n",
       "      <th>Airline</th>\n",
       "      <th>Date_of_Journey</th>\n",
       "      <th>Source</th>\n",
       "      <th>Destination</th>\n",
       "      <th>Route</th>\n",
       "      <th>Dep_Time</th>\n",
       "      <th>Arrival_Time</th>\n",
       "      <th>Duration</th>\n",
       "      <th>Total_Stops</th>\n",
       "      <th>Additional_Info</th>\n",
       "    </tr>\n",
       "  </thead>\n",
       "  <tbody>\n",
       "    <tr>\n",
       "      <th>0</th>\n",
       "      <td>Jet Airways</td>\n",
       "      <td>6/06/2019</td>\n",
       "      <td>Delhi</td>\n",
       "      <td>Cochin</td>\n",
       "      <td>DEL → BOM → COK</td>\n",
       "      <td>17:30</td>\n",
       "      <td>04:25 07 Jun</td>\n",
       "      <td>10h 55m</td>\n",
       "      <td>1 stop</td>\n",
       "      <td>No info</td>\n",
       "    </tr>\n",
       "    <tr>\n",
       "      <th>1</th>\n",
       "      <td>IndiGo</td>\n",
       "      <td>12/05/2019</td>\n",
       "      <td>Kolkata</td>\n",
       "      <td>Banglore</td>\n",
       "      <td>CCU → MAA → BLR</td>\n",
       "      <td>06:20</td>\n",
       "      <td>10:20</td>\n",
       "      <td>4h</td>\n",
       "      <td>1 stop</td>\n",
       "      <td>No info</td>\n",
       "    </tr>\n",
       "    <tr>\n",
       "      <th>2</th>\n",
       "      <td>Jet Airways</td>\n",
       "      <td>21/05/2019</td>\n",
       "      <td>Delhi</td>\n",
       "      <td>Cochin</td>\n",
       "      <td>DEL → BOM → COK</td>\n",
       "      <td>19:15</td>\n",
       "      <td>19:00 22 May</td>\n",
       "      <td>23h 45m</td>\n",
       "      <td>1 stop</td>\n",
       "      <td>In-flight meal not included</td>\n",
       "    </tr>\n",
       "    <tr>\n",
       "      <th>3</th>\n",
       "      <td>Multiple carriers</td>\n",
       "      <td>21/05/2019</td>\n",
       "      <td>Delhi</td>\n",
       "      <td>Cochin</td>\n",
       "      <td>DEL → BOM → COK</td>\n",
       "      <td>08:00</td>\n",
       "      <td>21:00</td>\n",
       "      <td>13h</td>\n",
       "      <td>1 stop</td>\n",
       "      <td>No info</td>\n",
       "    </tr>\n",
       "    <tr>\n",
       "      <th>4</th>\n",
       "      <td>Air Asia</td>\n",
       "      <td>24/06/2019</td>\n",
       "      <td>Banglore</td>\n",
       "      <td>Delhi</td>\n",
       "      <td>BLR → DEL</td>\n",
       "      <td>23:55</td>\n",
       "      <td>02:45 25 Jun</td>\n",
       "      <td>2h 50m</td>\n",
       "      <td>non-stop</td>\n",
       "      <td>No info</td>\n",
       "    </tr>\n",
       "    <tr>\n",
       "      <th>...</th>\n",
       "      <td>...</td>\n",
       "      <td>...</td>\n",
       "      <td>...</td>\n",
       "      <td>...</td>\n",
       "      <td>...</td>\n",
       "      <td>...</td>\n",
       "      <td>...</td>\n",
       "      <td>...</td>\n",
       "      <td>...</td>\n",
       "      <td>...</td>\n",
       "    </tr>\n",
       "    <tr>\n",
       "      <th>2666</th>\n",
       "      <td>Air India</td>\n",
       "      <td>6/06/2019</td>\n",
       "      <td>Kolkata</td>\n",
       "      <td>Banglore</td>\n",
       "      <td>CCU → DEL → BLR</td>\n",
       "      <td>20:30</td>\n",
       "      <td>20:25 07 Jun</td>\n",
       "      <td>23h 55m</td>\n",
       "      <td>1 stop</td>\n",
       "      <td>No info</td>\n",
       "    </tr>\n",
       "    <tr>\n",
       "      <th>2667</th>\n",
       "      <td>IndiGo</td>\n",
       "      <td>27/03/2019</td>\n",
       "      <td>Kolkata</td>\n",
       "      <td>Banglore</td>\n",
       "      <td>CCU → BLR</td>\n",
       "      <td>14:20</td>\n",
       "      <td>16:55</td>\n",
       "      <td>2h 35m</td>\n",
       "      <td>non-stop</td>\n",
       "      <td>No info</td>\n",
       "    </tr>\n",
       "    <tr>\n",
       "      <th>2668</th>\n",
       "      <td>Jet Airways</td>\n",
       "      <td>6/03/2019</td>\n",
       "      <td>Delhi</td>\n",
       "      <td>Cochin</td>\n",
       "      <td>DEL → BOM → COK</td>\n",
       "      <td>21:50</td>\n",
       "      <td>04:25 07 Mar</td>\n",
       "      <td>6h 35m</td>\n",
       "      <td>1 stop</td>\n",
       "      <td>No info</td>\n",
       "    </tr>\n",
       "    <tr>\n",
       "      <th>2669</th>\n",
       "      <td>Air India</td>\n",
       "      <td>6/03/2019</td>\n",
       "      <td>Delhi</td>\n",
       "      <td>Cochin</td>\n",
       "      <td>DEL → BOM → COK</td>\n",
       "      <td>04:00</td>\n",
       "      <td>19:15</td>\n",
       "      <td>15h 15m</td>\n",
       "      <td>1 stop</td>\n",
       "      <td>No info</td>\n",
       "    </tr>\n",
       "    <tr>\n",
       "      <th>2670</th>\n",
       "      <td>Multiple carriers</td>\n",
       "      <td>15/06/2019</td>\n",
       "      <td>Delhi</td>\n",
       "      <td>Cochin</td>\n",
       "      <td>DEL → BOM → COK</td>\n",
       "      <td>04:55</td>\n",
       "      <td>19:15</td>\n",
       "      <td>14h 20m</td>\n",
       "      <td>1 stop</td>\n",
       "      <td>No info</td>\n",
       "    </tr>\n",
       "  </tbody>\n",
       "</table>\n",
       "<p>2671 rows × 10 columns</p>\n",
       "</div>"
      ],
      "text/plain": [
       "                Airline Date_of_Journey    Source Destination  \\\n",
       "0           Jet Airways       6/06/2019     Delhi      Cochin   \n",
       "1                IndiGo      12/05/2019   Kolkata    Banglore   \n",
       "2           Jet Airways      21/05/2019     Delhi      Cochin   \n",
       "3     Multiple carriers      21/05/2019     Delhi      Cochin   \n",
       "4              Air Asia      24/06/2019  Banglore       Delhi   \n",
       "...                 ...             ...       ...         ...   \n",
       "2666          Air India       6/06/2019   Kolkata    Banglore   \n",
       "2667             IndiGo      27/03/2019   Kolkata    Banglore   \n",
       "2668        Jet Airways       6/03/2019     Delhi      Cochin   \n",
       "2669          Air India       6/03/2019     Delhi      Cochin   \n",
       "2670  Multiple carriers      15/06/2019     Delhi      Cochin   \n",
       "\n",
       "                Route Dep_Time  Arrival_Time Duration Total_Stops  \\\n",
       "0     DEL → BOM → COK    17:30  04:25 07 Jun  10h 55m      1 stop   \n",
       "1     CCU → MAA → BLR    06:20         10:20       4h      1 stop   \n",
       "2     DEL → BOM → COK    19:15  19:00 22 May  23h 45m      1 stop   \n",
       "3     DEL → BOM → COK    08:00         21:00      13h      1 stop   \n",
       "4           BLR → DEL    23:55  02:45 25 Jun   2h 50m    non-stop   \n",
       "...               ...      ...           ...      ...         ...   \n",
       "2666  CCU → DEL → BLR    20:30  20:25 07 Jun  23h 55m      1 stop   \n",
       "2667        CCU → BLR    14:20         16:55   2h 35m    non-stop   \n",
       "2668  DEL → BOM → COK    21:50  04:25 07 Mar   6h 35m      1 stop   \n",
       "2669  DEL → BOM → COK    04:00         19:15  15h 15m      1 stop   \n",
       "2670  DEL → BOM → COK    04:55         19:15  14h 20m      1 stop   \n",
       "\n",
       "                  Additional_Info  \n",
       "0                         No info  \n",
       "1                         No info  \n",
       "2     In-flight meal not included  \n",
       "3                         No info  \n",
       "4                         No info  \n",
       "...                           ...  \n",
       "2666                      No info  \n",
       "2667                      No info  \n",
       "2668                      No info  \n",
       "2669                      No info  \n",
       "2670                      No info  \n",
       "\n",
       "[2671 rows x 10 columns]"
      ]
     },
     "execution_count": 249,
     "metadata": {},
     "output_type": "execute_result"
    }
   ],
   "source": [
    "live_data1"
   ]
  },
  {
   "cell_type": "code",
   "execution_count": 250,
   "id": "887f6cea",
   "metadata": {},
   "outputs": [
    {
     "data": {
      "text/html": [
       "<div>\n",
       "<style scoped>\n",
       "    .dataframe tbody tr th:only-of-type {\n",
       "        vertical-align: middle;\n",
       "    }\n",
       "\n",
       "    .dataframe tbody tr th {\n",
       "        vertical-align: top;\n",
       "    }\n",
       "\n",
       "    .dataframe thead th {\n",
       "        text-align: right;\n",
       "    }\n",
       "</style>\n",
       "<table border=\"1\" class=\"dataframe\">\n",
       "  <thead>\n",
       "    <tr style=\"text-align: right;\">\n",
       "      <th></th>\n",
       "      <th>Airline</th>\n",
       "      <th>Date_of_Journey</th>\n",
       "      <th>Source</th>\n",
       "      <th>Destination</th>\n",
       "      <th>Route</th>\n",
       "      <th>Dep_Time</th>\n",
       "      <th>Arrival_Time</th>\n",
       "      <th>Duration</th>\n",
       "      <th>Total_Stops</th>\n",
       "      <th>Additional_Info</th>\n",
       "      <th>Predicted_value</th>\n",
       "      <th>Predicted_price</th>\n",
       "    </tr>\n",
       "  </thead>\n",
       "  <tbody>\n",
       "    <tr>\n",
       "      <th>0</th>\n",
       "      <td>Jet Airways</td>\n",
       "      <td>6/06/2019</td>\n",
       "      <td>Delhi</td>\n",
       "      <td>Cochin</td>\n",
       "      <td>DEL → BOM → COK</td>\n",
       "      <td>17:30</td>\n",
       "      <td>04:25 07 Jun</td>\n",
       "      <td>10h 55m</td>\n",
       "      <td>1 stop</td>\n",
       "      <td>No info</td>\n",
       "      <td>9.50</td>\n",
       "      <td>13359.726562</td>\n",
       "    </tr>\n",
       "    <tr>\n",
       "      <th>1</th>\n",
       "      <td>IndiGo</td>\n",
       "      <td>12/05/2019</td>\n",
       "      <td>Kolkata</td>\n",
       "      <td>Banglore</td>\n",
       "      <td>CCU → MAA → BLR</td>\n",
       "      <td>06:20</td>\n",
       "      <td>10:20</td>\n",
       "      <td>4h</td>\n",
       "      <td>1 stop</td>\n",
       "      <td>No info</td>\n",
       "      <td>8.54</td>\n",
       "      <td>5115.344727</td>\n",
       "    </tr>\n",
       "    <tr>\n",
       "      <th>2</th>\n",
       "      <td>Jet Airways</td>\n",
       "      <td>21/05/2019</td>\n",
       "      <td>Delhi</td>\n",
       "      <td>Cochin</td>\n",
       "      <td>DEL → BOM → COK</td>\n",
       "      <td>19:15</td>\n",
       "      <td>19:00 22 May</td>\n",
       "      <td>23h 45m</td>\n",
       "      <td>1 stop</td>\n",
       "      <td>In-flight meal not included</td>\n",
       "      <td>9.20</td>\n",
       "      <td>9897.126953</td>\n",
       "    </tr>\n",
       "  </tbody>\n",
       "</table>\n",
       "</div>"
      ],
      "text/plain": [
       "       Airline Date_of_Journey   Source Destination            Route Dep_Time  \\\n",
       "0  Jet Airways       6/06/2019    Delhi      Cochin  DEL → BOM → COK    17:30   \n",
       "1       IndiGo      12/05/2019  Kolkata    Banglore  CCU → MAA → BLR    06:20   \n",
       "2  Jet Airways      21/05/2019    Delhi      Cochin  DEL → BOM → COK    19:15   \n",
       "\n",
       "   Arrival_Time Duration Total_Stops              Additional_Info  \\\n",
       "0  04:25 07 Jun  10h 55m      1 stop                      No info   \n",
       "1         10:20       4h      1 stop                      No info   \n",
       "2  19:00 22 May  23h 45m      1 stop  In-flight meal not included   \n",
       "\n",
       "   Predicted_value  Predicted_price  \n",
       "0             9.50     13359.726562  \n",
       "1             8.54      5115.344727  \n",
       "2             9.20      9897.126953  "
      ]
     },
     "execution_count": 250,
     "metadata": {},
     "output_type": "execute_result"
    }
   ],
   "source": [
    "live_data1['Predicted_value'] = np.round(XGB.predict(final_data),2)\n",
    "#live_data['Residual'] = np.round(live_data.Price - test.Predicted,2)\n",
    "live_data1['Predicted_price']=np.exp(live_data1.Predicted_value)\n",
    "live_data1.head(3)"
   ]
  },
  {
   "cell_type": "code",
   "execution_count": 251,
   "id": "1c0f41e8",
   "metadata": {},
   "outputs": [
    {
     "data": {
      "text/html": [
       "<div>\n",
       "<style scoped>\n",
       "    .dataframe tbody tr th:only-of-type {\n",
       "        vertical-align: middle;\n",
       "    }\n",
       "\n",
       "    .dataframe tbody tr th {\n",
       "        vertical-align: top;\n",
       "    }\n",
       "\n",
       "    .dataframe thead th {\n",
       "        text-align: right;\n",
       "    }\n",
       "</style>\n",
       "<table border=\"1\" class=\"dataframe\">\n",
       "  <thead>\n",
       "    <tr style=\"text-align: right;\">\n",
       "      <th></th>\n",
       "      <th>Airline</th>\n",
       "      <th>Source</th>\n",
       "      <th>Destination</th>\n",
       "      <th>Total_Stops</th>\n",
       "      <th>Predicted_price</th>\n",
       "    </tr>\n",
       "  </thead>\n",
       "  <tbody>\n",
       "    <tr>\n",
       "      <th>0</th>\n",
       "      <td>Jet Airways</td>\n",
       "      <td>Delhi</td>\n",
       "      <td>Cochin</td>\n",
       "      <td>1 stop</td>\n",
       "      <td>13359.726562</td>\n",
       "    </tr>\n",
       "    <tr>\n",
       "      <th>1</th>\n",
       "      <td>IndiGo</td>\n",
       "      <td>Kolkata</td>\n",
       "      <td>Banglore</td>\n",
       "      <td>1 stop</td>\n",
       "      <td>5115.344727</td>\n",
       "    </tr>\n",
       "    <tr>\n",
       "      <th>2</th>\n",
       "      <td>Jet Airways</td>\n",
       "      <td>Delhi</td>\n",
       "      <td>Cochin</td>\n",
       "      <td>1 stop</td>\n",
       "      <td>9897.126953</td>\n",
       "    </tr>\n",
       "    <tr>\n",
       "      <th>3</th>\n",
       "      <td>Multiple carriers</td>\n",
       "      <td>Delhi</td>\n",
       "      <td>Cochin</td>\n",
       "      <td>1 stop</td>\n",
       "      <td>9136.200195</td>\n",
       "    </tr>\n",
       "    <tr>\n",
       "      <th>4</th>\n",
       "      <td>Air Asia</td>\n",
       "      <td>Banglore</td>\n",
       "      <td>Delhi</td>\n",
       "      <td>non-stop</td>\n",
       "      <td>4315.635742</td>\n",
       "    </tr>\n",
       "    <tr>\n",
       "      <th>...</th>\n",
       "      <td>...</td>\n",
       "      <td>...</td>\n",
       "      <td>...</td>\n",
       "      <td>...</td>\n",
       "      <td>...</td>\n",
       "    </tr>\n",
       "    <tr>\n",
       "      <th>2666</th>\n",
       "      <td>Air India</td>\n",
       "      <td>Kolkata</td>\n",
       "      <td>Banglore</td>\n",
       "      <td>1 stop</td>\n",
       "      <td>7115.280273</td>\n",
       "    </tr>\n",
       "    <tr>\n",
       "      <th>2667</th>\n",
       "      <td>IndiGo</td>\n",
       "      <td>Kolkata</td>\n",
       "      <td>Banglore</td>\n",
       "      <td>non-stop</td>\n",
       "      <td>4272.693359</td>\n",
       "    </tr>\n",
       "    <tr>\n",
       "      <th>2668</th>\n",
       "      <td>Jet Airways</td>\n",
       "      <td>Delhi</td>\n",
       "      <td>Cochin</td>\n",
       "      <td>1 stop</td>\n",
       "      <td>14617.871094</td>\n",
       "    </tr>\n",
       "    <tr>\n",
       "      <th>2669</th>\n",
       "      <td>Air India</td>\n",
       "      <td>Delhi</td>\n",
       "      <td>Cochin</td>\n",
       "      <td>1 stop</td>\n",
       "      <td>10097.067383</td>\n",
       "    </tr>\n",
       "    <tr>\n",
       "      <th>2670</th>\n",
       "      <td>Multiple carriers</td>\n",
       "      <td>Delhi</td>\n",
       "      <td>Cochin</td>\n",
       "      <td>1 stop</td>\n",
       "      <td>10198.537109</td>\n",
       "    </tr>\n",
       "  </tbody>\n",
       "</table>\n",
       "<p>2671 rows × 5 columns</p>\n",
       "</div>"
      ],
      "text/plain": [
       "                Airline    Source Destination Total_Stops  Predicted_price\n",
       "0           Jet Airways     Delhi      Cochin      1 stop     13359.726562\n",
       "1                IndiGo   Kolkata    Banglore      1 stop      5115.344727\n",
       "2           Jet Airways     Delhi      Cochin      1 stop      9897.126953\n",
       "3     Multiple carriers     Delhi      Cochin      1 stop      9136.200195\n",
       "4              Air Asia  Banglore       Delhi    non-stop      4315.635742\n",
       "...                 ...       ...         ...         ...              ...\n",
       "2666          Air India   Kolkata    Banglore      1 stop      7115.280273\n",
       "2667             IndiGo   Kolkata    Banglore    non-stop      4272.693359\n",
       "2668        Jet Airways     Delhi      Cochin      1 stop     14617.871094\n",
       "2669          Air India     Delhi      Cochin      1 stop     10097.067383\n",
       "2670  Multiple carriers     Delhi      Cochin      1 stop     10198.537109\n",
       "\n",
       "[2671 rows x 5 columns]"
      ]
     },
     "execution_count": 251,
     "metadata": {},
     "output_type": "execute_result"
    }
   ],
   "source": [
    "live_data1.loc[:,['Airline','Source','Destination','Total_Stops','Predicted_price']]"
   ]
  },
  {
   "cell_type": "markdown",
   "id": "50225d98",
   "metadata": {},
   "source": [
    "# Conclusion :\n",
    "\n",
    "* Model Predicted data have 85% Accuracy\n",
    "* Prediction can vary +-1.222"
   ]
  },
  {
   "cell_type": "code",
   "execution_count": 252,
   "id": "ac4714e1",
   "metadata": {},
   "outputs": [
    {
     "data": {
      "text/plain": [
       "<Axes: xlabel='Predicted_price', ylabel='Airline'>"
      ]
     },
     "execution_count": 252,
     "metadata": {},
     "output_type": "execute_result"
    },
    {
     "data": {
      "image/png": "[encoded data removed]",
      "text/plain": [
       "<Figure size 640x480 with 1 Axes>"
      ]
     },
     "metadata": {},
     "output_type": "display_data"
    }
   ],
   "source": [
    "sns.barplot(x=live_data1['Predicted_price'],y=live_data1['Airline'])"
   ]
  }
 ],
 "metadata": {
  "kernelspec": {
   "display_name": "Python 3 (ipykernel)",
   "language": "python",
   "name": "python3"
  },
  "language_info": {
   "codemirror_mode": {
    "name": "ipython",
    "version": 3
   },
   "file_extension": ".py",
   "mimetype": "text/x-python",
   "name": "python",
   "nbconvert_exporter": "python",
   "pygments_lexer": "ipython3",
   "version": "3.11.5"
  }
 },
 "nbformat": 4,
 "nbformat_minor": 5
}
